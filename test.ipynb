{
 "cells": [
  {
   "cell_type": "code",
   "execution_count": null,
   "metadata": {},
   "outputs": [],
   "source": [
    "import torchvision.models as models\n",
    "from pprint import pprint\n",
    "import torch"
   ]
  },
  {
   "cell_type": "code",
   "execution_count": 2,
   "metadata": {},
   "outputs": [],
   "source": [
    "MODELS = {'slow_r50': \"torch.hub.load\",\n",
    "          'slowfast_r101': \"torch.hub.load\",\n",
    "          'slowfast_r50': \"torch.hub.load\",\n",
    "          'x3d_m': \"torch.hub.load\",\n",
    "          'x3d_s': \"torch.hub.load\",\n",
    "          'x3d_xs': \"torch.hub.load\"}\n",
    "\n",
    "\n",
    "MODEL_NODES = {'slow_r50': ['blocks.1', 'blocks.2', 'blocks.3', 'blocks.4', 'blocks.5'],\n",
    "               'slowfast_r101': ['blocks.1', 'blocks.2', 'blocks.3', 'blocks.4', 'blocks.5', 'blocks.6'],\n",
    "               'slowfast_r50': ['blocks.1', 'blocks.2', 'blocks.3', 'blocks.4', 'blocks.5', 'blocks.6'],\n",
    "               'x3d_l': ['blocks.1', 'blocks.2', 'blocks.3', 'blocks.4', 'blocks.5'],\n",
    "               'x3d_m': ['blocks.1', 'blocks.2', 'blocks.3', 'blocks.4', 'blocks.5'],\n",
    "               'x3d_s': ['blocks.1', 'blocks.2', 'blocks.3', 'blocks.4', 'blocks.5'],\n",
    "               'x3d_xs': ['blocks.1', 'blocks.2', 'blocks.3', 'blocks.4', 'blocks.5']}\n"
   ]
  },
  {
   "cell_type": "code",
   "execution_count": 3,
   "metadata": {},
   "outputs": [],
   "source": [
    "import json\n",
    "\n",
    "def dicts_to_json(models, model_nodes):\n",
    "    merged_dict = {}\n",
    "    for model_name, model_func in models.items():\n",
    "        merged_dict[model_name] = {\n",
    "            \"model\": str(model_func),\n",
    "            \"nodes\": model_nodes.get(model_name, [])\n",
    "        }\n",
    "    return json.dumps(merged_dict, indent=4)\n",
    "\n",
    "# Convert the MODELS and MODEL_NODES to JSON format\n",
    "json_output = dicts_to_json(MODELS, MODEL_NODES)\n",
    "\n",
    "# If you want to save it to a file:\n",
    "with open(\"models_config.json\", \"w\") as file:\n",
    "    file.write(json_output)"
   ]
  },
  {
   "cell_type": "code",
   "execution_count": null,
   "metadata": {},
   "outputs": [],
   "source": [
    "json_output"
   ]
  },
  {
   "cell_type": "markdown",
   "metadata": {},
   "source": [
    "# Trying out torch feature extraction"
   ]
  },
  {
   "cell_type": "code",
   "execution_count": null,
   "metadata": {},
   "outputs": [],
   "source": [
    "from pprint import pprint\n",
    "import torch\n",
    "from torchvision.models import resnet50\n",
    "from torchvision.models.feature_extraction import get_graph_node_names\n",
    "from torchvision.models.feature_extraction import create_feature_extractor\n",
    "from torchvision.models.detection.mask_rcnn import MaskRCNN\n",
    "from torchvision.models.detection.backbone_utils import LastLevelMaxPool\n",
    "from torchvision.ops.feature_pyramid_network import FeaturePyramidNetwork"
   ]
  },
  {
   "cell_type": "code",
   "execution_count": null,
   "metadata": {},
   "outputs": [],
   "source": [
    "m = resnet50()\n",
    "train_nodes, eval_nodes = get_graph_node_names(resnet50())\n",
    "\n",
    "pprint(train_nodes)"
   ]
  },
  {
   "cell_type": "code",
   "execution_count": null,
   "metadata": {},
   "outputs": [],
   "source": [
    "extractor = create_feature_extractor(m, return_nodes=['layer4.0.bn1','layer4.0.relu'])#\n",
    "out = extractor(torch.zeros(1, 3, 32, 32))"
   ]
  },
  {
   "cell_type": "code",
   "execution_count": null,
   "metadata": {},
   "outputs": [],
   "source": [
    "out"
   ]
  },
  {
   "cell_type": "markdown",
   "metadata": {},
   "source": [
    "# Try with Standard Models"
   ]
  },
  {
   "cell_type": "code",
   "execution_count": 1,
   "metadata": {},
   "outputs": [
    {
     "name": "stdout",
     "output_type": "stream",
     "text": [
      "['', 'features', 'features.0', 'features.1', 'features.2', 'features.3', 'features.4', 'features.5', 'features.6', 'features.7', 'features.8', 'features.9', 'features.10', 'features.11', 'features.12', 'avgpool', 'classifier', 'classifier.0', 'classifier.1', 'classifier.2', 'classifier.3', 'classifier.4', 'classifier.5', 'classifier.6']\n"
     ]
    }
   ],
   "source": [
    "from feature_extraction import FeatureExtractor\n",
    "\n",
    "path=\"C:/Users/Domenic/Documents/Repositories/Net2Brain/notebooks/Workshops/bonner_pnas2017/stimuli_data\"\n",
    "\n",
    "extractor = FeatureExtractor(\"AlexNet\", \"Standard\", path, device=\"cpu\")\n",
    "\n",
    "layers_to_extract = extractor.layers_to_extract()\n",
    "\n",
    "print(layers_to_extract)"
   ]
  },
  {
   "cell_type": "code",
   "execution_count": 2,
   "metadata": {},
   "outputs": [
    {
     "name": "stderr",
     "output_type": "stream",
     "text": [
      "100%|██████████| 50/50 [00:02<00:00, 23.98it/s]\n",
      "100%|██████████| 1/1 [00:02<00:00,  2.23s/it]\n"
     ]
    }
   ],
   "source": [
    "extractor.extract([\"features.0\"])\n",
    "\n",
    "extractor.consolidate_per_layer()"
   ]
  },
  {
   "cell_type": "markdown",
   "metadata": {},
   "source": [
    "# Try with Timm Models"
   ]
  },
  {
   "cell_type": "code",
   "execution_count": null,
   "metadata": {},
   "outputs": [],
   "source": [
    "from feature_extraction import FeatureExtractor\n",
    "\n",
    "path=\"C:/Users/Domenic/Documents/Repositories/Net2Brain/notebooks/Workshops/bonner_pnas2017/stimuli_data\"\n",
    "\n",
    "extractor = FeatureExtractor(\"resnet18\", \"Timm\", path, device=\"cpu\")\n",
    "\n",
    "extractor.extract(layers_to_extract=[\"conv1\"])"
   ]
  },
  {
   "cell_type": "code",
   "execution_count": null,
   "metadata": {},
   "outputs": [],
   "source": [
    "extractor.consolidate_per_layer()"
   ]
  },
  {
   "cell_type": "markdown",
   "metadata": {},
   "source": [
    "# Try with Taskonomy Models"
   ]
  },
  {
   "cell_type": "code",
   "execution_count": null,
   "metadata": {},
   "outputs": [],
   "source": [
    "from feature_extraction import FeatureExtractor\n",
    "\n",
    "path=\"C:/Users/Domenic/Documents/Repositories/Net2Brain/notebooks/Workshops/bonner_pnas2017/stimuli_data\"\n",
    "\n",
    "extractor = FeatureExtractor(\"autoencoding\", \"Taskonomy\", path, device=\"cpu\")\n",
    "\n",
    "layers_to_extract = extractor.layers_to_extract()\n",
    "\n",
    "print(layers_to_extract)\n",
    "\n",
    "extractor.extract(layers_to_extract=[\"conv1\"])\n",
    "\n",
    "extractor.consolidate_per_layer()"
   ]
  },
  {
   "cell_type": "code",
   "execution_count": null,
   "metadata": {},
   "outputs": [],
   "source": [
    "from feature_extraction import FeatureExtractor\n",
    "\n",
    "path=\"C:/Users/Domenic/Documents/Repositories/Net2Brain/notebooks/Workshops/bonner_pnas2017/stimuli_data\"\n",
    "\n",
    "extractor = FeatureExtractor(\"colorization\", \"Taskonomy\", path, device=\"cpu\")\n",
    "\n",
    "layers_to_extract = extractor.layers_to_extract()\n",
    "\n",
    "print(layers_to_extract)\n",
    "\n",
    "extractor.extract(layers_to_extract=[\"conv1\"])\n",
    "\n",
    "extractor.consolidate_per_layer()"
   ]
  },
  {
   "cell_type": "markdown",
   "metadata": {},
   "source": [
    "# Try with Toolbox Models"
   ]
  },
  {
   "cell_type": "code",
   "execution_count": null,
   "metadata": {},
   "outputs": [],
   "source": [
    "from feature_extraction import FeatureExtractor\n",
    "\n",
    "path=\"C:/Users/Domenic/Documents/Repositories/Net2Brain/notebooks/Workshops/bonner_pnas2017/stimuli_data\"\n",
    "\n",
    "extractor = FeatureExtractor(\"Places365\", \"Toolbox\", path, device=\"cpu\")\n",
    "\n",
    "layers_to_extract = extractor.layers_to_extract()\n",
    "\n",
    "print(layers_to_extract)\n",
    "\n",
    "extractor.extract(layers_to_extract=[\"model.1\"])\n",
    "\n",
    "extractor.consolidate_per_layer()"
   ]
  },
  {
   "cell_type": "code",
   "execution_count": null,
   "metadata": {},
   "outputs": [],
   "source": [
    "from feature_extraction import FeatureExtractor\n",
    "\n",
    "path=\"C:/Users/Domenic/Documents/Repositories/Net2Brain/notebooks/Workshops/bonner_pnas2017/stimuli_data\"\n",
    "\n",
    "extractor = FeatureExtractor(\"SceneParsing\", \"Toolbox\", path, device=\"cpu\")\n",
    "\n",
    "layers_to_extract = extractor.layers_to_extract()\n",
    "\n",
    "print(layers_to_extract)\n",
    "\n",
    "# extractor.extract(layers_to_extract=[\"model.1\"])\n",
    "\n",
    "# extractor.consolidate_per_layer()"
   ]
  },
  {
   "cell_type": "markdown",
   "metadata": {},
   "source": [
    "# Try with Torchhub Models"
   ]
  },
  {
   "cell_type": "code",
   "execution_count": null,
   "metadata": {},
   "outputs": [],
   "source": [
    "from feature_extraction import FeatureExtractor\n",
    "\n",
    "path=\"C:/Users/Domenic/Documents/Repositories/Net2Brain/notebooks/Workshops/bonner_pnas2017/stimuli_data\"\n",
    "\n",
    "extractor = FeatureExtractor(\"deeplabv3_resnet101\", \"Pytorch\", path, device=\"cpu\")\n",
    "\n",
    "layers_to_extract = extractor.layers_to_extract()\n",
    "\n",
    "print(layers_to_extract)\n",
    "\n",
    "extractor.extract(layers_to_extract=[\"backbone.conv1\"])\n",
    "\n",
    "extractor.consolidate_per_layer()"
   ]
  },
  {
   "cell_type": "markdown",
   "metadata": {},
   "source": [
    "# Try with Cornet"
   ]
  },
  {
   "cell_type": "code",
   "execution_count": null,
   "metadata": {},
   "outputs": [],
   "source": [
    "from feature_extraction import FeatureExtractor\n",
    "\n",
    "path=\"C:/Users/Domenic/Documents/Repositories/Net2Brain/notebooks/Workshops/bonner_pnas2017/stimuli_data\"\n",
    "\n",
    "extractor = FeatureExtractor(\"cornet_rt\", \"Cornet\", path, device=\"cpu\")\n",
    "\n",
    "layers_to_extract = extractor.layers_to_extract()\n",
    "\n",
    "print(layers_to_extract)\n",
    "\n",
    "extractor.extract(layers_to_extract=[\"module.V1\"])\n",
    "\n",
    "extractor.consolidate_per_layer()"
   ]
  },
  {
   "cell_type": "code",
   "execution_count": null,
   "metadata": {},
   "outputs": [],
   "source": [
    "from feature_extraction import FeatureExtractor\n",
    "\n",
    "path=\"C:/Users/Domenic/Documents/Repositories/Net2Brain/notebooks/Workshops/bonner_pnas2017/stimuli_data\"\n",
    "\n",
    "extractor = FeatureExtractor(\"cornet_z\", \"Cornet\", path, device=\"cpu\")\n",
    "\n",
    "layers_to_extract = extractor.layers_to_extract()\n",
    "\n",
    "print(layers_to_extract)\n",
    "\n",
    "extractor.extract(layers_to_extract=[\"module.V1\"])\n",
    "\n",
    "extractor.consolidate_per_layer()"
   ]
  },
  {
   "cell_type": "markdown",
   "metadata": {},
   "source": [
    "# Try with UNET"
   ]
  },
  {
   "cell_type": "code",
   "execution_count": null,
   "metadata": {},
   "outputs": [],
   "source": [
    "from feature_extraction import FeatureExtractor\n",
    "\n",
    "path=\"C:/Users/Domenic/Documents/Repositories/Net2Brain/notebooks/Workshops/bonner_pnas2017/stimuli_data\"\n",
    "\n",
    "extractor = FeatureExtractor(\"unet\", \"Unet\", path, device=\"cpu\")\n",
    "\n",
    "layers_to_extract = extractor.layers_to_extract()\n",
    "\n",
    "print(layers_to_extract)\n",
    "\n",
    "extractor.extract(layers_to_extract=[\"encoder1\"])\n",
    "\n",
    "extractor.consolidate_per_layer()"
   ]
  },
  {
   "cell_type": "markdown",
   "metadata": {},
   "source": [
    "# Try with CLIP"
   ]
  },
  {
   "cell_type": "code",
   "execution_count": 3,
   "metadata": {},
   "outputs": [
    {
     "name": "stdout",
     "output_type": "stream",
     "text": [
      "['', 'visual', 'visual.conv1', 'visual.bn1', 'visual.relu1', 'visual.conv2', 'visual.bn2', 'visual.relu2', 'visual.conv3', 'visual.bn3', 'visual.relu3', 'visual.avgpool', 'visual.layer1', 'visual.layer1.0', 'visual.layer1.0.conv1', 'visual.layer1.0.bn1', 'visual.layer1.0.relu1', 'visual.layer1.0.conv2', 'visual.layer1.0.bn2', 'visual.layer1.0.relu2', 'visual.layer1.0.avgpool', 'visual.layer1.0.conv3', 'visual.layer1.0.bn3', 'visual.layer1.0.relu3', 'visual.layer1.0.downsample', 'visual.layer1.0.downsample.-1', 'visual.layer1.0.downsample.0', 'visual.layer1.0.downsample.1', 'visual.layer1.1', 'visual.layer1.1.conv1', 'visual.layer1.1.bn1', 'visual.layer1.1.relu1', 'visual.layer1.1.conv2', 'visual.layer1.1.bn2', 'visual.layer1.1.relu2', 'visual.layer1.1.avgpool', 'visual.layer1.1.conv3', 'visual.layer1.1.bn3', 'visual.layer1.1.relu3', 'visual.layer1.2', 'visual.layer1.2.conv1', 'visual.layer1.2.bn1', 'visual.layer1.2.relu1', 'visual.layer1.2.conv2', 'visual.layer1.2.bn2', 'visual.layer1.2.relu2', 'visual.layer1.2.avgpool', 'visual.layer1.2.conv3', 'visual.layer1.2.bn3', 'visual.layer1.2.relu3', 'visual.layer2', 'visual.layer2.0', 'visual.layer2.0.conv1', 'visual.layer2.0.bn1', 'visual.layer2.0.relu1', 'visual.layer2.0.conv2', 'visual.layer2.0.bn2', 'visual.layer2.0.relu2', 'visual.layer2.0.avgpool', 'visual.layer2.0.conv3', 'visual.layer2.0.bn3', 'visual.layer2.0.relu3', 'visual.layer2.0.downsample', 'visual.layer2.0.downsample.-1', 'visual.layer2.0.downsample.0', 'visual.layer2.0.downsample.1', 'visual.layer2.1', 'visual.layer2.1.conv1', 'visual.layer2.1.bn1', 'visual.layer2.1.relu1', 'visual.layer2.1.conv2', 'visual.layer2.1.bn2', 'visual.layer2.1.relu2', 'visual.layer2.1.avgpool', 'visual.layer2.1.conv3', 'visual.layer2.1.bn3', 'visual.layer2.1.relu3', 'visual.layer2.2', 'visual.layer2.2.conv1', 'visual.layer2.2.bn1', 'visual.layer2.2.relu1', 'visual.layer2.2.conv2', 'visual.layer2.2.bn2', 'visual.layer2.2.relu2', 'visual.layer2.2.avgpool', 'visual.layer2.2.conv3', 'visual.layer2.2.bn3', 'visual.layer2.2.relu3', 'visual.layer2.3', 'visual.layer2.3.conv1', 'visual.layer2.3.bn1', 'visual.layer2.3.relu1', 'visual.layer2.3.conv2', 'visual.layer2.3.bn2', 'visual.layer2.3.relu2', 'visual.layer2.3.avgpool', 'visual.layer2.3.conv3', 'visual.layer2.3.bn3', 'visual.layer2.3.relu3', 'visual.layer3', 'visual.layer3.0', 'visual.layer3.0.conv1', 'visual.layer3.0.bn1', 'visual.layer3.0.relu1', 'visual.layer3.0.conv2', 'visual.layer3.0.bn2', 'visual.layer3.0.relu2', 'visual.layer3.0.avgpool', 'visual.layer3.0.conv3', 'visual.layer3.0.bn3', 'visual.layer3.0.relu3', 'visual.layer3.0.downsample', 'visual.layer3.0.downsample.-1', 'visual.layer3.0.downsample.0', 'visual.layer3.0.downsample.1', 'visual.layer3.1', 'visual.layer3.1.conv1', 'visual.layer3.1.bn1', 'visual.layer3.1.relu1', 'visual.layer3.1.conv2', 'visual.layer3.1.bn2', 'visual.layer3.1.relu2', 'visual.layer3.1.avgpool', 'visual.layer3.1.conv3', 'visual.layer3.1.bn3', 'visual.layer3.1.relu3', 'visual.layer3.2', 'visual.layer3.2.conv1', 'visual.layer3.2.bn1', 'visual.layer3.2.relu1', 'visual.layer3.2.conv2', 'visual.layer3.2.bn2', 'visual.layer3.2.relu2', 'visual.layer3.2.avgpool', 'visual.layer3.2.conv3', 'visual.layer3.2.bn3', 'visual.layer3.2.relu3', 'visual.layer3.3', 'visual.layer3.3.conv1', 'visual.layer3.3.bn1', 'visual.layer3.3.relu1', 'visual.layer3.3.conv2', 'visual.layer3.3.bn2', 'visual.layer3.3.relu2', 'visual.layer3.3.avgpool', 'visual.layer3.3.conv3', 'visual.layer3.3.bn3', 'visual.layer3.3.relu3', 'visual.layer3.4', 'visual.layer3.4.conv1', 'visual.layer3.4.bn1', 'visual.layer3.4.relu1', 'visual.layer3.4.conv2', 'visual.layer3.4.bn2', 'visual.layer3.4.relu2', 'visual.layer3.4.avgpool', 'visual.layer3.4.conv3', 'visual.layer3.4.bn3', 'visual.layer3.4.relu3', 'visual.layer3.5', 'visual.layer3.5.conv1', 'visual.layer3.5.bn1', 'visual.layer3.5.relu1', 'visual.layer3.5.conv2', 'visual.layer3.5.bn2', 'visual.layer3.5.relu2', 'visual.layer3.5.avgpool', 'visual.layer3.5.conv3', 'visual.layer3.5.bn3', 'visual.layer3.5.relu3', 'visual.layer3.6', 'visual.layer3.6.conv1', 'visual.layer3.6.bn1', 'visual.layer3.6.relu1', 'visual.layer3.6.conv2', 'visual.layer3.6.bn2', 'visual.layer3.6.relu2', 'visual.layer3.6.avgpool', 'visual.layer3.6.conv3', 'visual.layer3.6.bn3', 'visual.layer3.6.relu3', 'visual.layer3.7', 'visual.layer3.7.conv1', 'visual.layer3.7.bn1', 'visual.layer3.7.relu1', 'visual.layer3.7.conv2', 'visual.layer3.7.bn2', 'visual.layer3.7.relu2', 'visual.layer3.7.avgpool', 'visual.layer3.7.conv3', 'visual.layer3.7.bn3', 'visual.layer3.7.relu3', 'visual.layer3.8', 'visual.layer3.8.conv1', 'visual.layer3.8.bn1', 'visual.layer3.8.relu1', 'visual.layer3.8.conv2', 'visual.layer3.8.bn2', 'visual.layer3.8.relu2', 'visual.layer3.8.avgpool', 'visual.layer3.8.conv3', 'visual.layer3.8.bn3', 'visual.layer3.8.relu3', 'visual.layer3.9', 'visual.layer3.9.conv1', 'visual.layer3.9.bn1', 'visual.layer3.9.relu1', 'visual.layer3.9.conv2', 'visual.layer3.9.bn2', 'visual.layer3.9.relu2', 'visual.layer3.9.avgpool', 'visual.layer3.9.conv3', 'visual.layer3.9.bn3', 'visual.layer3.9.relu3', 'visual.layer3.10', 'visual.layer3.10.conv1', 'visual.layer3.10.bn1', 'visual.layer3.10.relu1', 'visual.layer3.10.conv2', 'visual.layer3.10.bn2', 'visual.layer3.10.relu2', 'visual.layer3.10.avgpool', 'visual.layer3.10.conv3', 'visual.layer3.10.bn3', 'visual.layer3.10.relu3', 'visual.layer3.11', 'visual.layer3.11.conv1', 'visual.layer3.11.bn1', 'visual.layer3.11.relu1', 'visual.layer3.11.conv2', 'visual.layer3.11.bn2', 'visual.layer3.11.relu2', 'visual.layer3.11.avgpool', 'visual.layer3.11.conv3', 'visual.layer3.11.bn3', 'visual.layer3.11.relu3', 'visual.layer3.12', 'visual.layer3.12.conv1', 'visual.layer3.12.bn1', 'visual.layer3.12.relu1', 'visual.layer3.12.conv2', 'visual.layer3.12.bn2', 'visual.layer3.12.relu2', 'visual.layer3.12.avgpool', 'visual.layer3.12.conv3', 'visual.layer3.12.bn3', 'visual.layer3.12.relu3', 'visual.layer3.13', 'visual.layer3.13.conv1', 'visual.layer3.13.bn1', 'visual.layer3.13.relu1', 'visual.layer3.13.conv2', 'visual.layer3.13.bn2', 'visual.layer3.13.relu2', 'visual.layer3.13.avgpool', 'visual.layer3.13.conv3', 'visual.layer3.13.bn3', 'visual.layer3.13.relu3', 'visual.layer3.14', 'visual.layer3.14.conv1', 'visual.layer3.14.bn1', 'visual.layer3.14.relu1', 'visual.layer3.14.conv2', 'visual.layer3.14.bn2', 'visual.layer3.14.relu2', 'visual.layer3.14.avgpool', 'visual.layer3.14.conv3', 'visual.layer3.14.bn3', 'visual.layer3.14.relu3', 'visual.layer3.15', 'visual.layer3.15.conv1', 'visual.layer3.15.bn1', 'visual.layer3.15.relu1', 'visual.layer3.15.conv2', 'visual.layer3.15.bn2', 'visual.layer3.15.relu2', 'visual.layer3.15.avgpool', 'visual.layer3.15.conv3', 'visual.layer3.15.bn3', 'visual.layer3.15.relu3', 'visual.layer3.16', 'visual.layer3.16.conv1', 'visual.layer3.16.bn1', 'visual.layer3.16.relu1', 'visual.layer3.16.conv2', 'visual.layer3.16.bn2', 'visual.layer3.16.relu2', 'visual.layer3.16.avgpool', 'visual.layer3.16.conv3', 'visual.layer3.16.bn3', 'visual.layer3.16.relu3', 'visual.layer3.17', 'visual.layer3.17.conv1', 'visual.layer3.17.bn1', 'visual.layer3.17.relu1', 'visual.layer3.17.conv2', 'visual.layer3.17.bn2', 'visual.layer3.17.relu2', 'visual.layer3.17.avgpool', 'visual.layer3.17.conv3', 'visual.layer3.17.bn3', 'visual.layer3.17.relu3', 'visual.layer3.18', 'visual.layer3.18.conv1', 'visual.layer3.18.bn1', 'visual.layer3.18.relu1', 'visual.layer3.18.conv2', 'visual.layer3.18.bn2', 'visual.layer3.18.relu2', 'visual.layer3.18.avgpool', 'visual.layer3.18.conv3', 'visual.layer3.18.bn3', 'visual.layer3.18.relu3', 'visual.layer3.19', 'visual.layer3.19.conv1', 'visual.layer3.19.bn1', 'visual.layer3.19.relu1', 'visual.layer3.19.conv2', 'visual.layer3.19.bn2', 'visual.layer3.19.relu2', 'visual.layer3.19.avgpool', 'visual.layer3.19.conv3', 'visual.layer3.19.bn3', 'visual.layer3.19.relu3', 'visual.layer3.20', 'visual.layer3.20.conv1', 'visual.layer3.20.bn1', 'visual.layer3.20.relu1', 'visual.layer3.20.conv2', 'visual.layer3.20.bn2', 'visual.layer3.20.relu2', 'visual.layer3.20.avgpool', 'visual.layer3.20.conv3', 'visual.layer3.20.bn3', 'visual.layer3.20.relu3', 'visual.layer3.21', 'visual.layer3.21.conv1', 'visual.layer3.21.bn1', 'visual.layer3.21.relu1', 'visual.layer3.21.conv2', 'visual.layer3.21.bn2', 'visual.layer3.21.relu2', 'visual.layer3.21.avgpool', 'visual.layer3.21.conv3', 'visual.layer3.21.bn3', 'visual.layer3.21.relu3', 'visual.layer3.22', 'visual.layer3.22.conv1', 'visual.layer3.22.bn1', 'visual.layer3.22.relu1', 'visual.layer3.22.conv2', 'visual.layer3.22.bn2', 'visual.layer3.22.relu2', 'visual.layer3.22.avgpool', 'visual.layer3.22.conv3', 'visual.layer3.22.bn3', 'visual.layer3.22.relu3', 'visual.layer4', 'visual.layer4.0', 'visual.layer4.0.conv1', 'visual.layer4.0.bn1', 'visual.layer4.0.relu1', 'visual.layer4.0.conv2', 'visual.layer4.0.bn2', 'visual.layer4.0.relu2', 'visual.layer4.0.avgpool', 'visual.layer4.0.conv3', 'visual.layer4.0.bn3', 'visual.layer4.0.relu3', 'visual.layer4.0.downsample', 'visual.layer4.0.downsample.-1', 'visual.layer4.0.downsample.0', 'visual.layer4.0.downsample.1', 'visual.layer4.1', 'visual.layer4.1.conv1', 'visual.layer4.1.bn1', 'visual.layer4.1.relu1', 'visual.layer4.1.conv2', 'visual.layer4.1.bn2', 'visual.layer4.1.relu2', 'visual.layer4.1.avgpool', 'visual.layer4.1.conv3', 'visual.layer4.1.bn3', 'visual.layer4.1.relu3', 'visual.layer4.2', 'visual.layer4.2.conv1', 'visual.layer4.2.bn1', 'visual.layer4.2.relu1', 'visual.layer4.2.conv2', 'visual.layer4.2.bn2', 'visual.layer4.2.relu2', 'visual.layer4.2.avgpool', 'visual.layer4.2.conv3', 'visual.layer4.2.bn3', 'visual.layer4.2.relu3', 'visual.attnpool', 'visual.attnpool.k_proj', 'visual.attnpool.q_proj', 'visual.attnpool.v_proj', 'visual.attnpool.c_proj', 'transformer', 'transformer.resblocks', 'transformer.resblocks.0', 'transformer.resblocks.0.attn', 'transformer.resblocks.0.attn.out_proj', 'transformer.resblocks.0.ln_1', 'transformer.resblocks.0.mlp', 'transformer.resblocks.0.mlp.c_fc', 'transformer.resblocks.0.mlp.gelu', 'transformer.resblocks.0.mlp.c_proj', 'transformer.resblocks.0.ln_2', 'transformer.resblocks.1', 'transformer.resblocks.1.attn', 'transformer.resblocks.1.attn.out_proj', 'transformer.resblocks.1.ln_1', 'transformer.resblocks.1.mlp', 'transformer.resblocks.1.mlp.c_fc', 'transformer.resblocks.1.mlp.gelu', 'transformer.resblocks.1.mlp.c_proj', 'transformer.resblocks.1.ln_2', 'transformer.resblocks.2', 'transformer.resblocks.2.attn', 'transformer.resblocks.2.attn.out_proj', 'transformer.resblocks.2.ln_1', 'transformer.resblocks.2.mlp', 'transformer.resblocks.2.mlp.c_fc', 'transformer.resblocks.2.mlp.gelu', 'transformer.resblocks.2.mlp.c_proj', 'transformer.resblocks.2.ln_2', 'transformer.resblocks.3', 'transformer.resblocks.3.attn', 'transformer.resblocks.3.attn.out_proj', 'transformer.resblocks.3.ln_1', 'transformer.resblocks.3.mlp', 'transformer.resblocks.3.mlp.c_fc', 'transformer.resblocks.3.mlp.gelu', 'transformer.resblocks.3.mlp.c_proj', 'transformer.resblocks.3.ln_2', 'transformer.resblocks.4', 'transformer.resblocks.4.attn', 'transformer.resblocks.4.attn.out_proj', 'transformer.resblocks.4.ln_1', 'transformer.resblocks.4.mlp', 'transformer.resblocks.4.mlp.c_fc', 'transformer.resblocks.4.mlp.gelu', 'transformer.resblocks.4.mlp.c_proj', 'transformer.resblocks.4.ln_2', 'transformer.resblocks.5', 'transformer.resblocks.5.attn', 'transformer.resblocks.5.attn.out_proj', 'transformer.resblocks.5.ln_1', 'transformer.resblocks.5.mlp', 'transformer.resblocks.5.mlp.c_fc', 'transformer.resblocks.5.mlp.gelu', 'transformer.resblocks.5.mlp.c_proj', 'transformer.resblocks.5.ln_2', 'transformer.resblocks.6', 'transformer.resblocks.6.attn', 'transformer.resblocks.6.attn.out_proj', 'transformer.resblocks.6.ln_1', 'transformer.resblocks.6.mlp', 'transformer.resblocks.6.mlp.c_fc', 'transformer.resblocks.6.mlp.gelu', 'transformer.resblocks.6.mlp.c_proj', 'transformer.resblocks.6.ln_2', 'transformer.resblocks.7', 'transformer.resblocks.7.attn', 'transformer.resblocks.7.attn.out_proj', 'transformer.resblocks.7.ln_1', 'transformer.resblocks.7.mlp', 'transformer.resblocks.7.mlp.c_fc', 'transformer.resblocks.7.mlp.gelu', 'transformer.resblocks.7.mlp.c_proj', 'transformer.resblocks.7.ln_2', 'transformer.resblocks.8', 'transformer.resblocks.8.attn', 'transformer.resblocks.8.attn.out_proj', 'transformer.resblocks.8.ln_1', 'transformer.resblocks.8.mlp', 'transformer.resblocks.8.mlp.c_fc', 'transformer.resblocks.8.mlp.gelu', 'transformer.resblocks.8.mlp.c_proj', 'transformer.resblocks.8.ln_2', 'transformer.resblocks.9', 'transformer.resblocks.9.attn', 'transformer.resblocks.9.attn.out_proj', 'transformer.resblocks.9.ln_1', 'transformer.resblocks.9.mlp', 'transformer.resblocks.9.mlp.c_fc', 'transformer.resblocks.9.mlp.gelu', 'transformer.resblocks.9.mlp.c_proj', 'transformer.resblocks.9.ln_2', 'transformer.resblocks.10', 'transformer.resblocks.10.attn', 'transformer.resblocks.10.attn.out_proj', 'transformer.resblocks.10.ln_1', 'transformer.resblocks.10.mlp', 'transformer.resblocks.10.mlp.c_fc', 'transformer.resblocks.10.mlp.gelu', 'transformer.resblocks.10.mlp.c_proj', 'transformer.resblocks.10.ln_2', 'transformer.resblocks.11', 'transformer.resblocks.11.attn', 'transformer.resblocks.11.attn.out_proj', 'transformer.resblocks.11.ln_1', 'transformer.resblocks.11.mlp', 'transformer.resblocks.11.mlp.c_fc', 'transformer.resblocks.11.mlp.gelu', 'transformer.resblocks.11.mlp.c_proj', 'transformer.resblocks.11.ln_2', 'token_embedding', 'ln_final']\n"
     ]
    },
    {
     "name": "stderr",
     "output_type": "stream",
     "text": [
      "100%|██████████| 50/50 [00:07<00:00,  6.28it/s]\n",
      "100%|██████████| 2/2 [00:01<00:00,  1.75it/s]\n"
     ]
    }
   ],
   "source": [
    "from feature_extraction import FeatureExtractor\n",
    "\n",
    "path=\"C:/Users/Domenic/Documents/Repositories/Net2Brain/notebooks/Workshops/bonner_pnas2017/stimuli_data\"\n",
    "\n",
    "extractor = FeatureExtractor(\"RN101\", \"Clip\", path, device=\"cpu\")\n",
    "\n",
    "layers_to_extract = extractor.layers_to_extract()\n",
    "\n",
    "print(layers_to_extract)\n",
    "\n",
    "extractor.extract(layers_to_extract=[\"visual\"])\n",
    "\n",
    "extractor.consolidate_per_layer()"
   ]
  },
  {
   "cell_type": "markdown",
   "metadata": {},
   "source": [
    "# Try with YOLO"
   ]
  },
  {
   "cell_type": "code",
   "execution_count": 1,
   "metadata": {},
   "outputs": [
    {
     "name": "stderr",
     "output_type": "stream",
     "text": [
      "Using cache found in C:\\Users\\Domenic/.cache\\torch\\hub\\ultralytics_yolov5_master\n",
      "YOLOv5  2023-10-31 Python-3.9.18 torch-2.1.0 CUDA:0 (NVIDIA GeForce RTX 4070 Laptop GPU, 8188MiB)\n",
      "\n",
      "Fusing layers... \n",
      "YOLOv5l summary: 367 layers, 46533693 parameters, 0 gradients, 109.0 GFLOPs\n",
      "Adding AutoShape... \n"
     ]
    },
    {
     "name": "stdout",
     "output_type": "stream",
     "text": [
      "['', 'model', 'model.model', 'model.model.model', 'model.model.model.0', 'model.model.model.0.conv', 'model.model.model.0.act', 'model.model.model.1', 'model.model.model.1.conv', 'model.model.model.1.act', 'model.model.model.2', 'model.model.model.2.cv1', 'model.model.model.2.cv1.conv', 'model.model.model.2.cv1.act', 'model.model.model.2.cv2', 'model.model.model.2.cv2.conv', 'model.model.model.2.cv2.act', 'model.model.model.2.cv3', 'model.model.model.2.cv3.conv', 'model.model.model.2.cv3.act', 'model.model.model.2.m', 'model.model.model.2.m.0', 'model.model.model.2.m.0.cv1', 'model.model.model.2.m.0.cv1.conv', 'model.model.model.2.m.0.cv1.act', 'model.model.model.2.m.0.cv2', 'model.model.model.2.m.0.cv2.conv', 'model.model.model.2.m.0.cv2.act', 'model.model.model.2.m.1', 'model.model.model.2.m.1.cv1', 'model.model.model.2.m.1.cv1.conv', 'model.model.model.2.m.1.cv1.act', 'model.model.model.2.m.1.cv2', 'model.model.model.2.m.1.cv2.conv', 'model.model.model.2.m.1.cv2.act', 'model.model.model.2.m.2', 'model.model.model.2.m.2.cv1', 'model.model.model.2.m.2.cv1.conv', 'model.model.model.2.m.2.cv1.act', 'model.model.model.2.m.2.cv2', 'model.model.model.2.m.2.cv2.conv', 'model.model.model.2.m.2.cv2.act', 'model.model.model.3', 'model.model.model.3.conv', 'model.model.model.3.act', 'model.model.model.4', 'model.model.model.4.cv1', 'model.model.model.4.cv1.conv', 'model.model.model.4.cv1.act', 'model.model.model.4.cv2', 'model.model.model.4.cv2.conv', 'model.model.model.4.cv2.act', 'model.model.model.4.cv3', 'model.model.model.4.cv3.conv', 'model.model.model.4.cv3.act', 'model.model.model.4.m', 'model.model.model.4.m.0', 'model.model.model.4.m.0.cv1', 'model.model.model.4.m.0.cv1.conv', 'model.model.model.4.m.0.cv1.act', 'model.model.model.4.m.0.cv2', 'model.model.model.4.m.0.cv2.conv', 'model.model.model.4.m.0.cv2.act', 'model.model.model.4.m.1', 'model.model.model.4.m.1.cv1', 'model.model.model.4.m.1.cv1.conv', 'model.model.model.4.m.1.cv1.act', 'model.model.model.4.m.1.cv2', 'model.model.model.4.m.1.cv2.conv', 'model.model.model.4.m.1.cv2.act', 'model.model.model.4.m.2', 'model.model.model.4.m.2.cv1', 'model.model.model.4.m.2.cv1.conv', 'model.model.model.4.m.2.cv1.act', 'model.model.model.4.m.2.cv2', 'model.model.model.4.m.2.cv2.conv', 'model.model.model.4.m.2.cv2.act', 'model.model.model.4.m.3', 'model.model.model.4.m.3.cv1', 'model.model.model.4.m.3.cv1.conv', 'model.model.model.4.m.3.cv1.act', 'model.model.model.4.m.3.cv2', 'model.model.model.4.m.3.cv2.conv', 'model.model.model.4.m.3.cv2.act', 'model.model.model.4.m.4', 'model.model.model.4.m.4.cv1', 'model.model.model.4.m.4.cv1.conv', 'model.model.model.4.m.4.cv1.act', 'model.model.model.4.m.4.cv2', 'model.model.model.4.m.4.cv2.conv', 'model.model.model.4.m.4.cv2.act', 'model.model.model.4.m.5', 'model.model.model.4.m.5.cv1', 'model.model.model.4.m.5.cv1.conv', 'model.model.model.4.m.5.cv1.act', 'model.model.model.4.m.5.cv2', 'model.model.model.4.m.5.cv2.conv', 'model.model.model.4.m.5.cv2.act', 'model.model.model.5', 'model.model.model.5.conv', 'model.model.model.5.act', 'model.model.model.6', 'model.model.model.6.cv1', 'model.model.model.6.cv1.conv', 'model.model.model.6.cv1.act', 'model.model.model.6.cv2', 'model.model.model.6.cv2.conv', 'model.model.model.6.cv2.act', 'model.model.model.6.cv3', 'model.model.model.6.cv3.conv', 'model.model.model.6.cv3.act', 'model.model.model.6.m', 'model.model.model.6.m.0', 'model.model.model.6.m.0.cv1', 'model.model.model.6.m.0.cv1.conv', 'model.model.model.6.m.0.cv1.act', 'model.model.model.6.m.0.cv2', 'model.model.model.6.m.0.cv2.conv', 'model.model.model.6.m.0.cv2.act', 'model.model.model.6.m.1', 'model.model.model.6.m.1.cv1', 'model.model.model.6.m.1.cv1.conv', 'model.model.model.6.m.1.cv1.act', 'model.model.model.6.m.1.cv2', 'model.model.model.6.m.1.cv2.conv', 'model.model.model.6.m.1.cv2.act', 'model.model.model.6.m.2', 'model.model.model.6.m.2.cv1', 'model.model.model.6.m.2.cv1.conv', 'model.model.model.6.m.2.cv1.act', 'model.model.model.6.m.2.cv2', 'model.model.model.6.m.2.cv2.conv', 'model.model.model.6.m.2.cv2.act', 'model.model.model.6.m.3', 'model.model.model.6.m.3.cv1', 'model.model.model.6.m.3.cv1.conv', 'model.model.model.6.m.3.cv1.act', 'model.model.model.6.m.3.cv2', 'model.model.model.6.m.3.cv2.conv', 'model.model.model.6.m.3.cv2.act', 'model.model.model.6.m.4', 'model.model.model.6.m.4.cv1', 'model.model.model.6.m.4.cv1.conv', 'model.model.model.6.m.4.cv1.act', 'model.model.model.6.m.4.cv2', 'model.model.model.6.m.4.cv2.conv', 'model.model.model.6.m.4.cv2.act', 'model.model.model.6.m.5', 'model.model.model.6.m.5.cv1', 'model.model.model.6.m.5.cv1.conv', 'model.model.model.6.m.5.cv1.act', 'model.model.model.6.m.5.cv2', 'model.model.model.6.m.5.cv2.conv', 'model.model.model.6.m.5.cv2.act', 'model.model.model.6.m.6', 'model.model.model.6.m.6.cv1', 'model.model.model.6.m.6.cv1.conv', 'model.model.model.6.m.6.cv1.act', 'model.model.model.6.m.6.cv2', 'model.model.model.6.m.6.cv2.conv', 'model.model.model.6.m.6.cv2.act', 'model.model.model.6.m.7', 'model.model.model.6.m.7.cv1', 'model.model.model.6.m.7.cv1.conv', 'model.model.model.6.m.7.cv1.act', 'model.model.model.6.m.7.cv2', 'model.model.model.6.m.7.cv2.conv', 'model.model.model.6.m.7.cv2.act', 'model.model.model.6.m.8', 'model.model.model.6.m.8.cv1', 'model.model.model.6.m.8.cv1.conv', 'model.model.model.6.m.8.cv1.act', 'model.model.model.6.m.8.cv2', 'model.model.model.6.m.8.cv2.conv', 'model.model.model.6.m.8.cv2.act', 'model.model.model.7', 'model.model.model.7.conv', 'model.model.model.7.act', 'model.model.model.8', 'model.model.model.8.cv1', 'model.model.model.8.cv1.conv', 'model.model.model.8.cv1.act', 'model.model.model.8.cv2', 'model.model.model.8.cv2.conv', 'model.model.model.8.cv2.act', 'model.model.model.8.cv3', 'model.model.model.8.cv3.conv', 'model.model.model.8.cv3.act', 'model.model.model.8.m', 'model.model.model.8.m.0', 'model.model.model.8.m.0.cv1', 'model.model.model.8.m.0.cv1.conv', 'model.model.model.8.m.0.cv1.act', 'model.model.model.8.m.0.cv2', 'model.model.model.8.m.0.cv2.conv', 'model.model.model.8.m.0.cv2.act', 'model.model.model.8.m.1', 'model.model.model.8.m.1.cv1', 'model.model.model.8.m.1.cv1.conv', 'model.model.model.8.m.1.cv1.act', 'model.model.model.8.m.1.cv2', 'model.model.model.8.m.1.cv2.conv', 'model.model.model.8.m.1.cv2.act', 'model.model.model.8.m.2', 'model.model.model.8.m.2.cv1', 'model.model.model.8.m.2.cv1.conv', 'model.model.model.8.m.2.cv1.act', 'model.model.model.8.m.2.cv2', 'model.model.model.8.m.2.cv2.conv', 'model.model.model.8.m.2.cv2.act', 'model.model.model.9', 'model.model.model.9.cv1', 'model.model.model.9.cv1.conv', 'model.model.model.9.cv1.act', 'model.model.model.9.cv2', 'model.model.model.9.cv2.conv', 'model.model.model.9.cv2.act', 'model.model.model.9.m', 'model.model.model.10', 'model.model.model.10.conv', 'model.model.model.10.act', 'model.model.model.11', 'model.model.model.12', 'model.model.model.13', 'model.model.model.13.cv1', 'model.model.model.13.cv1.conv', 'model.model.model.13.cv1.act', 'model.model.model.13.cv2', 'model.model.model.13.cv2.conv', 'model.model.model.13.cv2.act', 'model.model.model.13.cv3', 'model.model.model.13.cv3.conv', 'model.model.model.13.cv3.act', 'model.model.model.13.m', 'model.model.model.13.m.0', 'model.model.model.13.m.0.cv1', 'model.model.model.13.m.0.cv1.conv', 'model.model.model.13.m.0.cv1.act', 'model.model.model.13.m.0.cv2', 'model.model.model.13.m.0.cv2.conv', 'model.model.model.13.m.0.cv2.act', 'model.model.model.13.m.1', 'model.model.model.13.m.1.cv1', 'model.model.model.13.m.1.cv1.conv', 'model.model.model.13.m.1.cv1.act', 'model.model.model.13.m.1.cv2', 'model.model.model.13.m.1.cv2.conv', 'model.model.model.13.m.1.cv2.act', 'model.model.model.13.m.2', 'model.model.model.13.m.2.cv1', 'model.model.model.13.m.2.cv1.conv', 'model.model.model.13.m.2.cv1.act', 'model.model.model.13.m.2.cv2', 'model.model.model.13.m.2.cv2.conv', 'model.model.model.13.m.2.cv2.act', 'model.model.model.14', 'model.model.model.14.conv', 'model.model.model.14.act', 'model.model.model.15', 'model.model.model.16', 'model.model.model.17', 'model.model.model.17.cv1', 'model.model.model.17.cv1.conv', 'model.model.model.17.cv1.act', 'model.model.model.17.cv2', 'model.model.model.17.cv2.conv', 'model.model.model.17.cv2.act', 'model.model.model.17.cv3', 'model.model.model.17.cv3.conv', 'model.model.model.17.cv3.act', 'model.model.model.17.m', 'model.model.model.17.m.0', 'model.model.model.17.m.0.cv1', 'model.model.model.17.m.0.cv1.conv', 'model.model.model.17.m.0.cv1.act', 'model.model.model.17.m.0.cv2', 'model.model.model.17.m.0.cv2.conv', 'model.model.model.17.m.0.cv2.act', 'model.model.model.17.m.1', 'model.model.model.17.m.1.cv1', 'model.model.model.17.m.1.cv1.conv', 'model.model.model.17.m.1.cv1.act', 'model.model.model.17.m.1.cv2', 'model.model.model.17.m.1.cv2.conv', 'model.model.model.17.m.1.cv2.act', 'model.model.model.17.m.2', 'model.model.model.17.m.2.cv1', 'model.model.model.17.m.2.cv1.conv', 'model.model.model.17.m.2.cv1.act', 'model.model.model.17.m.2.cv2', 'model.model.model.17.m.2.cv2.conv', 'model.model.model.17.m.2.cv2.act', 'model.model.model.18', 'model.model.model.18.conv', 'model.model.model.18.act', 'model.model.model.19', 'model.model.model.20', 'model.model.model.20.cv1', 'model.model.model.20.cv1.conv', 'model.model.model.20.cv1.act', 'model.model.model.20.cv2', 'model.model.model.20.cv2.conv', 'model.model.model.20.cv2.act', 'model.model.model.20.cv3', 'model.model.model.20.cv3.conv', 'model.model.model.20.cv3.act', 'model.model.model.20.m', 'model.model.model.20.m.0', 'model.model.model.20.m.0.cv1', 'model.model.model.20.m.0.cv1.conv', 'model.model.model.20.m.0.cv1.act', 'model.model.model.20.m.0.cv2', 'model.model.model.20.m.0.cv2.conv', 'model.model.model.20.m.0.cv2.act', 'model.model.model.20.m.1', 'model.model.model.20.m.1.cv1', 'model.model.model.20.m.1.cv1.conv', 'model.model.model.20.m.1.cv1.act', 'model.model.model.20.m.1.cv2', 'model.model.model.20.m.1.cv2.conv', 'model.model.model.20.m.1.cv2.act', 'model.model.model.20.m.2', 'model.model.model.20.m.2.cv1', 'model.model.model.20.m.2.cv1.conv', 'model.model.model.20.m.2.cv1.act', 'model.model.model.20.m.2.cv2', 'model.model.model.20.m.2.cv2.conv', 'model.model.model.20.m.2.cv2.act', 'model.model.model.21', 'model.model.model.21.conv', 'model.model.model.21.act', 'model.model.model.22', 'model.model.model.23', 'model.model.model.23.cv1', 'model.model.model.23.cv1.conv', 'model.model.model.23.cv1.act', 'model.model.model.23.cv2', 'model.model.model.23.cv2.conv', 'model.model.model.23.cv2.act', 'model.model.model.23.cv3', 'model.model.model.23.cv3.conv', 'model.model.model.23.cv3.act', 'model.model.model.23.m', 'model.model.model.23.m.0', 'model.model.model.23.m.0.cv1', 'model.model.model.23.m.0.cv1.conv', 'model.model.model.23.m.0.cv1.act', 'model.model.model.23.m.0.cv2', 'model.model.model.23.m.0.cv2.conv', 'model.model.model.23.m.0.cv2.act', 'model.model.model.23.m.1', 'model.model.model.23.m.1.cv1', 'model.model.model.23.m.1.cv1.conv', 'model.model.model.23.m.1.cv1.act', 'model.model.model.23.m.1.cv2', 'model.model.model.23.m.1.cv2.conv', 'model.model.model.23.m.1.cv2.act', 'model.model.model.23.m.2', 'model.model.model.23.m.2.cv1', 'model.model.model.23.m.2.cv1.conv', 'model.model.model.23.m.2.cv1.act', 'model.model.model.23.m.2.cv2', 'model.model.model.23.m.2.cv2.conv', 'model.model.model.23.m.2.cv2.act', 'model.model.model.24', 'model.model.model.24.m', 'model.model.model.24.m.0', 'model.model.model.24.m.1', 'model.model.model.24.m.2']\n"
     ]
    },
    {
     "name": "stderr",
     "output_type": "stream",
     "text": [
      "100%|██████████| 50/50 [00:03<00:00, 15.63it/s]\n",
      "100%|██████████| 2/2 [00:05<00:00,  2.68s/it]\n"
     ]
    }
   ],
   "source": [
    "from feature_extraction import FeatureExtractor\n",
    "\n",
    "path=\"C:/Users/Domenic/Documents/Repositories/Net2Brain/notebooks/Workshops/bonner_pnas2017/stimuli_data\"\n",
    "\n",
    "extractor = FeatureExtractor(\"yolov5l\", \"Yolo\", path, device=\"cpu\")\n",
    "\n",
    "layers_to_extract = extractor.layers_to_extract()\n",
    "\n",
    "print(layers_to_extract)\n",
    "\n",
    "extractor.extract(layers_to_extract=[\"model.model\"])\n",
    "\n",
    "extractor.consolidate_per_layer()"
   ]
  },
  {
   "cell_type": "markdown",
   "metadata": {},
   "source": [
    "# Try with Pyvideo"
   ]
  },
  {
   "cell_type": "code",
   "execution_count": 1,
   "metadata": {},
   "outputs": [
    {
     "name": "stderr",
     "output_type": "stream",
     "text": [
      "c:\\Users\\Domenic\\anaconda3\\envs\\N2B\\lib\\site-packages\\torchvision\\transforms\\functional_tensor.py:5: UserWarning: The torchvision.transforms.functional_tensor module is deprecated in 0.15 and will be **removed in 0.17**. Please don't rely on it. You probably just need to use APIs in torchvision.transforms.functional or in torchvision.transforms.v2.functional.\n",
      "  warnings.warn(\n",
      "Using cache found in C:\\Users\\Domenic/.cache\\torch\\hub\\facebookresearch_pytorchvideo_main\n"
     ]
    },
    {
     "name": "stdout",
     "output_type": "stream",
     "text": [
      "['', 'blocks', 'blocks.0', 'blocks.0.conv', 'blocks.0.norm', 'blocks.0.activation', 'blocks.0.pool', 'blocks.1', 'blocks.1.res_blocks', 'blocks.1.res_blocks.0', 'blocks.1.res_blocks.0.branch1_conv', 'blocks.1.res_blocks.0.branch1_norm', 'blocks.1.res_blocks.0.branch2', 'blocks.1.res_blocks.0.branch2.conv_a', 'blocks.1.res_blocks.0.branch2.norm_a', 'blocks.1.res_blocks.0.branch2.act_a', 'blocks.1.res_blocks.0.branch2.conv_b', 'blocks.1.res_blocks.0.branch2.norm_b', 'blocks.1.res_blocks.0.branch2.act_b', 'blocks.1.res_blocks.0.branch2.conv_c', 'blocks.1.res_blocks.0.branch2.norm_c', 'blocks.1.res_blocks.0.activation', 'blocks.1.res_blocks.1', 'blocks.1.res_blocks.1.branch2', 'blocks.1.res_blocks.1.branch2.conv_a', 'blocks.1.res_blocks.1.branch2.norm_a', 'blocks.1.res_blocks.1.branch2.act_a', 'blocks.1.res_blocks.1.branch2.conv_b', 'blocks.1.res_blocks.1.branch2.norm_b', 'blocks.1.res_blocks.1.branch2.act_b', 'blocks.1.res_blocks.1.branch2.conv_c', 'blocks.1.res_blocks.1.branch2.norm_c', 'blocks.1.res_blocks.1.activation', 'blocks.1.res_blocks.2', 'blocks.1.res_blocks.2.branch2', 'blocks.1.res_blocks.2.branch2.conv_a', 'blocks.1.res_blocks.2.branch2.norm_a', 'blocks.1.res_blocks.2.branch2.act_a', 'blocks.1.res_blocks.2.branch2.conv_b', 'blocks.1.res_blocks.2.branch2.norm_b', 'blocks.1.res_blocks.2.branch2.act_b', 'blocks.1.res_blocks.2.branch2.conv_c', 'blocks.1.res_blocks.2.branch2.norm_c', 'blocks.1.res_blocks.2.activation', 'blocks.2', 'blocks.2.res_blocks', 'blocks.2.res_blocks.0', 'blocks.2.res_blocks.0.branch1_conv', 'blocks.2.res_blocks.0.branch1_norm', 'blocks.2.res_blocks.0.branch2', 'blocks.2.res_blocks.0.branch2.conv_a', 'blocks.2.res_blocks.0.branch2.norm_a', 'blocks.2.res_blocks.0.branch2.act_a', 'blocks.2.res_blocks.0.branch2.conv_b', 'blocks.2.res_blocks.0.branch2.norm_b', 'blocks.2.res_blocks.0.branch2.act_b', 'blocks.2.res_blocks.0.branch2.conv_c', 'blocks.2.res_blocks.0.branch2.norm_c', 'blocks.2.res_blocks.0.activation', 'blocks.2.res_blocks.1', 'blocks.2.res_blocks.1.branch2', 'blocks.2.res_blocks.1.branch2.conv_a', 'blocks.2.res_blocks.1.branch2.norm_a', 'blocks.2.res_blocks.1.branch2.act_a', 'blocks.2.res_blocks.1.branch2.conv_b', 'blocks.2.res_blocks.1.branch2.norm_b', 'blocks.2.res_blocks.1.branch2.act_b', 'blocks.2.res_blocks.1.branch2.conv_c', 'blocks.2.res_blocks.1.branch2.norm_c', 'blocks.2.res_blocks.1.activation', 'blocks.2.res_blocks.2', 'blocks.2.res_blocks.2.branch2', 'blocks.2.res_blocks.2.branch2.conv_a', 'blocks.2.res_blocks.2.branch2.norm_a', 'blocks.2.res_blocks.2.branch2.act_a', 'blocks.2.res_blocks.2.branch2.conv_b', 'blocks.2.res_blocks.2.branch2.norm_b', 'blocks.2.res_blocks.2.branch2.act_b', 'blocks.2.res_blocks.2.branch2.conv_c', 'blocks.2.res_blocks.2.branch2.norm_c', 'blocks.2.res_blocks.2.activation', 'blocks.2.res_blocks.3', 'blocks.2.res_blocks.3.branch2', 'blocks.2.res_blocks.3.branch2.conv_a', 'blocks.2.res_blocks.3.branch2.norm_a', 'blocks.2.res_blocks.3.branch2.act_a', 'blocks.2.res_blocks.3.branch2.conv_b', 'blocks.2.res_blocks.3.branch2.norm_b', 'blocks.2.res_blocks.3.branch2.act_b', 'blocks.2.res_blocks.3.branch2.conv_c', 'blocks.2.res_blocks.3.branch2.norm_c', 'blocks.2.res_blocks.3.activation', 'blocks.3', 'blocks.3.res_blocks', 'blocks.3.res_blocks.0', 'blocks.3.res_blocks.0.branch1_conv', 'blocks.3.res_blocks.0.branch1_norm', 'blocks.3.res_blocks.0.branch2', 'blocks.3.res_blocks.0.branch2.conv_a', 'blocks.3.res_blocks.0.branch2.norm_a', 'blocks.3.res_blocks.0.branch2.act_a', 'blocks.3.res_blocks.0.branch2.conv_b', 'blocks.3.res_blocks.0.branch2.norm_b', 'blocks.3.res_blocks.0.branch2.act_b', 'blocks.3.res_blocks.0.branch2.conv_c', 'blocks.3.res_blocks.0.branch2.norm_c', 'blocks.3.res_blocks.0.activation', 'blocks.3.res_blocks.1', 'blocks.3.res_blocks.1.branch2', 'blocks.3.res_blocks.1.branch2.conv_a', 'blocks.3.res_blocks.1.branch2.norm_a', 'blocks.3.res_blocks.1.branch2.act_a', 'blocks.3.res_blocks.1.branch2.conv_b', 'blocks.3.res_blocks.1.branch2.norm_b', 'blocks.3.res_blocks.1.branch2.act_b', 'blocks.3.res_blocks.1.branch2.conv_c', 'blocks.3.res_blocks.1.branch2.norm_c', 'blocks.3.res_blocks.1.activation', 'blocks.3.res_blocks.2', 'blocks.3.res_blocks.2.branch2', 'blocks.3.res_blocks.2.branch2.conv_a', 'blocks.3.res_blocks.2.branch2.norm_a', 'blocks.3.res_blocks.2.branch2.act_a', 'blocks.3.res_blocks.2.branch2.conv_b', 'blocks.3.res_blocks.2.branch2.norm_b', 'blocks.3.res_blocks.2.branch2.act_b', 'blocks.3.res_blocks.2.branch2.conv_c', 'blocks.3.res_blocks.2.branch2.norm_c', 'blocks.3.res_blocks.2.activation', 'blocks.3.res_blocks.3', 'blocks.3.res_blocks.3.branch2', 'blocks.3.res_blocks.3.branch2.conv_a', 'blocks.3.res_blocks.3.branch2.norm_a', 'blocks.3.res_blocks.3.branch2.act_a', 'blocks.3.res_blocks.3.branch2.conv_b', 'blocks.3.res_blocks.3.branch2.norm_b', 'blocks.3.res_blocks.3.branch2.act_b', 'blocks.3.res_blocks.3.branch2.conv_c', 'blocks.3.res_blocks.3.branch2.norm_c', 'blocks.3.res_blocks.3.activation', 'blocks.3.res_blocks.4', 'blocks.3.res_blocks.4.branch2', 'blocks.3.res_blocks.4.branch2.conv_a', 'blocks.3.res_blocks.4.branch2.norm_a', 'blocks.3.res_blocks.4.branch2.act_a', 'blocks.3.res_blocks.4.branch2.conv_b', 'blocks.3.res_blocks.4.branch2.norm_b', 'blocks.3.res_blocks.4.branch2.act_b', 'blocks.3.res_blocks.4.branch2.conv_c', 'blocks.3.res_blocks.4.branch2.norm_c', 'blocks.3.res_blocks.4.activation', 'blocks.3.res_blocks.5', 'blocks.3.res_blocks.5.branch2', 'blocks.3.res_blocks.5.branch2.conv_a', 'blocks.3.res_blocks.5.branch2.norm_a', 'blocks.3.res_blocks.5.branch2.act_a', 'blocks.3.res_blocks.5.branch2.conv_b', 'blocks.3.res_blocks.5.branch2.norm_b', 'blocks.3.res_blocks.5.branch2.act_b', 'blocks.3.res_blocks.5.branch2.conv_c', 'blocks.3.res_blocks.5.branch2.norm_c', 'blocks.3.res_blocks.5.activation', 'blocks.4', 'blocks.4.res_blocks', 'blocks.4.res_blocks.0', 'blocks.4.res_blocks.0.branch1_conv', 'blocks.4.res_blocks.0.branch1_norm', 'blocks.4.res_blocks.0.branch2', 'blocks.4.res_blocks.0.branch2.conv_a', 'blocks.4.res_blocks.0.branch2.norm_a', 'blocks.4.res_blocks.0.branch2.act_a', 'blocks.4.res_blocks.0.branch2.conv_b', 'blocks.4.res_blocks.0.branch2.norm_b', 'blocks.4.res_blocks.0.branch2.act_b', 'blocks.4.res_blocks.0.branch2.conv_c', 'blocks.4.res_blocks.0.branch2.norm_c', 'blocks.4.res_blocks.0.activation', 'blocks.4.res_blocks.1', 'blocks.4.res_blocks.1.branch2', 'blocks.4.res_blocks.1.branch2.conv_a', 'blocks.4.res_blocks.1.branch2.norm_a', 'blocks.4.res_blocks.1.branch2.act_a', 'blocks.4.res_blocks.1.branch2.conv_b', 'blocks.4.res_blocks.1.branch2.norm_b', 'blocks.4.res_blocks.1.branch2.act_b', 'blocks.4.res_blocks.1.branch2.conv_c', 'blocks.4.res_blocks.1.branch2.norm_c', 'blocks.4.res_blocks.1.activation', 'blocks.4.res_blocks.2', 'blocks.4.res_blocks.2.branch2', 'blocks.4.res_blocks.2.branch2.conv_a', 'blocks.4.res_blocks.2.branch2.norm_a', 'blocks.4.res_blocks.2.branch2.act_a', 'blocks.4.res_blocks.2.branch2.conv_b', 'blocks.4.res_blocks.2.branch2.norm_b', 'blocks.4.res_blocks.2.branch2.act_b', 'blocks.4.res_blocks.2.branch2.conv_c', 'blocks.4.res_blocks.2.branch2.norm_c', 'blocks.4.res_blocks.2.activation', 'blocks.5', 'blocks.5.pool', 'blocks.5.dropout', 'blocks.5.proj', 'blocks.5.output_pool']\n"
     ]
    },
    {
     "name": "stderr",
     "output_type": "stream",
     "text": [
      "100%|██████████| 3/3 [00:03<00:00,  1.11s/it]\n",
      "100%|██████████| 1/1 [00:00<00:00,  1.12it/s]\n"
     ]
    }
   ],
   "source": [
    "from feature_extraction import FeatureExtractor\n",
    "\n",
    "path=\"C:/Users/Domenic/Documents/Repositories/Net2Brain/video_data\"\n",
    "\n",
    "extractor = FeatureExtractor(\"slow_r50\", \"Pyvideo\", path, device=\"cpu\")\n",
    "\n",
    "layers_to_extract = extractor.layers_to_extract()\n",
    "\n",
    "print(layers_to_extract)\n",
    "\n",
    "extractor.extract(layers_to_extract=[\"blocks.0\"])\n",
    "\n",
    "extractor.consolidate_per_layer()"
   ]
  }
 ],
 "metadata": {
  "kernelspec": {
   "display_name": "N2B",
   "language": "python",
   "name": "python3"
  },
  "language_info": {
   "codemirror_mode": {
    "name": "ipython",
    "version": 3
   },
   "file_extension": ".py",
   "mimetype": "text/x-python",
   "name": "python",
   "nbconvert_exporter": "python",
   "pygments_lexer": "ipython3",
   "version": "3.9.18"
  }
 },
 "nbformat": 4,
 "nbformat_minor": 2
}
