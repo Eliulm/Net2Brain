{
 "cells": [
  {
   "cell_type": "markdown",
   "metadata": {},
   "source": [
    "# Loading all Data"
   ]
  },
  {
   "cell_type": "code",
   "execution_count": null,
   "metadata": {},
   "outputs": [],
   "source": [
    "# Loading the model data\n",
    "\n",
    "paths = ['RDM_taskonomy_bonner50/autoencoder_encoder_block4.mat', \n",
    "         'RDM_taskonomy_bonner50/class_1000_feedforward_encoder_block4.mat', \n",
    "         'RDM_taskonomy_bonner50/class_places_feedforward_encoder_block4.mat', \n",
    "         'RDM_taskonomy_bonner50/colorization_encoder_block4.mat', \n",
    "         'RDM_taskonomy_bonner50/curvature_encoder_block4.mat', \n",
    "         'RDM_taskonomy_bonner50/denoise_encoder_block4.mat', \n",
    "         'RDM_taskonomy_bonner50/edge2d_encoder_block4.mat', \n",
    "         'RDM_taskonomy_bonner50/edge3d_encoder_block4.mat', \n",
    "         'RDM_taskonomy_bonner50/inpainting_whole_encoder_block4.mat', \n",
    "         'RDM_taskonomy_bonner50/keypoint2d_encoder_block4.mat', \n",
    "         'RDM_taskonomy_bonner50/keypoint3d_encoder_block4.mat', \n",
    "         'RDM_taskonomy_bonner50/random_encoder_block4.mat', \n",
    "         'RDM_taskonomy_bonner50/reshade_encoder_block4.mat', \n",
    "         'RDM_taskonomy_bonner50/rgb2depth_encoder_block4.mat', \n",
    "         'RDM_taskonomy_bonner50/rgb2mist_encoder_block4.mat', \n",
    "         'RDM_taskonomy_bonner50/rgb2sfnorm_encoder_block4.mat', \n",
    "         'RDM_taskonomy_bonner50/segment25d_encoder_block4.mat', \n",
    "         'RDM_taskonomy_bonner50/segment2d_encoder_block4.mat', \n",
    "         'RDM_taskonomy_bonner50/segmentsemantic_encoder_block4.mat']\n",
    "\n",
    "\n",
    "\n",
    "\n",
    "# Seperating into Groups\n",
    "is2D = [1,0,0,1,0,1,1,0,1,1,0,0,0,0,0,0,1,0,0]\n",
    "is3D = [0,0,0,0,1,0,0,1,0,0,1,1,1,1,1,1,0,0,0]\n",
    "isSm = [0,1,1,0,0,0,0,0,0,0,0,0,0,0,0,0,0,1,0] \n",
    "\n",
    "\n",
    "paths_2D = ['RDM_taskonomy_bonner50/autoencoder_encoder_block4.mat',\n",
    "            'RDM_taskonomy_bonner50/colorization_encoder_block4.mat',\n",
    "            'RDM_taskonomy_bonner50/denoise_encoder_block4.mat',\n",
    "            'RDM_taskonomy_bonner50/edge2d_encoder_block4.mat',\n",
    "            'RDM_taskonomy_bonner50/inpainting_whole_encoder_block4.mat',\n",
    "            'RDM_taskonomy_bonner50/keypoint2d_encoder_block4.mat',\n",
    "            'RDM_taskonomy_bonner50/segment2d_encoder_block4.mat']\n",
    "\n",
    "paths_3D = ['RDM_taskonomy_bonner50/curvature_encoder_block4.mat',\n",
    "            'RDM_taskonomy_bonner50/edge3d_encoder_block4.mat',\n",
    "            'RDM_taskonomy_bonner50/keypoint3d_encoder_block4.mat',\n",
    "            'RDM_taskonomy_bonner50/reshade_encoder_block4.mat',\n",
    "            'RDM_taskonomy_bonner50/rgb2depth_encoder_block4.mat',\n",
    "            'RDM_taskonomy_bonner50/rgb2mist_encoder_block4.mat',\n",
    "            'RDM_taskonomy_bonner50/rgb2sfnorm_encoder_block4.mat',\n",
    "            'RDM_taskonomy_bonner50/segment25d_encoder_block4.mat']\n",
    "\n",
    "paths_Sm = ['RDM_taskonomy_bonner50/class_1000_feedforward_encoder_block4.mat',\n",
    "            'RDM_taskonomy_bonner50/class_places_feedforward_encoder_block4.mat',\n",
    "            'RDM_taskonomy_bonner50/segmentsemantic_encoder_block4.mat']\n",
    "\n",
    "paths_nv = ['C:/Users/Domenic/Documents/Repositories/Variance Partitioning Analysis/NAM_rdm.mat']\n",
    "\n",
    "\n",
    "# Adding my own path\n",
    "for i, path in enumerate(paths_2D):\n",
    "    paths_2D[i] = r\"C:/Users/Domenic/Documents/Repositories/Variance Partitioning Analysis/\" + path\n",
    "for i, path in enumerate(paths_3D):\n",
    "    paths_3D[i] = r\"C:/Users/Domenic/Documents/Repositories/Variance Partitioning Analysis/\" + path\n",
    "for i, path in enumerate(paths_Sm):\n",
    "    paths_Sm[i] = r\"C:/Users/Domenic/Documents/Repositories/Variance Partitioning Analysis/\" + path\n",
    "\n"
   ]
  },
  {
   "cell_type": "code",
   "execution_count": null,
   "metadata": {},
   "outputs": [],
   "source": [
    "# Loading the dependent EEG data\n",
    "eeg_path = r\"C:/Users/Domenic/Documents/Repositories/Variance Partitioning Analysis/eeg_rdm/eeg_rdms_matlab_decoding_lt.npy\""
   ]
  },
  {
   "cell_type": "code",
   "execution_count": null,
   "metadata": {},
   "outputs": [],
   "source": [
    "from net2brain.evaluations.variance_partitioning_analysis import VPA\n",
    "\n",
    "independent_variables = [paths_2D, paths_3D, paths_Sm, paths_nv]\n",
    "variable_names = [\"2D\", \"3D\", \"SM\", \"NV\"]\n",
    "\n",
    "VPA_eval = VPA(eeg_path, independent_variables, variable_names)\n",
    "dataframe = VPA_eval.evaluate(average_models=True)\n",
    "\n"
   ]
  },
  {
   "cell_type": "code",
   "execution_count": null,
   "metadata": {},
   "outputs": [],
   "source": [
    "from net2brain.evaluations.plotting import Plotting\n",
    "\n",
    "# Plotting with significance\n",
    "plotter = Plotting(dataframe)\n"
   ]
  },
  {
   "cell_type": "code",
   "execution_count": null,
   "metadata": {},
   "outputs": [],
   "source": [
    "plotter.plotting_over_time()"
   ]
  }
 ],
 "metadata": {
  "kernelspec": {
   "display_name": "N2B",
   "language": "python",
   "name": "python3"
  },
  "language_info": {
   "codemirror_mode": {
    "name": "ipython",
    "version": 3
   },
   "file_extension": ".py",
   "mimetype": "text/x-python",
   "name": "python",
   "nbconvert_exporter": "python",
   "pygments_lexer": "ipython3",
   "version": "3.9.18"
  }
 },
 "nbformat": 4,
 "nbformat_minor": 2
}
