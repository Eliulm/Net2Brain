{
 "cells": [
  {
   "cell_type": "code",
   "execution_count": null,
   "id": "86abc3ce-162f-4533-b2eb-dd1813a103d3",
   "metadata": {},
   "outputs": [],
   "source": [
    "from net2brain.feature_extraction import print_all_models\n",
    "\n",
    "print_all_models()"
   ]
  },
  {
   "cell_type": "code",
   "execution_count": null,
   "id": "7cd9fda2-7dfa-4bcc-8a9a-fd95198538cf",
   "metadata": {},
   "outputs": [],
   "source": [
    "from net2brain.feature_extraction import print_netset_models\n",
    "\n",
    "print_netset_models('pyvideo')"
   ]
  },
  {
   "cell_type": "code",
   "execution_count": null,
   "id": "d5c363b0-5ccf-429b-8fcc-a82f6aaea030",
   "metadata": {},
   "outputs": [],
   "source": [
    "from net2brain.feature_extraction import find_model_like\n",
    "\n",
    "find_model_like('resnet50')"
   ]
  },
  {
   "cell_type": "code",
   "execution_count": 1,
   "id": "83e48930-2eed-4551-8177-88dfe7a452d3",
   "metadata": {},
   "outputs": [
    {
     "name": "stderr",
     "output_type": "stream",
     "text": [
      "/Users/m_vilas/opt/miniconda3/envs/net2brain/lib/python3.9/site-packages/tqdm/auto.py:22: TqdmWarning: IProgress not found. Please update jupyter and ipywidgets. See https://ipywidgets.readthedocs.io/en/stable/user_install.html\n",
      "  from .autonotebook import tqdm as notebook_tqdm\n"
     ]
    },
    {
     "name": "stdout",
     "output_type": "stream",
     "text": [
      "Clip models are not installed.\n",
      "CORnet models are not installed.\n",
      "Vissl models are not installed\n",
      "Detectron2 is not installed.\n"
     ]
    }
   ],
   "source": [
    "from net2brain.feature_extraction import FeatureExtractor\n",
    "\n",
    "fe = FeatureExtractor('ResNet50', 'cpu', 'standard')"
   ]
  },
  {
   "cell_type": "code",
   "execution_count": 2,
   "id": "948b2dc4-090d-47c0-8b83-9b3502e4e9f3",
   "metadata": {},
   "outputs": [
    {
     "name": "stderr",
     "output_type": "stream",
     "text": [
      "100%|███████████████████████████████████████████| 78/78 [00:12<00:00,  6.37it/s]\n"
     ]
    }
   ],
   "source": [
    "path_images = '/Users/m_vilas/projects/Net2Brain/input_data/stimuli_data/78images'\n",
    "save_path = '/Users/m_vilas/test'\n",
    "\n",
    "fts_datasets = fe.extract(path_images, save_format='dataset', save_path=save_path)"
   ]
  },
  {
   "cell_type": "code",
   "execution_count": 3,
   "id": "01f729d8-943b-429b-a1d2-1a16c9558d91",
   "metadata": {},
   "outputs": [
    {
     "name": "stdout",
     "output_type": "stream",
     "text": [
      "{'layer1': rsatoolbox.data.Dataset(\n",
      "measurements = \n",
      "[[0.00651395 0.00523897 0.00502557 ... 0.03112683 0.0168194  0.        ]\n",
      " [0.2371985  0.2579319  0.3460365  ... 1.2546022  0.24196889 0.        ]\n",
      " [0.23620495 0.2895102  0.24857639 ... 0.8353056  1.0888933  0.        ]\n",
      " ...\n",
      " [0.32463378 0.26182312 0.2564817  ... 0.04701129 0.13045819 0.        ]\n",
      " [0.00445512 0.0047385  0.00366665 ... 0.         0.         0.3265368 ]\n",
      " [0.21103615 0.15448973 0.00474278 ... 0.28030264 0.         0.61205375]]\n",
      "descriptors = \n",
      "{'dnn': 'ResNet50', 'layer': 'layer1'}\n",
      "obs_descriptors = \n",
      "{'images': array(['image_01', 'image_02', 'image_03', 'image_04', 'image_05',\n",
      "       'image_06', 'image_07', 'image_08', 'image_09', 'image_10',\n",
      "       'image_11', 'image_12', 'image_13', 'image_14', 'image_15',\n",
      "       'image_16', 'image_17', 'image_18', 'image_19', 'image_20',\n",
      "       'image_21', 'image_22', 'image_23', 'image_24', 'image_25',\n",
      "       'image_26', 'image_27', 'image_28', 'image_29', 'image_30',\n",
      "       'image_31', 'image_32', 'image_33', 'image_34', 'image_35',\n",
      "       'image_36', 'image_37', 'image_38', 'image_39', 'image_40',\n",
      "       'image_41', 'image_42', 'image_43', 'image_44', 'image_45',\n",
      "       'image_46', 'image_47', 'image_48', 'image_49', 'image_50',\n",
      "       'image_51', 'image_52', 'image_53', 'image_54', 'image_55',\n",
      "       'image_56', 'image_57', 'image_58', 'image_59', 'image_60',\n",
      "       'image_61', 'image_62', 'image_63', 'image_64', 'image_65',\n",
      "       'image_66', 'image_67', 'image_68', 'image_69', 'image_70',\n",
      "       'image_71', 'image_72', 'image_73', 'image_74', 'image_75',\n",
      "       'image_76', 'image_77', 'image_78'], dtype='<U8')}\n",
      "channel_descriptors = \n",
      "{}\n",
      ", 'layer2': rsatoolbox.data.Dataset(\n",
      "measurements = \n",
      "[[0.0000000e+00 0.0000000e+00 0.0000000e+00 ... 4.7743157e-01\n",
      "  2.0457289e-01 4.4050819e-01]\n",
      " [0.0000000e+00 0.0000000e+00 0.0000000e+00 ... 0.0000000e+00\n",
      "  0.0000000e+00 0.0000000e+00]\n",
      " [0.0000000e+00 1.1274753e-01 1.5603444e-02 ... 7.5961453e-01\n",
      "  6.0901469e-01 5.2843368e-01]\n",
      " ...\n",
      " [1.0136918e-03 2.5772767e-02 0.0000000e+00 ... 1.2510017e-02\n",
      "  3.5531330e-01 3.2088387e-01]\n",
      " [0.0000000e+00 7.0355488e-03 0.0000000e+00 ... 5.4565951e-02\n",
      "  0.0000000e+00 6.6535547e-04]\n",
      " [0.0000000e+00 0.0000000e+00 1.2204630e-02 ... 5.7106841e-01\n",
      "  3.7562427e-01 1.9918743e-01]]\n",
      "descriptors = \n",
      "{'dnn': 'ResNet50', 'layer': 'layer2'}\n",
      "obs_descriptors = \n",
      "{'images': array(['image_01', 'image_02', 'image_03', 'image_04', 'image_05',\n",
      "       'image_06', 'image_07', 'image_08', 'image_09', 'image_10',\n",
      "       'image_11', 'image_12', 'image_13', 'image_14', 'image_15',\n",
      "       'image_16', 'image_17', 'image_18', 'image_19', 'image_20',\n",
      "       'image_21', 'image_22', 'image_23', 'image_24', 'image_25',\n",
      "       'image_26', 'image_27', 'image_28', 'image_29', 'image_30',\n",
      "       'image_31', 'image_32', 'image_33', 'image_34', 'image_35',\n",
      "       'image_36', 'image_37', 'image_38', 'image_39', 'image_40',\n",
      "       'image_41', 'image_42', 'image_43', 'image_44', 'image_45',\n",
      "       'image_46', 'image_47', 'image_48', 'image_49', 'image_50',\n",
      "       'image_51', 'image_52', 'image_53', 'image_54', 'image_55',\n",
      "       'image_56', 'image_57', 'image_58', 'image_59', 'image_60',\n",
      "       'image_61', 'image_62', 'image_63', 'image_64', 'image_65',\n",
      "       'image_66', 'image_67', 'image_68', 'image_69', 'image_70',\n",
      "       'image_71', 'image_72', 'image_73', 'image_74', 'image_75',\n",
      "       'image_76', 'image_77', 'image_78'], dtype='<U8')}\n",
      "channel_descriptors = \n",
      "{}\n",
      ", 'layer3': rsatoolbox.data.Dataset(\n",
      "measurements = \n",
      "[[0.4397845  0.25088078 0.12803097 ... 0.33730403 0.40725648 0.84944767]\n",
      " [0.48121694 0.21343714 0.125826   ... 0.         0.09977905 0.04677968]\n",
      " [0.04721985 0.         0.02667041 ... 0.         0.07794439 0.60203606]\n",
      " ...\n",
      " [0.16734172 0.14403225 0.13632226 ... 0.53811175 0.65761465 0.5066102 ]\n",
      " [0.24573962 0.13679326 0.09302202 ... 0.         0.         0.        ]\n",
      " [0.3003839  0.         0.07031472 ... 0.44491154 0.50201946 0.00477711]]\n",
      "descriptors = \n",
      "{'dnn': 'ResNet50', 'layer': 'layer3'}\n",
      "obs_descriptors = \n",
      "{'images': array(['image_01', 'image_02', 'image_03', 'image_04', 'image_05',\n",
      "       'image_06', 'image_07', 'image_08', 'image_09', 'image_10',\n",
      "       'image_11', 'image_12', 'image_13', 'image_14', 'image_15',\n",
      "       'image_16', 'image_17', 'image_18', 'image_19', 'image_20',\n",
      "       'image_21', 'image_22', 'image_23', 'image_24', 'image_25',\n",
      "       'image_26', 'image_27', 'image_28', 'image_29', 'image_30',\n",
      "       'image_31', 'image_32', 'image_33', 'image_34', 'image_35',\n",
      "       'image_36', 'image_37', 'image_38', 'image_39', 'image_40',\n",
      "       'image_41', 'image_42', 'image_43', 'image_44', 'image_45',\n",
      "       'image_46', 'image_47', 'image_48', 'image_49', 'image_50',\n",
      "       'image_51', 'image_52', 'image_53', 'image_54', 'image_55',\n",
      "       'image_56', 'image_57', 'image_58', 'image_59', 'image_60',\n",
      "       'image_61', 'image_62', 'image_63', 'image_64', 'image_65',\n",
      "       'image_66', 'image_67', 'image_68', 'image_69', 'image_70',\n",
      "       'image_71', 'image_72', 'image_73', 'image_74', 'image_75',\n",
      "       'image_76', 'image_77', 'image_78'], dtype='<U8')}\n",
      "channel_descriptors = \n",
      "{}\n",
      ", 'layer4': rsatoolbox.data.Dataset(\n",
      "measurements = \n",
      "[[0.4585919  0.6163926  0.         ... 0.5484094  0.         0.7127266 ]\n",
      " [0.26268542 1.0355408  0.15907304 ... 0.         0.18603219 0.21228664]\n",
      " [0.         0.         0.         ... 0.33176792 0.         0.        ]\n",
      " ...\n",
      " [0.         0.         0.25432527 ... 0.53475237 0.20623618 0.        ]\n",
      " [1.5657086  1.4686236  0.9170474  ... 1.8352231  0.98099697 0.56947297]\n",
      " [0.         0.         0.         ... 1.3915786  0.04236202 0.        ]]\n",
      "descriptors = \n",
      "{'dnn': 'ResNet50', 'layer': 'layer4'}\n",
      "obs_descriptors = \n",
      "{'images': array(['image_01', 'image_02', 'image_03', 'image_04', 'image_05',\n",
      "       'image_06', 'image_07', 'image_08', 'image_09', 'image_10',\n",
      "       'image_11', 'image_12', 'image_13', 'image_14', 'image_15',\n",
      "       'image_16', 'image_17', 'image_18', 'image_19', 'image_20',\n",
      "       'image_21', 'image_22', 'image_23', 'image_24', 'image_25',\n",
      "       'image_26', 'image_27', 'image_28', 'image_29', 'image_30',\n",
      "       'image_31', 'image_32', 'image_33', 'image_34', 'image_35',\n",
      "       'image_36', 'image_37', 'image_38', 'image_39', 'image_40',\n",
      "       'image_41', 'image_42', 'image_43', 'image_44', 'image_45',\n",
      "       'image_46', 'image_47', 'image_48', 'image_49', 'image_50',\n",
      "       'image_51', 'image_52', 'image_53', 'image_54', 'image_55',\n",
      "       'image_56', 'image_57', 'image_58', 'image_59', 'image_60',\n",
      "       'image_61', 'image_62', 'image_63', 'image_64', 'image_65',\n",
      "       'image_66', 'image_67', 'image_68', 'image_69', 'image_70',\n",
      "       'image_71', 'image_72', 'image_73', 'image_74', 'image_75',\n",
      "       'image_76', 'image_77', 'image_78'], dtype='<U8')}\n",
      "channel_descriptors = \n",
      "{}\n",
      "}\n"
     ]
    }
   ],
   "source": [
    "print(fts_datasets)"
   ]
  },
  {
   "cell_type": "code",
   "execution_count": 4,
   "id": "8425b86a-61af-4134-be24-7135d0be8e88",
   "metadata": {},
   "outputs": [
    {
     "data": {
      "text/plain": [
       "rsatoolbox.data.Dataset(\n",
       "measurements = \n",
       "[[0.00651395 0.00523897 0.00502557 ... 0.03112683 0.0168194  0.        ]\n",
       " [0.2371985  0.2579319  0.3460365  ... 1.2546022  0.24196889 0.        ]\n",
       " [0.23620495 0.2895102  0.24857639 ... 0.8353056  1.0888933  0.        ]\n",
       " ...\n",
       " [0.32463378 0.26182312 0.2564817  ... 0.04701129 0.13045819 0.        ]\n",
       " [0.00445512 0.0047385  0.00366665 ... 0.         0.         0.3265368 ]\n",
       " [0.21103615 0.15448973 0.00474278 ... 0.28030264 0.         0.61205375]]\n",
       "descriptors = \n",
       "{'dnn': 'ResNet50', 'layer': 'layer1'}\n",
       "obs_descriptors = \n",
       "{'images': array(['image_01', 'image_02', 'image_03', 'image_04', 'image_05',\n",
       "       'image_06', 'image_07', 'image_08', 'image_09', 'image_10',\n",
       "       'image_11', 'image_12', 'image_13', 'image_14', 'image_15',\n",
       "       'image_16', 'image_17', 'image_18', 'image_19', 'image_20',\n",
       "       'image_21', 'image_22', 'image_23', 'image_24', 'image_25',\n",
       "       'image_26', 'image_27', 'image_28', 'image_29', 'image_30',\n",
       "       'image_31', 'image_32', 'image_33', 'image_34', 'image_35',\n",
       "       'image_36', 'image_37', 'image_38', 'image_39', 'image_40',\n",
       "       'image_41', 'image_42', 'image_43', 'image_44', 'image_45',\n",
       "       'image_46', 'image_47', 'image_48', 'image_49', 'image_50',\n",
       "       'image_51', 'image_52', 'image_53', 'image_54', 'image_55',\n",
       "       'image_56', 'image_57', 'image_58', 'image_59', 'image_60',\n",
       "       'image_61', 'image_62', 'image_63', 'image_64', 'image_65',\n",
       "       'image_66', 'image_67', 'image_68', 'image_69', 'image_70',\n",
       "       'image_71', 'image_72', 'image_73', 'image_74', 'image_75',\n",
       "       'image_76', 'image_77', 'image_78'], dtype='<U8')}\n",
       "channel_descriptors = \n",
       "{}"
      ]
     },
     "execution_count": 4,
     "metadata": {},
     "output_type": "execute_result"
    }
   ],
   "source": [
    "from pathlib import Path\n",
    "from rsatoolbox.data.dataset import load_dataset\n",
    "\n",
    "filename = Path(save_path) / f'ResNet50_layer1.hdf5'\n",
    "layer1_dataset = load_dataset(filename, file_type='hdf5')\n",
    "layer1_dataset"
   ]
  },
  {
   "cell_type": "code",
   "execution_count": null,
   "id": "07952878-ec26-4b0c-a73c-a09064d42162",
   "metadata": {},
   "outputs": [],
   "source": []
  }
 ],
 "metadata": {
  "kernelspec": {
   "display_name": "Python 3 (ipykernel)",
   "language": "python",
   "name": "python3"
  },
  "language_info": {
   "codemirror_mode": {
    "name": "ipython",
    "version": 3
   },
   "file_extension": ".py",
   "mimetype": "text/x-python",
   "name": "python",
   "nbconvert_exporter": "python",
   "pygments_lexer": "ipython3",
   "version": "3.9.13"
  }
 },
 "nbformat": 4,
 "nbformat_minor": 5
}
