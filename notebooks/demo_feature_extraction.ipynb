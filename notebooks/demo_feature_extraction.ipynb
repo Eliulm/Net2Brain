{
 "cells": [
  {
   "cell_type": "code",
   "execution_count": null,
   "id": "86abc3ce-162f-4533-b2eb-dd1813a103d3",
   "metadata": {},
   "outputs": [],
   "source": [
    "from net2brain.feature_extraction import print_all_models\n",
    "\n",
    "print_all_models()"
   ]
  },
  {
   "cell_type": "code",
   "execution_count": null,
   "id": "7cd9fda2-7dfa-4bcc-8a9a-fd95198538cf",
   "metadata": {},
   "outputs": [],
   "source": [
    "from net2brain.feature_extraction import print_netset_models\n",
    "\n",
    "print_netset_models('pyvideo')"
   ]
  },
  {
   "cell_type": "code",
   "execution_count": null,
   "id": "d5c363b0-5ccf-429b-8fcc-a82f6aaea030",
   "metadata": {},
   "outputs": [],
   "source": [
    "from net2brain.feature_extraction import find_model_like\n",
    "\n",
    "find_model_like('resnet50')"
   ]
  },
  {
   "cell_type": "code",
   "execution_count": 1,
   "id": "83e48930-2eed-4551-8177-88dfe7a452d3",
   "metadata": {},
   "outputs": [
    {
     "name": "stderr",
     "output_type": "stream",
     "text": [
      "/Users/m_vilas/opt/miniconda3/envs/net2brain/lib/python3.9/site-packages/tqdm/auto.py:22: TqdmWarning: IProgress not found. Please update jupyter and ipywidgets. See https://ipywidgets.readthedocs.io/en/stable/user_install.html\n",
      "  from .autonotebook import tqdm as notebook_tqdm\n"
     ]
    },
    {
     "name": "stdout",
     "output_type": "stream",
     "text": [
      "Clip models are not installed.\n",
      "CORnet models are not installed.\n",
      "Vissl models are not installed\n",
      "Detectron2 is not installed.\n"
     ]
    }
   ],
   "source": [
    "from net2brain.feature_extraction import FeatureExtractor\n",
    "\n",
    "fe = FeatureExtractor('ResNet50', 'cpu', 'standard')"
   ]
  },
  {
   "cell_type": "code",
   "execution_count": null,
   "id": "948b2dc4-090d-47c0-8b83-9b3502e4e9f3",
   "metadata": {},
   "outputs": [],
   "source": [
    "path_images = '/Users/m_vilas/projects/Net2Brain/input_data/stimuli_data/78images'\n",
    "save_path = '/Users/m_vilas/test'\n",
    "\n",
    "fe.extract(path_images, save_path)"
   ]
  },
  {
   "cell_type": "code",
   "execution_count": 2,
   "id": "425db258-d442-44ab-b2e8-ef4892b4faab",
   "metadata": {},
   "outputs": [
    {
     "name": "stderr",
     "output_type": "stream",
     "text": [
      "100%|███████████████████████████████████████| 78/78 [00:14<00:00,  5.25it/s]\n"
     ]
    }
   ],
   "source": [
    "path_images = '/Users/m_vilas/projects/Net2Brain/input_data/stimuli_data/78images'\n",
    "\n",
    "fe.extract(path_images)"
   ]
  },
  {
   "cell_type": "code",
   "execution_count": null,
   "id": "20659019-63e4-45cb-b55d-13724d347bac",
   "metadata": {},
   "outputs": [],
   "source": []
  }
 ],
 "metadata": {
  "kernelspec": {
   "display_name": "Python 3 (ipykernel)",
   "language": "python",
   "name": "python3"
  },
  "language_info": {
   "codemirror_mode": {
    "name": "ipython",
    "version": 3
   },
   "file_extension": ".py",
   "mimetype": "text/x-python",
   "name": "python",
   "nbconvert_exporter": "python",
   "pygments_lexer": "ipython3",
   "version": "3.9.13"
  }
 },
 "nbformat": 4,
 "nbformat_minor": 5
}
