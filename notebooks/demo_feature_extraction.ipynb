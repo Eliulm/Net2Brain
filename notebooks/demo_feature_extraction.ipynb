{
 "cells": [
  {
   "cell_type": "markdown",
   "id": "4ebb6aca-121a-4436-bb92-ef3e67e01aed",
   "metadata": {},
   "source": [
    "# Feature Extraction"
   ]
  },
  {
   "cell_type": "markdown",
   "id": "dc923836-dbd6-448a-81a0-1b67ce9afa80",
   "metadata": {},
   "source": [
    "You can print all available models using `print_all_models`. "
   ]
  },
  {
   "cell_type": "code",
   "execution_count": 4,
   "id": "86abc3ce-162f-4533-b2eb-dd1813a103d3",
   "metadata": {
    "tags": []
   },
   "outputs": [
    {
     "name": "stdout",
     "output_type": "stream",
     "text": [
      "\n",
      "\n",
      "NetSet: standard\n",
      "Models: ['AlexNet', 'ResNet18', 'ResNet34', 'ResNet50', 'ResNet101', 'ResNet152', 'Squeezenet1_0', 'Squeezenet1_1', 'VGG11', 'VGG11_bn', 'VGG13', 'VGG13_bn', 'VGG16', 'VGG16_bn', 'VGG19', 'VGG19_bn', 'Densenet121', 'Densenet161', 'Densenet169', 'Densenet201', 'GoogleNet', 'ShuffleNetV2x05', 'ShuffleNetV2x10', 'mobilenet_v2', 'mobilenet_v3_large', 'mobilenet_v3_small', 'resnext50_32x4d', 'resnext101_32x8d', 'wide_resnet101_2', 'wide_resnet50_2', 'mnasnet05', 'mnasnet10', 'efficientnet_b0', 'efficientnet_b1', 'efficientnet_b2', 'efficientnet_b3', 'efficientnet_b4', 'efficientnet_b5', 'efficientnet_b6', 'efficientnet_b7', 'regnet_y_400mf', 'regnet_y_800mf', 'regnet_y_1_6gf', 'regnet_y_3_2gf', 'regnet_y_8gf', 'regnet_y_16gf', 'regnet_y_32gf', 'regnet_x_400mf', 'regnet_x_800mf', 'regnet_x_1_6gf', 'regnet_x_3_2gf', 'regnet_x_8gf', 'regnet_x_16gf', 'regnet_x_32gf']\n",
      "\n",
      "\n",
      "NetSet: timm\n",
      "Models: ['adv_inception_v3', 'cait_m36_384', 'cait_m48_448', 'cait_s24_224', 'cait_s24_384', 'cait_s36_384', 'cait_xs24_384', 'cait_xxs24_224', 'cait_xxs24_384', 'cait_xxs36_224', 'cait_xxs36_384', 'coat_lite_mini', 'coat_lite_small', 'coat_lite_tiny', 'coat_mini', 'coat_tiny', 'convit_base', 'convit_small', 'convit_tiny', 'cspdarknet53', 'cspresnet50', 'cspresnext50', 'deit_base_distilled_patch16_224', 'deit_base_distilled_patch16_384', 'deit_base_patch16_224', 'deit_base_patch16_384', 'deit_small_distilled_patch16_224', 'deit_small_patch16_224', 'deit_tiny_distilled_patch16_224', 'deit_tiny_patch16_224', 'densenet121', 'densenet161', 'densenet169', 'densenet201', 'densenetblur121d', 'dla34', 'dla46_c', 'dla46x_c', 'dla60', 'dla60_res2net', 'dla60_res2next', 'dla60x', 'dla60x_c', 'dla102', 'dla102x', 'dla102x2', 'dla169', 'dm_nfnet_f0', 'dm_nfnet_f1', 'dm_nfnet_f2', 'dm_nfnet_f3', 'dm_nfnet_f4', 'dm_nfnet_f5', 'dm_nfnet_f6', 'dpn68', 'dpn68b', 'dpn92', 'dpn98', 'dpn107', 'dpn131', 'eca_nfnet_l0', 'eca_nfnet_l1', 'eca_nfnet_l2', 'ecaresnet26t', 'ecaresnet50d', 'ecaresnet50d_pruned', 'ecaresnet50t', 'ecaresnet101d', 'ecaresnet101d_pruned', 'ecaresnet269d', 'ecaresnetlight', 'efficientnet_b0', 'efficientnet_b1', 'efficientnet_b1_pruned', 'efficientnet_b2', 'efficientnet_b2_pruned', 'efficientnet_b3', 'efficientnet_b3_pruned', 'efficientnet_b4', 'efficientnet_el', 'efficientnet_el_pruned', 'efficientnet_em', 'efficientnet_es', 'efficientnet_es_pruned', 'efficientnet_lite0', 'efficientnetv2_rw_m', 'efficientnetv2_rw_s', 'ens_adv_inception_resnet_v2', 'ese_vovnet19b_dw', 'ese_vovnet39b', 'fbnetc_100', 'gernet_l', 'gernet_m', 'gernet_s', 'ghostnet_100', 'gluon_inception_v3', 'gluon_resnet18_v1b', 'gluon_resnet34_v1b', 'gluon_resnet50_v1b', 'gluon_resnet50_v1c', 'gluon_resnet50_v1d', 'gluon_resnet50_v1s', 'gluon_resnet101_v1b', 'gluon_resnet101_v1c', 'gluon_resnet101_v1d', 'gluon_resnet101_v1s', 'gluon_resnet152_v1b', 'gluon_resnet152_v1c', 'gluon_resnet152_v1d', 'gluon_resnet152_v1s', 'gluon_resnext50_32x4d', 'gluon_resnext101_32x4d', 'gluon_resnext101_64x4d', 'gluon_senet154', 'gluon_seresnext50_32x4d', 'gluon_seresnext101_32x4d', 'gluon_seresnext101_64x4d', 'gluon_xception65', 'gmixer_24_224', 'gmlp_s16_224', 'hardcorenas_a', 'hardcorenas_b', 'hardcorenas_c', 'hardcorenas_d', 'hardcorenas_e', 'hardcorenas_f', 'hrnet_w18', 'hrnet_w18_small', 'hrnet_w18_small_v2', 'hrnet_w30', 'hrnet_w32', 'hrnet_w40', 'hrnet_w44', 'hrnet_w48', 'hrnet_w64', 'ig_resnext101_32x8d', 'ig_resnext101_32x16d', 'ig_resnext101_32x32d', 'ig_resnext101_32x48d', 'inception_resnet_v2', 'inception_v3', 'inception_v4', 'legacy_senet154', 'legacy_seresnet18', 'legacy_seresnet34', 'legacy_seresnet50', 'legacy_seresnet101', 'legacy_seresnet152', 'legacy_seresnext26_32x4d', 'legacy_seresnext50_32x4d', 'legacy_seresnext101_32x4d', 'levit_384', 'mixer_b16_224', 'mixer_b16_224_in21k', 'mixer_b16_224_miil', 'mixer_b16_224_miil_in21k', 'mixer_l16_224', 'mixer_l16_224_in21k', 'mixnet_l', 'mixnet_m', 'mixnet_s', 'mixnet_xl', 'mnasnet_100', 'mobilenetv2_100', 'mobilenetv2_110d', 'mobilenetv2_120d', 'mobilenetv2_140', 'mobilenetv3_large_100', 'mobilenetv3_large_100_miil', 'mobilenetv3_large_100_miil_in21k', 'mobilenetv3_rw', 'nasnetalarge', 'nf_regnet_b1', 'nf_resnet50', 'nfnet_l0', 'pit_b_224', 'pit_b_distilled_224', 'pit_s_224', 'pit_s_distilled_224', 'pit_ti_224', 'pit_ti_distilled_224', 'pit_xs_224', 'pit_xs_distilled_224', 'pnasnet5large', 'regnetx_002', 'regnetx_004', 'regnetx_006', 'regnetx_008', 'regnetx_016', 'regnetx_032', 'regnetx_040', 'regnetx_064', 'regnetx_080', 'regnetx_120', 'regnetx_160', 'regnetx_320', 'regnety_002', 'regnety_004', 'regnety_006', 'regnety_008', 'regnety_016', 'regnety_032', 'regnety_040', 'regnety_064', 'regnety_080', 'regnety_120', 'regnety_160', 'regnety_320', 'repvgg_a2', 'repvgg_b0', 'repvgg_b1', 'repvgg_b1g4', 'repvgg_b2', 'repvgg_b2g4', 'repvgg_b3', 'repvgg_b3g4', 'res2net50_14w_8s', 'res2net50_26w_4s', 'res2net50_26w_6s', 'res2net50_26w_8s', 'res2net50_48w_2s', 'res2net101_26w_4s', 'res2next50', 'resmlp_12_224', 'resmlp_12_distilled_224', 'resmlp_24_224', 'resmlp_24_distilled_224', 'resmlp_36_224', 'resmlp_36_distilled_224', 'resmlp_big_24_224', 'resmlp_big_24_224_in22ft1k', 'resmlp_big_24_distilled_224', 'resnet18', 'resnet18d', 'resnet26', 'resnet26d', 'resnet34', 'resnet34d', 'resnet50', 'resnet50d', 'resnet51q', 'resnet101d', 'resnet152d', 'resnet200d', 'resnetblur50', 'resnetrs50', 'resnetrs101', 'resnetrs152', 'resnetrs200', 'resnetrs270', 'resnetrs350', 'resnetrs420', 'resnetv2_50x1_bit_distilled', 'resnetv2_50x1_bitm', 'resnetv2_50x1_bitm_in21k', 'resnetv2_50x3_bitm', 'resnetv2_50x3_bitm_in21k', 'resnetv2_101x1_bitm', 'resnetv2_101x1_bitm_in21k', 'resnetv2_101x3_bitm', 'resnetv2_101x3_bitm_in21k', 'resnetv2_152x2_bit_teacher', 'resnetv2_152x2_bit_teacher_384', 'resnetv2_152x2_bitm', 'resnetv2_152x2_bitm_in21k', 'resnetv2_152x4_bitm', 'resnetv2_152x4_bitm_in21k', 'resnext50_32x4d', 'resnext50d_32x4d', 'resnext101_32x8d', 'selecsls42b', 'selecsls60', 'selecsls60b', 'semnasnet_100', 'seresnet50', 'seresnet152d', 'seresnext26d_32x4d', 'seresnext26t_32x4d', 'seresnext50_32x4d', 'spnasnet_100', 'ssl_resnet18', 'ssl_resnet50', 'ssl_resnext50_32x4d', 'ssl_resnext101_32x4d', 'ssl_resnext101_32x8d', 'ssl_resnext101_32x16d', 'swin_base_patch4_window7_224', 'swin_base_patch4_window7_224_in22k', 'swin_base_patch4_window12_384', 'swin_base_patch4_window12_384_in22k', 'swin_large_patch4_window7_224', 'swin_large_patch4_window7_224_in22k', 'swin_large_patch4_window12_384', 'swin_large_patch4_window12_384_in22k', 'swin_small_patch4_window7_224', 'swin_tiny_patch4_window7_224', 'swsl_resnet18', 'swsl_resnet50', 'swsl_resnext50_32x4d', 'swsl_resnext101_32x4d', 'swsl_resnext101_32x8d', 'swsl_resnext101_32x16d', 'tf_efficientnet_b0', 'tf_efficientnet_b0_ap', 'tf_efficientnet_b0_ns', 'tf_efficientnet_b1', 'tf_efficientnet_b1_ap', 'tf_efficientnet_b1_ns', 'tf_efficientnet_b2', 'tf_efficientnet_b2_ap', 'tf_efficientnet_b2_ns', 'tf_efficientnet_b3', 'tf_efficientnet_b3_ap', 'tf_efficientnet_b3_ns', 'tf_efficientnet_b4', 'tf_efficientnet_b4_ap', 'tf_efficientnet_b4_ns', 'tf_efficientnet_b5', 'tf_efficientnet_b5_ap', 'tf_efficientnet_b5_ns', 'tf_efficientnet_b6', 'tf_efficientnet_b6_ap', 'tf_efficientnet_b6_ns', 'tf_efficientnet_b7', 'tf_efficientnet_b7_ap', 'tf_efficientnet_b7_ns', 'tf_efficientnet_b8', 'tf_efficientnet_b8_ap', 'tf_efficientnet_cc_b0_4e', 'tf_efficientnet_cc_b0_8e', 'tf_efficientnet_cc_b1_8e', 'tf_efficientnet_el', 'tf_efficientnet_em', 'tf_efficientnet_es', 'tf_efficientnet_l2_ns', 'tf_efficientnet_l2_ns_475', 'tf_efficientnet_lite0', 'tf_efficientnet_lite1', 'tf_efficientnet_lite2', 'tf_efficientnet_lite3', 'tf_efficientnet_lite4', 'tf_efficientnetv2_b0', 'tf_efficientnetv2_b1', 'tf_efficientnetv2_b2', 'tf_efficientnetv2_b3', 'tf_efficientnetv2_l', 'tf_efficientnetv2_l_in21ft1k', 'tf_efficientnetv2_l_in21k', 'tf_efficientnetv2_m', 'tf_efficientnetv2_m_in21ft1k', 'tf_efficientnetv2_m_in21k', 'tf_efficientnetv2_s', 'tf_efficientnetv2_s_in21ft1k', 'tf_efficientnetv2_s_in21k', 'tf_inception_v3', 'tf_mixnet_l', 'tf_mixnet_m', 'tf_mixnet_s', 'tf_mobilenetv3_large_075', 'tf_mobilenetv3_large_100', 'tf_mobilenetv3_large_minimal_100', 'tf_mobilenetv3_small_075', 'tf_mobilenetv3_small_100', 'tf_mobilenetv3_small_minimal_100', 'tnt_s_patch16_224', 'tv_densenet121', 'tv_resnet34', 'tv_resnet50', 'tv_resnet101', 'tv_resnet152', 'tv_resnext50_32x4d', 'twins_pcpvt_base', 'twins_pcpvt_large', 'twins_pcpvt_small', 'twins_svt_base', 'twins_svt_large', 'twins_svt_small', 'vgg11', 'vgg11_bn', 'vgg13', 'vgg13_bn', 'vgg16', 'vgg16_bn', 'vgg19', 'vgg19_bn', 'visformer_small', 'vit_base_patch16_224', 'vit_base_patch16_224_in21k', 'vit_base_patch16_224_miil', 'vit_base_patch16_224_miil_in21k', 'vit_base_patch16_384', 'vit_base_patch32_224', 'vit_base_patch32_224_in21k', 'vit_base_patch32_384', 'vit_base_r50_s16_224_in21k', 'vit_base_r50_s16_384', 'vit_huge_patch14_224_in21k', 'vit_large_patch16_224', 'vit_large_patch16_224_in21k', 'vit_large_patch16_384', 'vit_large_patch32_224_in21k', 'vit_large_patch32_384', 'vit_large_r50_s32_224', 'vit_large_r50_s32_224_in21k', 'vit_large_r50_s32_384', 'vit_small_patch16_224', 'vit_small_patch16_224_in21k', 'vit_small_patch16_384', 'vit_small_patch32_224', 'vit_small_patch32_224_in21k', 'vit_small_patch32_384', 'vit_small_r26_s32_224', 'vit_small_r26_s32_224_in21k', 'vit_small_r26_s32_384', 'vit_tiny_patch16_224', 'vit_tiny_patch16_224_in21k', 'vit_tiny_patch16_384', 'vit_tiny_r_s16_p8_224', 'vit_tiny_r_s16_p8_224_in21k', 'vit_tiny_r_s16_p8_384', 'wide_resnet50_2', 'wide_resnet101_2', 'xception', 'xception41', 'xception65', 'xception71']\n",
      "\n",
      "\n",
      "NetSet: pytorch\n",
      "Models: ['deeplabv3_mobilenet_v3_large', 'deeplabv3_resnet101', 'deeplabv3_resnet50', 'fcn_resnet101', 'fcn_resnet50', 'lraspp_mobilenet_v3_large']\n",
      "\n",
      "\n",
      "NetSet: unet\n",
      "Models: ['unet']\n",
      "\n",
      "\n",
      "NetSet: taskonomy\n",
      "Models: ['autoencoding', 'curvature', 'class_object', 'class_scene', 'denoising', 'depth_euclidean', 'edge_occlusion', 'edge_texture', 'egomotion', 'fixated_pose', 'inpainting', 'jigsaw', 'keypoints2d', 'keypoints3d', 'nonfixated_pose', 'normal', 'point_matching', 'reshading', 'room_layout', 'segment_unsup2d', 'segment_unsup25d', 'segment_semantic', 'vanishing_point']\n",
      "\n",
      "\n",
      "NetSet: pyvideo\n",
      "Models: ['slow_r50', 'slowfast_r101', 'slowfast_r50', 'x3d_m', 'x3d_s', 'x3d_xs']\n",
      "\n",
      "\n",
      "NetSet: clip\n",
      "Models: ['RN50', 'RN101', 'ViT-B_-_32', 'ViT-B_-_16', 'ViT-L_-_14']\n",
      "\n",
      "\n",
      "NetSet: cornet\n",
      "Models: ['cornet_z', 'cornet_rt', 'cornet_s']\n",
      "\n",
      "\n"
     ]
    }
   ],
   "source": [
    "from net2brain.feature_extraction import print_all_models\n",
    "\n",
    "print_all_models()"
   ]
  },
  {
   "cell_type": "markdown",
   "id": "0680577d-1758-41ba-859f-eb75209cc5af",
   "metadata": {},
   "source": [
    "You can also inspect the models available from a particular netset using `print_netset_models`:"
   ]
  },
  {
   "cell_type": "code",
   "execution_count": 5,
   "id": "7cd9fda2-7dfa-4bcc-8a9a-fd95198538cf",
   "metadata": {},
   "outputs": [
    {
     "data": {
      "text/plain": [
       "['slow_r50', 'slowfast_r101', 'slowfast_r50', 'x3d_m', 'x3d_s', 'x3d_xs']"
      ]
     },
     "execution_count": 5,
     "metadata": {},
     "output_type": "execute_result"
    }
   ],
   "source": [
    "from net2brain.feature_extraction import print_netset_models\n",
    "\n",
    "print_netset_models('pyvideo')"
   ]
  },
  {
   "cell_type": "markdown",
   "id": "7f6cc7f9-cd99-4f6a-81d5-ec73c4710f8e",
   "metadata": {},
   "source": [
    "Or you can find a model by giving a string that is similar using `find_model_like`:"
   ]
  },
  {
   "cell_type": "code",
   "execution_count": 6,
   "id": "d5c363b0-5ccf-429b-8fcc-a82f6aaea030",
   "metadata": {},
   "outputs": [
    {
     "name": "stdout",
     "output_type": "stream",
     "text": [
      "standard: ResNet50\n",
      "standard: wide_resnet50_2\n",
      "timm: cspresnet50\n",
      "timm: ecaresnet50d\n",
      "timm: ecaresnet50d_pruned\n",
      "timm: ecaresnet50t\n",
      "timm: gluon_resnet50_v1b\n",
      "timm: gluon_resnet50_v1c\n",
      "timm: gluon_resnet50_v1d\n",
      "timm: gluon_resnet50_v1s\n",
      "timm: legacy_seresnet50\n",
      "timm: nf_resnet50\n",
      "timm: resnet50\n",
      "timm: resnet50d\n",
      "timm: seresnet50\n",
      "timm: ssl_resnet50\n",
      "timm: swsl_resnet50\n",
      "timm: tv_resnet50\n",
      "timm: wide_resnet50_2\n",
      "pytorch: deeplabv3_resnet50\n",
      "pytorch: fcn_resnet50\n"
     ]
    }
   ],
   "source": [
    "from net2brain.feature_extraction import find_model_like\n",
    "\n",
    "find_model_like('resnet50')"
   ]
  },
  {
   "cell_type": "markdown",
   "id": "089bd358-1fd3-49da-8549-a309929dd434",
   "metadata": {},
   "source": [
    "## Use feature extractor"
   ]
  },
  {
   "cell_type": "markdown",
   "id": "3114e293-a369-4634-a64b-057184cb4520",
   "metadata": {},
   "source": [
    "To extract the activations of a model from the netset, you first need to initialize the `FeatureExtractor` class:"
   ]
  },
  {
   "cell_type": "code",
   "execution_count": 11,
   "id": "83e48930-2eed-4551-8177-88dfe7a452d3",
   "metadata": {},
   "outputs": [],
   "source": [
    "from net2brain.feature_extraction import FeatureExtractor\n",
    "\n",
    "fe = FeatureExtractor('ResNet50', 'standard', 'cpu')"
   ]
  },
  {
   "cell_type": "code",
   "execution_count": 12,
   "id": "426df22a-b261-4a7f-b94b-fd8cbdaeb030",
   "metadata": {},
   "outputs": [
    {
     "data": {
      "text/plain": [
       "['layer1', 'layer2', 'layer3', 'layer4']"
      ]
     },
     "execution_count": 12,
     "metadata": {},
     "output_type": "execute_result"
    }
   ],
   "source": [
    "fe.layers_to_extract"
   ]
  },
  {
   "cell_type": "markdown",
   "id": "3c783dd4-fb9c-4288-a1e9-7fc368a7f7a5",
   "metadata": {},
   "source": [
    "To initialize the extraction, you have to call the method `extract()`. Using this method, you can specify how you want the activations to be stored using the `save_format` argument. Options are `pt` or `np`, in which the activations of each image are stored separately in a tensor or array format, respectively, or `dataset`, in which the activations are stored in the format of a `Dataset` class of the [RSA toolbox](https://rsatoolbox.readthedocs.io/en/stable/).\n",
    "\n",
    "You can also specify which folder to use to store the activations using the `save_path` argument. By default this argument is `None` in which case the activations will be stored in a folder named `features` at the root of the project."
   ]
  },
  {
   "cell_type": "code",
   "execution_count": 9,
   "id": "948b2dc4-090d-47c0-8b83-9b3502e4e9f3",
   "metadata": {},
   "outputs": [
    {
     "name": "stderr",
     "output_type": "stream",
     "text": [
      "100%|███████████████████████████████████████████| 78/78 [00:15<00:00,  4.98it/s]\n"
     ]
    },
    {
     "name": "stdout",
     "output_type": "stream",
     "text": [
      "{'layer1': rsatoolbox.data.Dataset(\n",
      "measurements = \n",
      "[[0.00651395 0.00523897 0.00502557 ... 0.03112683 0.0168194  0.        ]\n",
      " [0.2371985  0.2579319  0.3460365  ... 1.2546022  0.24196889 0.        ]\n",
      " [0.23620495 0.2895102  0.24857639 ... 0.8353056  1.0888933  0.        ]\n",
      " ...\n",
      " [0.32463378 0.26182312 0.2564817  ... 0.04701129 0.13045819 0.        ]\n",
      " [0.00445512 0.0047385  0.00366665 ... 0.         0.         0.3265368 ]\n",
      " [0.21103615 0.15448973 0.00474278 ... 0.28030264 0.         0.61205375]]\n",
      "descriptors = \n",
      "{'dnn': 'ResNet50', 'layer': 'layer1'}\n",
      "obs_descriptors = \n",
      "{'images': array(['image_01', 'image_02', 'image_03', 'image_04', 'image_05',\n",
      "       'image_06', 'image_07', 'image_08', 'image_09', 'image_10',\n",
      "       'image_11', 'image_12', 'image_13', 'image_14', 'image_15',\n",
      "       'image_16', 'image_17', 'image_18', 'image_19', 'image_20',\n",
      "       'image_21', 'image_22', 'image_23', 'image_24', 'image_25',\n",
      "       'image_26', 'image_27', 'image_28', 'image_29', 'image_30',\n",
      "       'image_31', 'image_32', 'image_33', 'image_34', 'image_35',\n",
      "       'image_36', 'image_37', 'image_38', 'image_39', 'image_40',\n",
      "       'image_41', 'image_42', 'image_43', 'image_44', 'image_45',\n",
      "       'image_46', 'image_47', 'image_48', 'image_49', 'image_50',\n",
      "       'image_51', 'image_52', 'image_53', 'image_54', 'image_55',\n",
      "       'image_56', 'image_57', 'image_58', 'image_59', 'image_60',\n",
      "       'image_61', 'image_62', 'image_63', 'image_64', 'image_65',\n",
      "       'image_66', 'image_67', 'image_68', 'image_69', 'image_70',\n",
      "       'image_71', 'image_72', 'image_73', 'image_74', 'image_75',\n",
      "       'image_76', 'image_77', 'image_78'], dtype='<U8')}\n",
      "channel_descriptors = \n",
      "{}\n",
      ", 'layer2': rsatoolbox.data.Dataset(\n",
      "measurements = \n",
      "[[0.0000000e+00 0.0000000e+00 0.0000000e+00 ... 4.7743157e-01\n",
      "  2.0457289e-01 4.4050819e-01]\n",
      " [0.0000000e+00 0.0000000e+00 0.0000000e+00 ... 0.0000000e+00\n",
      "  0.0000000e+00 0.0000000e+00]\n",
      " [0.0000000e+00 1.1274753e-01 1.5603444e-02 ... 7.5961453e-01\n",
      "  6.0901469e-01 5.2843368e-01]\n",
      " ...\n",
      " [1.0136918e-03 2.5772767e-02 0.0000000e+00 ... 1.2510017e-02\n",
      "  3.5531330e-01 3.2088387e-01]\n",
      " [0.0000000e+00 7.0355488e-03 0.0000000e+00 ... 5.4565951e-02\n",
      "  0.0000000e+00 6.6535547e-04]\n",
      " [0.0000000e+00 0.0000000e+00 1.2204630e-02 ... 5.7106841e-01\n",
      "  3.7562427e-01 1.9918743e-01]]\n",
      "descriptors = \n",
      "{'dnn': 'ResNet50', 'layer': 'layer2'}\n",
      "obs_descriptors = \n",
      "{'images': array(['image_01', 'image_02', 'image_03', 'image_04', 'image_05',\n",
      "       'image_06', 'image_07', 'image_08', 'image_09', 'image_10',\n",
      "       'image_11', 'image_12', 'image_13', 'image_14', 'image_15',\n",
      "       'image_16', 'image_17', 'image_18', 'image_19', 'image_20',\n",
      "       'image_21', 'image_22', 'image_23', 'image_24', 'image_25',\n",
      "       'image_26', 'image_27', 'image_28', 'image_29', 'image_30',\n",
      "       'image_31', 'image_32', 'image_33', 'image_34', 'image_35',\n",
      "       'image_36', 'image_37', 'image_38', 'image_39', 'image_40',\n",
      "       'image_41', 'image_42', 'image_43', 'image_44', 'image_45',\n",
      "       'image_46', 'image_47', 'image_48', 'image_49', 'image_50',\n",
      "       'image_51', 'image_52', 'image_53', 'image_54', 'image_55',\n",
      "       'image_56', 'image_57', 'image_58', 'image_59', 'image_60',\n",
      "       'image_61', 'image_62', 'image_63', 'image_64', 'image_65',\n",
      "       'image_66', 'image_67', 'image_68', 'image_69', 'image_70',\n",
      "       'image_71', 'image_72', 'image_73', 'image_74', 'image_75',\n",
      "       'image_76', 'image_77', 'image_78'], dtype='<U8')}\n",
      "channel_descriptors = \n",
      "{}\n",
      ", 'layer3': rsatoolbox.data.Dataset(\n",
      "measurements = \n",
      "[[0.4397845  0.25088078 0.12803097 ... 0.33730403 0.40725648 0.84944767]\n",
      " [0.48121694 0.21343714 0.125826   ... 0.         0.09977905 0.04677968]\n",
      " [0.04721985 0.         0.02667041 ... 0.         0.07794439 0.60203606]\n",
      " ...\n",
      " [0.16734172 0.14403225 0.13632226 ... 0.53811175 0.65761465 0.5066102 ]\n",
      " [0.24573962 0.13679326 0.09302202 ... 0.         0.         0.        ]\n",
      " [0.3003839  0.         0.07031472 ... 0.44491154 0.50201946 0.00477711]]\n",
      "descriptors = \n",
      "{'dnn': 'ResNet50', 'layer': 'layer3'}\n",
      "obs_descriptors = \n",
      "{'images': array(['image_01', 'image_02', 'image_03', 'image_04', 'image_05',\n",
      "       'image_06', 'image_07', 'image_08', 'image_09', 'image_10',\n",
      "       'image_11', 'image_12', 'image_13', 'image_14', 'image_15',\n",
      "       'image_16', 'image_17', 'image_18', 'image_19', 'image_20',\n",
      "       'image_21', 'image_22', 'image_23', 'image_24', 'image_25',\n",
      "       'image_26', 'image_27', 'image_28', 'image_29', 'image_30',\n",
      "       'image_31', 'image_32', 'image_33', 'image_34', 'image_35',\n",
      "       'image_36', 'image_37', 'image_38', 'image_39', 'image_40',\n",
      "       'image_41', 'image_42', 'image_43', 'image_44', 'image_45',\n",
      "       'image_46', 'image_47', 'image_48', 'image_49', 'image_50',\n",
      "       'image_51', 'image_52', 'image_53', 'image_54', 'image_55',\n",
      "       'image_56', 'image_57', 'image_58', 'image_59', 'image_60',\n",
      "       'image_61', 'image_62', 'image_63', 'image_64', 'image_65',\n",
      "       'image_66', 'image_67', 'image_68', 'image_69', 'image_70',\n",
      "       'image_71', 'image_72', 'image_73', 'image_74', 'image_75',\n",
      "       'image_76', 'image_77', 'image_78'], dtype='<U8')}\n",
      "channel_descriptors = \n",
      "{}\n",
      ", 'layer4': rsatoolbox.data.Dataset(\n",
      "measurements = \n",
      "[[0.4585919  0.6163926  0.         ... 0.5484094  0.         0.7127266 ]\n",
      " [0.26268542 1.0355408  0.15907304 ... 0.         0.18603219 0.21228664]\n",
      " [0.         0.         0.         ... 0.33176792 0.         0.        ]\n",
      " ...\n",
      " [0.         0.         0.25432527 ... 0.53475237 0.20623618 0.        ]\n",
      " [1.5657086  1.4686236  0.9170474  ... 1.8352231  0.98099697 0.56947297]\n",
      " [0.         0.         0.         ... 1.3915786  0.04236202 0.        ]]\n",
      "descriptors = \n",
      "{'dnn': 'ResNet50', 'layer': 'layer4'}\n",
      "obs_descriptors = \n",
      "{'images': array(['image_01', 'image_02', 'image_03', 'image_04', 'image_05',\n",
      "       'image_06', 'image_07', 'image_08', 'image_09', 'image_10',\n",
      "       'image_11', 'image_12', 'image_13', 'image_14', 'image_15',\n",
      "       'image_16', 'image_17', 'image_18', 'image_19', 'image_20',\n",
      "       'image_21', 'image_22', 'image_23', 'image_24', 'image_25',\n",
      "       'image_26', 'image_27', 'image_28', 'image_29', 'image_30',\n",
      "       'image_31', 'image_32', 'image_33', 'image_34', 'image_35',\n",
      "       'image_36', 'image_37', 'image_38', 'image_39', 'image_40',\n",
      "       'image_41', 'image_42', 'image_43', 'image_44', 'image_45',\n",
      "       'image_46', 'image_47', 'image_48', 'image_49', 'image_50',\n",
      "       'image_51', 'image_52', 'image_53', 'image_54', 'image_55',\n",
      "       'image_56', 'image_57', 'image_58', 'image_59', 'image_60',\n",
      "       'image_61', 'image_62', 'image_63', 'image_64', 'image_65',\n",
      "       'image_66', 'image_67', 'image_68', 'image_69', 'image_70',\n",
      "       'image_71', 'image_72', 'image_73', 'image_74', 'image_75',\n",
      "       'image_76', 'image_77', 'image_78'], dtype='<U8')}\n",
      "channel_descriptors = \n",
      "{}\n",
      "}\n"
     ]
    }
   ],
   "source": [
    "images_path = '/Users/m_vilas/projects/Net2Brain/input_data/stimuli_data/78images'\n",
    "save_path = '/Users/m_vilas/test'\n",
    "\n",
    "fts_datasets = fe.extract(\n",
    "    dataset_path=images_path, save_format='dataset', save_path=save_path\n",
    ")\n",
    "print(fts_datasets)"
   ]
  },
  {
   "cell_type": "code",
   "execution_count": 10,
   "id": "8425b86a-61af-4134-be24-7135d0be8e88",
   "metadata": {},
   "outputs": [
    {
     "data": {
      "text/plain": [
       "rsatoolbox.data.Dataset(\n",
       "measurements = \n",
       "[[0.00651395 0.00523897 0.00502557 ... 0.03112683 0.0168194  0.        ]\n",
       " [0.2371985  0.2579319  0.3460365  ... 1.2546022  0.24196889 0.        ]\n",
       " [0.23620495 0.2895102  0.24857639 ... 0.8353056  1.0888933  0.        ]\n",
       " ...\n",
       " [0.32463378 0.26182312 0.2564817  ... 0.04701129 0.13045819 0.        ]\n",
       " [0.00445512 0.0047385  0.00366665 ... 0.         0.         0.3265368 ]\n",
       " [0.21103615 0.15448973 0.00474278 ... 0.28030264 0.         0.61205375]]\n",
       "descriptors = \n",
       "{'dnn': 'ResNet50', 'layer': 'layer1'}\n",
       "obs_descriptors = \n",
       "{'images': array(['image_01', 'image_02', 'image_03', 'image_04', 'image_05',\n",
       "       'image_06', 'image_07', 'image_08', 'image_09', 'image_10',\n",
       "       'image_11', 'image_12', 'image_13', 'image_14', 'image_15',\n",
       "       'image_16', 'image_17', 'image_18', 'image_19', 'image_20',\n",
       "       'image_21', 'image_22', 'image_23', 'image_24', 'image_25',\n",
       "       'image_26', 'image_27', 'image_28', 'image_29', 'image_30',\n",
       "       'image_31', 'image_32', 'image_33', 'image_34', 'image_35',\n",
       "       'image_36', 'image_37', 'image_38', 'image_39', 'image_40',\n",
       "       'image_41', 'image_42', 'image_43', 'image_44', 'image_45',\n",
       "       'image_46', 'image_47', 'image_48', 'image_49', 'image_50',\n",
       "       'image_51', 'image_52', 'image_53', 'image_54', 'image_55',\n",
       "       'image_56', 'image_57', 'image_58', 'image_59', 'image_60',\n",
       "       'image_61', 'image_62', 'image_63', 'image_64', 'image_65',\n",
       "       'image_66', 'image_67', 'image_68', 'image_69', 'image_70',\n",
       "       'image_71', 'image_72', 'image_73', 'image_74', 'image_75',\n",
       "       'image_76', 'image_77', 'image_78'], dtype='<U8')}\n",
       "channel_descriptors = \n",
       "{}"
      ]
     },
     "execution_count": 10,
     "metadata": {},
     "output_type": "execute_result"
    }
   ],
   "source": [
    "from pathlib import Path\n",
    "from rsatoolbox.data.dataset import load_dataset\n",
    "\n",
    "filename = Path(save_path) / f'ResNet50_layer1.hdf5'\n",
    "layer1_dataset = load_dataset(filename, file_type='hdf5')\n",
    "layer1_dataset"
   ]
  },
  {
   "cell_type": "code",
   "execution_count": 2,
   "id": "07952878-ec26-4b0c-a73c-a09064d42162",
   "metadata": {},
   "outputs": [],
   "source": [
    "### TODO: specify layers for extraction"
   ]
  },
  {
   "cell_type": "code",
   "execution_count": 3,
   "id": "931f9c69-b888-4178-a3e7-30827709a5ae",
   "metadata": {},
   "outputs": [],
   "source": [
    "### TODO: provide a print of the default layers of each model"
   ]
  },
  {
   "cell_type": "code",
   "execution_count": null,
   "id": "bfcb9939-b1b0-4109-9f1f-d09cc3c5fa11",
   "metadata": {},
   "outputs": [],
   "source": []
  }
 ],
 "metadata": {
  "kernelspec": {
   "display_name": "Python 3 (ipykernel)",
   "language": "python",
   "name": "python3"
  },
  "language_info": {
   "codemirror_mode": {
    "name": "ipython",
    "version": 3
   },
   "file_extension": ".py",
   "mimetype": "text/x-python",
   "name": "python",
   "nbconvert_exporter": "python",
   "pygments_lexer": "ipython3",
   "version": "3.9.13"
  }
 },
 "nbformat": 4,
 "nbformat_minor": 5
}
