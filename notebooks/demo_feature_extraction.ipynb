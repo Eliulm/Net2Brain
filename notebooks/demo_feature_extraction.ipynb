{
  "cells": [
    {
      "cell_type": "markdown",
      "id": "4ebb6aca-121a-4436-bb92-ef3e67e01aed",
      "metadata": {
        "id": "4ebb6aca-121a-4436-bb92-ef3e67e01aed"
      },
      "source": [
        "# Feature Extraction"
      ]
    },
    {
      "cell_type": "code",
      "execution_count": null,
      "id": "4ODrk2C7yMjr",
      "metadata": {
        "id": "4ODrk2C7yMjr"
      },
      "outputs": [],
      "source": [
        "!git clone -b Stable https://github.com/cvai-roig-lab/Net2Brain.git"
      ]
    },
    {
      "cell_type": "code",
      "execution_count": null,
      "id": "skd4li7z0Zn4",
      "metadata": {
        "id": "skd4li7z0Zn4"
      },
      "outputs": [],
      "source": [
        "!pip install Net2Brain/."
      ]
    },
    {
      "cell_type": "markdown",
      "id": "dc923836-dbd6-448a-81a0-1b67ce9afa80",
      "metadata": {
        "id": "dc923836-dbd6-448a-81a0-1b67ce9afa80"
      },
      "source": [
        "__Net2Brain__ allows you to use one of over 600 Deep Neural Networks (DNNs) for your experiments comparing human brain activity with the activations of artificial neural networks. The DNNs in __Net2Brain__ are obtained from what we call different _netsets_, which are libraries that provide different pretrained models. \n",
        "\n",
        "__Net2Brain__ provides access to the following _netsets_:\n",
        "- [Standard torchvision](https://pytorch.org/vision/stable/models.html) (`standard`).\n",
        "This netset is a collection of the torchvision models including models for image classification, pixelwise semantic segmentation, object detection, instance segmentation, person keypoint detection, video classification, and optical flow.\n",
        "- [Timm](https://github.com/rwightman/pytorch-image-models#models) (`timm`). \n",
        "A deep-learning library created by Ross Wightman that contains a collection of state-of-the-art computer vision models.\n",
        "- [PyTorch Hub](https://pytorch.org/docs/stable/hub.html) (`pytorch`). \n",
        "These models are accessible through the torch.hub API and are trained for different visual tasks. They are not included in the torchvision module.\n",
        "- [Unet](https://pytorch.org/hub/mateuszbuda_brain-segmentation-pytorch_unet/) (`unet`). \n",
        "Unet also is available through the torch.hub.API and is trained for abnormality segmentation in brain MRI.\n",
        "- [Taskonomy](https://github.com/StanfordVL/taskonomy) (`taskonomy`). A set of networks trained for different visual tasks, like Keypoint-Detection, Depth-Estimation, Reshading, etc. The initial idea for these networks was to find relationships between different visual tasks.\n",
        "- [Slowfast](https://github.com/facebookresearch/pytorchvideo) (`pyvideo`). \n",
        "These models are state-of-the-art video classification models trained on the Kinetics 400 dataset, acessible through the torch.hub API.\n",
        "- [CLIP](https://github.com/openai/CLIP) (`clip`). \n",
        "CLIP (Contrastive Language-Image Pre-Training) is a vision+language multimodal neural network trained on a variety of (image, text) pairs.\n",
        "- [CorNet](https://github.com/dicarlolab/CORnet) (`cornet`). \n",
        "A set of neural networks whose structure is supposed to resemble the one of the ventral visual pathway and therefore implements more recurrent connections that are commonplace in the VVS.\n",
        "- [Detectron2](https://github.com/facebookresearch/Detectron) (`detectron2`). \n",
        "Facebook AI Research's software system that implements state-of-the-art object detection algorithms, including Mask R-CNN. It covers models trained for object classification and detection such as instance, panoptic and keypoint detection.\n",
        "- [VISSL](https://github.com/facebookresearch/vissl) (`vissl`). \n",
        "VISSL provides reference implementation of a large number of self-supervision approaches.\n",
        "\n",
        "You can print the available models from every netset using the function `print_all_models()`. "
      ]
    },
    {
      "cell_type": "code",
      "execution_count": 3,
      "id": "86abc3ce-162f-4533-b2eb-dd1813a103d3",
      "metadata": {
        "colab": {
          "base_uri": "https://localhost:8080/"
        },
        "id": "86abc3ce-162f-4533-b2eb-dd1813a103d3",
        "outputId": "7f169a94-a23e-4fbc-c57f-78eb52eefde2",
        "tags": []
      },
      "outputs": [
        {
          "name": "stdout",
          "output_type": "stream",
          "text": [
            "Vissl models are not installed\n",
            "Detectron2 is not installed.\n",
            "\n",
            "\n",
            "NetSet: standard\n",
            "Models: ['AlexNet', 'ResNet18', 'ResNet34', 'ResNet50', 'ResNet101', 'ResNet152', 'Squeezenet1_0', 'Squeezenet1_1', 'VGG11', 'VGG11_bn', 'VGG13', 'VGG13_bn', 'VGG16', 'VGG16_bn', 'VGG19', 'VGG19_bn', 'Densenet121', 'Densenet161', 'Densenet169', 'Densenet201', 'GoogleNet', 'ShuffleNetV2x05', 'ShuffleNetV2x10', 'mobilenet_v2', 'mobilenet_v3_large', 'mobilenet_v3_small', 'resnext50_32x4d', 'resnext101_32x8d', 'wide_resnet101_2', 'wide_resnet50_2', 'mnasnet05', 'mnasnet10', 'efficientnet_b0', 'efficientnet_b1', 'efficientnet_b2', 'efficientnet_b3', 'efficientnet_b4', 'efficientnet_b5', 'efficientnet_b6', 'efficientnet_b7', 'regnet_y_400mf', 'regnet_y_800mf', 'regnet_y_1_6gf', 'regnet_y_3_2gf', 'regnet_y_8gf', 'regnet_y_16gf', 'regnet_y_32gf', 'regnet_x_400mf', 'regnet_x_800mf', 'regnet_x_1_6gf', 'regnet_x_3_2gf', 'regnet_x_8gf', 'regnet_x_16gf', 'regnet_x_32gf']\n",
            "\n",
            "\n",
            "NetSet: timm\n",
            "Models: ['adv_inception_v3', 'cait_m36_384', 'cait_m48_448', 'cait_s24_224', 'cait_s24_384', 'cait_s36_384', 'cait_xs24_384', 'cait_xxs24_224', 'cait_xxs24_384', 'cait_xxs36_224', 'cait_xxs36_384', 'coat_lite_mini', 'coat_lite_small', 'coat_lite_tiny', 'coat_mini', 'coat_tiny', 'convit_base', 'convit_small', 'convit_tiny', 'cspdarknet53', 'cspresnet50', 'cspresnext50', 'deit_base_distilled_patch16_224', 'deit_base_distilled_patch16_384', 'deit_base_patch16_224', 'deit_base_patch16_384', 'deit_small_distilled_patch16_224', 'deit_small_patch16_224', 'deit_tiny_distilled_patch16_224', 'deit_tiny_patch16_224', 'densenet121', 'densenet161', 'densenet169', 'densenet201', 'densenetblur121d', 'dla34', 'dla46_c', 'dla46x_c', 'dla60', 'dla60_res2net', 'dla60_res2next', 'dla60x', 'dla60x_c', 'dla102', 'dla102x', 'dla102x2', 'dla169', 'dm_nfnet_f0', 'dm_nfnet_f1', 'dm_nfnet_f2', 'dm_nfnet_f3', 'dm_nfnet_f4', 'dm_nfnet_f5', 'dm_nfnet_f6', 'dpn68', 'dpn68b', 'dpn92', 'dpn98', 'dpn107', 'dpn131', 'eca_nfnet_l0', 'eca_nfnet_l1', 'eca_nfnet_l2', 'ecaresnet26t', 'ecaresnet50d', 'ecaresnet50d_pruned', 'ecaresnet50t', 'ecaresnet101d', 'ecaresnet101d_pruned', 'ecaresnet269d', 'ecaresnetlight', 'efficientnet_b0', 'efficientnet_b1', 'efficientnet_b1_pruned', 'efficientnet_b2', 'efficientnet_b2_pruned', 'efficientnet_b3', 'efficientnet_b3_pruned', 'efficientnet_b4', 'efficientnet_el', 'efficientnet_el_pruned', 'efficientnet_em', 'efficientnet_es', 'efficientnet_es_pruned', 'efficientnet_lite0', 'efficientnetv2_rw_m', 'efficientnetv2_rw_s', 'ens_adv_inception_resnet_v2', 'ese_vovnet19b_dw', 'ese_vovnet39b', 'fbnetc_100', 'gernet_l', 'gernet_m', 'gernet_s', 'ghostnet_100', 'gluon_inception_v3', 'gluon_resnet18_v1b', 'gluon_resnet34_v1b', 'gluon_resnet50_v1b', 'gluon_resnet50_v1c', 'gluon_resnet50_v1d', 'gluon_resnet50_v1s', 'gluon_resnet101_v1b', 'gluon_resnet101_v1c', 'gluon_resnet101_v1d', 'gluon_resnet101_v1s', 'gluon_resnet152_v1b', 'gluon_resnet152_v1c', 'gluon_resnet152_v1d', 'gluon_resnet152_v1s', 'gluon_resnext50_32x4d', 'gluon_resnext101_32x4d', 'gluon_resnext101_64x4d', 'gluon_senet154', 'gluon_seresnext50_32x4d', 'gluon_seresnext101_32x4d', 'gluon_seresnext101_64x4d', 'gluon_xception65', 'gmixer_24_224', 'gmlp_s16_224', 'hardcorenas_a', 'hardcorenas_b', 'hardcorenas_c', 'hardcorenas_d', 'hardcorenas_e', 'hardcorenas_f', 'hrnet_w18', 'hrnet_w18_small', 'hrnet_w18_small_v2', 'hrnet_w30', 'hrnet_w32', 'hrnet_w40', 'hrnet_w44', 'hrnet_w48', 'hrnet_w64', 'ig_resnext101_32x8d', 'ig_resnext101_32x16d', 'ig_resnext101_32x32d', 'ig_resnext101_32x48d', 'inception_resnet_v2', 'inception_v3', 'inception_v4', 'legacy_senet154', 'legacy_seresnet18', 'legacy_seresnet34', 'legacy_seresnet50', 'legacy_seresnet101', 'legacy_seresnet152', 'legacy_seresnext26_32x4d', 'legacy_seresnext50_32x4d', 'legacy_seresnext101_32x4d', 'levit_384', 'mixer_b16_224', 'mixer_b16_224_in21k', 'mixer_b16_224_miil', 'mixer_b16_224_miil_in21k', 'mixer_l16_224', 'mixer_l16_224_in21k', 'mixnet_l', 'mixnet_m', 'mixnet_s', 'mixnet_xl', 'mnasnet_100', 'mobilenetv2_100', 'mobilenetv2_110d', 'mobilenetv2_120d', 'mobilenetv2_140', 'mobilenetv3_large_100', 'mobilenetv3_large_100_miil', 'mobilenetv3_large_100_miil_in21k', 'mobilenetv3_rw', 'nasnetalarge', 'nf_regnet_b1', 'nf_resnet50', 'nfnet_l0', 'pit_b_224', 'pit_b_distilled_224', 'pit_s_224', 'pit_s_distilled_224', 'pit_ti_224', 'pit_ti_distilled_224', 'pit_xs_224', 'pit_xs_distilled_224', 'pnasnet5large', 'regnetx_002', 'regnetx_004', 'regnetx_006', 'regnetx_008', 'regnetx_016', 'regnetx_032', 'regnetx_040', 'regnetx_064', 'regnetx_080', 'regnetx_120', 'regnetx_160', 'regnetx_320', 'regnety_002', 'regnety_004', 'regnety_006', 'regnety_008', 'regnety_016', 'regnety_032', 'regnety_040', 'regnety_064', 'regnety_080', 'regnety_120', 'regnety_160', 'regnety_320', 'repvgg_a2', 'repvgg_b0', 'repvgg_b1', 'repvgg_b1g4', 'repvgg_b2', 'repvgg_b2g4', 'repvgg_b3', 'repvgg_b3g4', 'res2net50_14w_8s', 'res2net50_26w_4s', 'res2net50_26w_6s', 'res2net50_26w_8s', 'res2net50_48w_2s', 'res2net101_26w_4s', 'res2next50', 'resmlp_12_224', 'resmlp_12_distilled_224', 'resmlp_24_224', 'resmlp_24_distilled_224', 'resmlp_36_224', 'resmlp_36_distilled_224', 'resmlp_big_24_224', 'resmlp_big_24_224_in22ft1k', 'resmlp_big_24_distilled_224', 'resnet18', 'resnet18d', 'resnet26', 'resnet26d', 'resnet34', 'resnet34d', 'resnet50', 'resnet50d', 'resnet51q', 'resnet101d', 'resnet152d', 'resnet200d', 'resnetblur50', 'resnetrs50', 'resnetrs101', 'resnetrs152', 'resnetrs200', 'resnetrs270', 'resnetrs350', 'resnetrs420', 'resnetv2_50x1_bit_distilled', 'resnetv2_50x1_bitm', 'resnetv2_50x1_bitm_in21k', 'resnetv2_50x3_bitm', 'resnetv2_50x3_bitm_in21k', 'resnetv2_101x1_bitm', 'resnetv2_101x1_bitm_in21k', 'resnetv2_101x3_bitm', 'resnetv2_101x3_bitm_in21k', 'resnetv2_152x2_bit_teacher', 'resnetv2_152x2_bit_teacher_384', 'resnetv2_152x2_bitm', 'resnetv2_152x2_bitm_in21k', 'resnetv2_152x4_bitm', 'resnetv2_152x4_bitm_in21k', 'resnext50_32x4d', 'resnext50d_32x4d', 'resnext101_32x8d', 'selecsls42b', 'selecsls60', 'selecsls60b', 'semnasnet_100', 'seresnet50', 'seresnet152d', 'seresnext26d_32x4d', 'seresnext26t_32x4d', 'seresnext50_32x4d', 'spnasnet_100', 'ssl_resnet18', 'ssl_resnet50', 'ssl_resnext50_32x4d', 'ssl_resnext101_32x4d', 'ssl_resnext101_32x8d', 'ssl_resnext101_32x16d', 'swin_base_patch4_window7_224', 'swin_base_patch4_window7_224_in22k', 'swin_base_patch4_window12_384', 'swin_base_patch4_window12_384_in22k', 'swin_large_patch4_window7_224', 'swin_large_patch4_window7_224_in22k', 'swin_large_patch4_window12_384', 'swin_large_patch4_window12_384_in22k', 'swin_small_patch4_window7_224', 'swin_tiny_patch4_window7_224', 'swsl_resnet18', 'swsl_resnet50', 'swsl_resnext50_32x4d', 'swsl_resnext101_32x4d', 'swsl_resnext101_32x8d', 'swsl_resnext101_32x16d', 'tf_efficientnet_b0', 'tf_efficientnet_b0_ap', 'tf_efficientnet_b0_ns', 'tf_efficientnet_b1', 'tf_efficientnet_b1_ap', 'tf_efficientnet_b1_ns', 'tf_efficientnet_b2', 'tf_efficientnet_b2_ap', 'tf_efficientnet_b2_ns', 'tf_efficientnet_b3', 'tf_efficientnet_b3_ap', 'tf_efficientnet_b3_ns', 'tf_efficientnet_b4', 'tf_efficientnet_b4_ap', 'tf_efficientnet_b4_ns', 'tf_efficientnet_b5', 'tf_efficientnet_b5_ap', 'tf_efficientnet_b5_ns', 'tf_efficientnet_b6', 'tf_efficientnet_b6_ap', 'tf_efficientnet_b6_ns', 'tf_efficientnet_b7', 'tf_efficientnet_b7_ap', 'tf_efficientnet_b7_ns', 'tf_efficientnet_b8', 'tf_efficientnet_b8_ap', 'tf_efficientnet_cc_b0_4e', 'tf_efficientnet_cc_b0_8e', 'tf_efficientnet_cc_b1_8e', 'tf_efficientnet_el', 'tf_efficientnet_em', 'tf_efficientnet_es', 'tf_efficientnet_l2_ns', 'tf_efficientnet_l2_ns_475', 'tf_efficientnet_lite0', 'tf_efficientnet_lite1', 'tf_efficientnet_lite2', 'tf_efficientnet_lite3', 'tf_efficientnet_lite4', 'tf_efficientnetv2_b0', 'tf_efficientnetv2_b1', 'tf_efficientnetv2_b2', 'tf_efficientnetv2_b3', 'tf_efficientnetv2_l', 'tf_efficientnetv2_l_in21ft1k', 'tf_efficientnetv2_l_in21k', 'tf_efficientnetv2_m', 'tf_efficientnetv2_m_in21ft1k', 'tf_efficientnetv2_m_in21k', 'tf_efficientnetv2_s', 'tf_efficientnetv2_s_in21ft1k', 'tf_efficientnetv2_s_in21k', 'tf_inception_v3', 'tf_mixnet_l', 'tf_mixnet_m', 'tf_mixnet_s', 'tf_mobilenetv3_large_075', 'tf_mobilenetv3_large_100', 'tf_mobilenetv3_large_minimal_100', 'tf_mobilenetv3_small_075', 'tf_mobilenetv3_small_100', 'tf_mobilenetv3_small_minimal_100', 'tnt_s_patch16_224', 'tv_densenet121', 'tv_resnet34', 'tv_resnet50', 'tv_resnet101', 'tv_resnet152', 'tv_resnext50_32x4d', 'twins_pcpvt_base', 'twins_pcpvt_large', 'twins_pcpvt_small', 'twins_svt_base', 'twins_svt_large', 'twins_svt_small', 'vgg11', 'vgg11_bn', 'vgg13', 'vgg13_bn', 'vgg16', 'vgg16_bn', 'vgg19', 'vgg19_bn', 'visformer_small', 'vit_base_patch16_224', 'vit_base_patch16_224_in21k', 'vit_base_patch16_224_miil', 'vit_base_patch16_224_miil_in21k', 'vit_base_patch16_384', 'vit_base_patch32_224', 'vit_base_patch32_224_in21k', 'vit_base_patch32_384', 'vit_base_r50_s16_224_in21k', 'vit_base_r50_s16_384', 'vit_huge_patch14_224_in21k', 'vit_large_patch16_224', 'vit_large_patch16_224_in21k', 'vit_large_patch16_384', 'vit_large_patch32_224_in21k', 'vit_large_patch32_384', 'vit_large_r50_s32_224', 'vit_large_r50_s32_224_in21k', 'vit_large_r50_s32_384', 'vit_small_patch16_224', 'vit_small_patch16_224_in21k', 'vit_small_patch16_384', 'vit_small_patch32_224', 'vit_small_patch32_224_in21k', 'vit_small_patch32_384', 'vit_small_r26_s32_224', 'vit_small_r26_s32_224_in21k', 'vit_small_r26_s32_384', 'vit_tiny_patch16_224', 'vit_tiny_patch16_224_in21k', 'vit_tiny_patch16_384', 'vit_tiny_r_s16_p8_224', 'vit_tiny_r_s16_p8_224_in21k', 'vit_tiny_r_s16_p8_384', 'wide_resnet50_2', 'wide_resnet101_2', 'xception', 'xception41', 'xception65', 'xception71']\n",
            "\n",
            "\n",
            "NetSet: pytorch\n",
            "Models: ['deeplabv3_mobilenet_v3_large', 'deeplabv3_resnet101', 'deeplabv3_resnet50', 'fcn_resnet101', 'fcn_resnet50', 'lraspp_mobilenet_v3_large']\n",
            "\n",
            "\n",
            "NetSet: unet\n",
            "Models: ['unet']\n",
            "\n",
            "\n",
            "NetSet: taskonomy\n",
            "Models: ['autoencoding', 'curvature', 'class_object', 'class_scene', 'denoising', 'depth_euclidean', 'edge_occlusion', 'edge_texture', 'egomotion', 'fixated_pose', 'inpainting', 'jigsaw', 'keypoints2d', 'keypoints3d', 'nonfixated_pose', 'normal', 'point_matching', 'reshading', 'room_layout', 'segment_unsup2d', 'segment_unsup25d', 'segment_semantic', 'vanishing_point']\n",
            "\n",
            "\n",
            "NetSet: pyvideo\n",
            "Models: ['slow_r50', 'slowfast_r101', 'slowfast_r50', 'x3d_m', 'x3d_s', 'x3d_xs']\n",
            "\n",
            "\n",
            "NetSet: clip\n",
            "Models: ['RN50', 'RN101', 'ViT-B_-_32', 'ViT-B_-_16', 'ViT-L_-_14']\n",
            "\n",
            "\n",
            "NetSet: cornet\n",
            "Models: ['cornet_z', 'cornet_rt', 'cornet_s']\n",
            "\n",
            "\n"
          ]
        }
      ],
      "source": [
        "from net2brain.feature_extraction import print_all_models\n",
        "\n",
        "print_all_models()"
      ]
    },
    {
      "cell_type": "markdown",
      "id": "0680577d-1758-41ba-859f-eb75209cc5af",
      "metadata": {
        "id": "0680577d-1758-41ba-859f-eb75209cc5af"
      },
      "source": [
        "You can also inspect the models available from a particular _netset_ using the function `print_netset_models()`:"
      ]
    },
    {
      "cell_type": "code",
      "execution_count": 4,
      "id": "7cd9fda2-7dfa-4bcc-8a9a-fd95198538cf",
      "metadata": {
        "colab": {
          "base_uri": "https://localhost:8080/"
        },
        "id": "7cd9fda2-7dfa-4bcc-8a9a-fd95198538cf",
        "outputId": "f53f678d-07fc-4588-e1d6-fb0771c40186"
      },
      "outputs": [
        {
          "data": {
            "text/plain": [
              "['slow_r50', 'slowfast_r101', 'slowfast_r50', 'x3d_m', 'x3d_s', 'x3d_xs']"
            ]
          },
          "execution_count": 4,
          "metadata": {},
          "output_type": "execute_result"
        }
      ],
      "source": [
        "from net2brain.feature_extraction import print_netset_models\n",
        "\n",
        "print_netset_models('pyvideo')"
      ]
    },
    {
      "cell_type": "markdown",
      "id": "7f6cc7f9-cd99-4f6a-81d5-ec73c4710f8e",
      "metadata": {
        "id": "7f6cc7f9-cd99-4f6a-81d5-ec73c4710f8e"
      },
      "source": [
        "Or you can find a model by its name using the function `find_model_like()`:"
      ]
    },
    {
      "cell_type": "code",
      "execution_count": 5,
      "id": "d5c363b0-5ccf-429b-8fcc-a82f6aaea030",
      "metadata": {
        "colab": {
          "base_uri": "https://localhost:8080/"
        },
        "id": "d5c363b0-5ccf-429b-8fcc-a82f6aaea030",
        "outputId": "d486c941-8768-4cfa-e106-fb266c27b7b1"
      },
      "outputs": [
        {
          "name": "stdout",
          "output_type": "stream",
          "text": [
            "standard: ResNet50\n",
            "standard: wide_resnet50_2\n",
            "timm: cspresnet50\n",
            "timm: ecaresnet50d\n",
            "timm: ecaresnet50d_pruned\n",
            "timm: ecaresnet50t\n",
            "timm: gluon_resnet50_v1b\n",
            "timm: gluon_resnet50_v1c\n",
            "timm: gluon_resnet50_v1d\n",
            "timm: gluon_resnet50_v1s\n",
            "timm: legacy_seresnet50\n",
            "timm: nf_resnet50\n",
            "timm: resnet50\n",
            "timm: resnet50d\n",
            "timm: seresnet50\n",
            "timm: ssl_resnet50\n",
            "timm: swsl_resnet50\n",
            "timm: tv_resnet50\n",
            "timm: wide_resnet50_2\n",
            "pytorch: deeplabv3_resnet50\n",
            "pytorch: fcn_resnet50\n"
          ]
        }
      ],
      "source": [
        "from net2brain.feature_extraction import find_model_like\n",
        "\n",
        "find_model_like('resnet50')"
      ]
    },
    {
      "cell_type": "markdown",
      "id": "089bd358-1fd3-49da-8549-a309929dd434",
      "metadata": {
        "id": "089bd358-1fd3-49da-8549-a309929dd434"
      },
      "source": [
        "## Using `FeatureExtractor` with a pretrained DNN"
      ]
    },
    {
      "cell_type": "markdown",
      "id": "3114e293-a369-4634-a64b-057184cb4520",
      "metadata": {
        "id": "3114e293-a369-4634-a64b-057184cb4520"
      },
      "source": [
        "To extract the activations of a pretrained model from one of the netsets, you will first need to initialize the `FeatureExtractor` class, and provide the name of the model as well as the name of the _netset_. You can also determine which device to use to compute the extraction, in case you want to run it on GPUs."
      ]
    },
    {
      "cell_type": "code",
      "execution_count": 6,
      "id": "83e48930-2eed-4551-8177-88dfe7a452d3",
      "metadata": {
        "colab": {
          "base_uri": "https://localhost:8080/",
          "height": 87,
          "referenced_widgets": [
            "4c7a1d542761427791a841f9872d693f",
            "3587f70a049a47e1b344ce45039d527a",
            "e72c50f12dda4c56b9dfc0fea87bc6a9",
            "f1a4c2c8b3d94d0f821f0574b6434c85",
            "d28eed3c3fab499686cb90629e65078f",
            "21959f75a3a4472085d63d036fca70b2",
            "b30be957a0994291b112cd066b758cb5",
            "2a88a7872a0941c498a3cf260b559177",
            "940505c8262a4465aaaf109e8e2d5df8",
            "f432fb8b5cc54077911006ffe0b5bf12",
            "9247d2b379c64cd3926e669ed3be60c5"
          ]
        },
        "id": "83e48930-2eed-4551-8177-88dfe7a452d3",
        "outputId": "34a91416-caca-4b3d-9fa5-859d40ce99eb"
      },
      "outputs": [
        {
          "name": "stderr",
          "output_type": "stream",
          "text": [
            "Downloading: \"https://download.pytorch.org/models/resnet50-0676ba61.pth\" to /root/.cache/torch/hub/checkpoints/resnet50-0676ba61.pth\n"
          ]
        },
        {
          "data": {
            "application/vnd.jupyter.widget-view+json": {
              "model_id": "4c7a1d542761427791a841f9872d693f",
              "version_major": 2,
              "version_minor": 0
            },
            "text/plain": [
              "  0%|          | 0.00/97.8M [00:00<?, ?B/s]"
            ]
          },
          "metadata": {},
          "output_type": "display_data"
        }
      ],
      "source": [
        "from net2brain.feature_extraction import FeatureExtractor\n",
        "\n",
        "fx = FeatureExtractor(model='ResNet50', netset='standard', device='cpu')"
      ]
    },
    {
      "cell_type": "markdown",
      "id": "ZSbD3CBM94B-",
      "metadata": {
        "id": "ZSbD3CBM94B-"
      },
      "source": [
        "__Net2Brain__ chooses by default from which layers of the model to extract the features from. You can inspect which layers are selected by default by calling the `layers_to_extract` attribute:"
      ]
    },
    {
      "cell_type": "code",
      "execution_count": 7,
      "id": "426df22a-b261-4a7f-b94b-fd8cbdaeb030",
      "metadata": {
        "colab": {
          "base_uri": "https://localhost:8080/"
        },
        "id": "426df22a-b261-4a7f-b94b-fd8cbdaeb030",
        "outputId": "62aa778b-455f-46c4-da52-8c344296a3bd"
      },
      "outputs": [
        {
          "data": {
            "text/plain": [
              "['layer1', 'layer2', 'layer3', 'layer4']"
            ]
          },
          "execution_count": 7,
          "metadata": {},
          "output_type": "execute_result"
        }
      ],
      "source": [
        "fx.layers_to_extract"
      ]
    },
    {
      "cell_type": "markdown",
      "id": "lefBKgE8_EDJ",
      "metadata": {
        "id": "lefBKgE8_EDJ"
      },
      "source": [
        "However, you can also select which layers to extract. If you would only want the activations from specific layer, for example layer 4, you can define this is the `FeatureExtractor` arguments:"
      ]
    },
    {
      "cell_type": "code",
      "execution_count": 8,
      "id": "ZmT2eRuf_C7U",
      "metadata": {
        "id": "ZmT2eRuf_C7U"
      },
      "outputs": [],
      "source": [
        "fx = FeatureExtractor(\n",
        "    model='ResNet50', netset='standard', \n",
        "    layers_to_extract=['layer4'], \n",
        "    device='cpu'\n",
        "  )"
      ]
    },
    {
      "cell_type": "markdown",
      "id": "d3t269UZGFn1",
      "metadata": {
        "id": "d3t269UZGFn1"
      },
      "source": [
        "If you are not sure about the names of the layers that you could extract from a given model beyond the __Net2Brain__ default ones, you can always use the `get_all_layers()` method to get a print out of the possibilities:"
      ]
    },
    {
      "cell_type": "code",
      "execution_count": 9,
      "id": "YPkACzdNF4_E",
      "metadata": {
        "colab": {
          "base_uri": "https://localhost:8080/"
        },
        "id": "YPkACzdNF4_E",
        "outputId": "30463e6e-1386-4a17-966d-a9ae950d33fc"
      },
      "outputs": [
        {
          "data": {
            "text/plain": [
              "['',\n",
              " 'conv1',\n",
              " 'bn1',\n",
              " 'relu',\n",
              " 'maxpool',\n",
              " 'layer1',\n",
              " 'layer1.0',\n",
              " 'layer1.0.conv1',\n",
              " 'layer1.0.bn1',\n",
              " 'layer1.0.conv2',\n",
              " 'layer1.0.bn2',\n",
              " 'layer1.0.conv3',\n",
              " 'layer1.0.bn3',\n",
              " 'layer1.0.relu',\n",
              " 'layer1.0.downsample',\n",
              " 'layer1.0.downsample.0',\n",
              " 'layer1.0.downsample.1',\n",
              " 'layer1.1',\n",
              " 'layer1.1.conv1',\n",
              " 'layer1.1.bn1',\n",
              " 'layer1.1.conv2',\n",
              " 'layer1.1.bn2',\n",
              " 'layer1.1.conv3',\n",
              " 'layer1.1.bn3',\n",
              " 'layer1.1.relu',\n",
              " 'layer1.2',\n",
              " 'layer1.2.conv1',\n",
              " 'layer1.2.bn1',\n",
              " 'layer1.2.conv2',\n",
              " 'layer1.2.bn2',\n",
              " 'layer1.2.conv3',\n",
              " 'layer1.2.bn3',\n",
              " 'layer1.2.relu',\n",
              " 'layer2',\n",
              " 'layer2.0',\n",
              " 'layer2.0.conv1',\n",
              " 'layer2.0.bn1',\n",
              " 'layer2.0.conv2',\n",
              " 'layer2.0.bn2',\n",
              " 'layer2.0.conv3',\n",
              " 'layer2.0.bn3',\n",
              " 'layer2.0.relu',\n",
              " 'layer2.0.downsample',\n",
              " 'layer2.0.downsample.0',\n",
              " 'layer2.0.downsample.1',\n",
              " 'layer2.1',\n",
              " 'layer2.1.conv1',\n",
              " 'layer2.1.bn1',\n",
              " 'layer2.1.conv2',\n",
              " 'layer2.1.bn2',\n",
              " 'layer2.1.conv3',\n",
              " 'layer2.1.bn3',\n",
              " 'layer2.1.relu',\n",
              " 'layer2.2',\n",
              " 'layer2.2.conv1',\n",
              " 'layer2.2.bn1',\n",
              " 'layer2.2.conv2',\n",
              " 'layer2.2.bn2',\n",
              " 'layer2.2.conv3',\n",
              " 'layer2.2.bn3',\n",
              " 'layer2.2.relu',\n",
              " 'layer2.3',\n",
              " 'layer2.3.conv1',\n",
              " 'layer2.3.bn1',\n",
              " 'layer2.3.conv2',\n",
              " 'layer2.3.bn2',\n",
              " 'layer2.3.conv3',\n",
              " 'layer2.3.bn3',\n",
              " 'layer2.3.relu',\n",
              " 'layer3',\n",
              " 'layer3.0',\n",
              " 'layer3.0.conv1',\n",
              " 'layer3.0.bn1',\n",
              " 'layer3.0.conv2',\n",
              " 'layer3.0.bn2',\n",
              " 'layer3.0.conv3',\n",
              " 'layer3.0.bn3',\n",
              " 'layer3.0.relu',\n",
              " 'layer3.0.downsample',\n",
              " 'layer3.0.downsample.0',\n",
              " 'layer3.0.downsample.1',\n",
              " 'layer3.1',\n",
              " 'layer3.1.conv1',\n",
              " 'layer3.1.bn1',\n",
              " 'layer3.1.conv2',\n",
              " 'layer3.1.bn2',\n",
              " 'layer3.1.conv3',\n",
              " 'layer3.1.bn3',\n",
              " 'layer3.1.relu',\n",
              " 'layer3.2',\n",
              " 'layer3.2.conv1',\n",
              " 'layer3.2.bn1',\n",
              " 'layer3.2.conv2',\n",
              " 'layer3.2.bn2',\n",
              " 'layer3.2.conv3',\n",
              " 'layer3.2.bn3',\n",
              " 'layer3.2.relu',\n",
              " 'layer3.3',\n",
              " 'layer3.3.conv1',\n",
              " 'layer3.3.bn1',\n",
              " 'layer3.3.conv2',\n",
              " 'layer3.3.bn2',\n",
              " 'layer3.3.conv3',\n",
              " 'layer3.3.bn3',\n",
              " 'layer3.3.relu',\n",
              " 'layer3.4',\n",
              " 'layer3.4.conv1',\n",
              " 'layer3.4.bn1',\n",
              " 'layer3.4.conv2',\n",
              " 'layer3.4.bn2',\n",
              " 'layer3.4.conv3',\n",
              " 'layer3.4.bn3',\n",
              " 'layer3.4.relu',\n",
              " 'layer3.5',\n",
              " 'layer3.5.conv1',\n",
              " 'layer3.5.bn1',\n",
              " 'layer3.5.conv2',\n",
              " 'layer3.5.bn2',\n",
              " 'layer3.5.conv3',\n",
              " 'layer3.5.bn3',\n",
              " 'layer3.5.relu',\n",
              " 'layer4',\n",
              " 'layer4.0',\n",
              " 'layer4.0.conv1',\n",
              " 'layer4.0.bn1',\n",
              " 'layer4.0.conv2',\n",
              " 'layer4.0.bn2',\n",
              " 'layer4.0.conv3',\n",
              " 'layer4.0.bn3',\n",
              " 'layer4.0.relu',\n",
              " 'layer4.0.downsample',\n",
              " 'layer4.0.downsample.0',\n",
              " 'layer4.0.downsample.1',\n",
              " 'layer4.1',\n",
              " 'layer4.1.conv1',\n",
              " 'layer4.1.bn1',\n",
              " 'layer4.1.conv2',\n",
              " 'layer4.1.bn2',\n",
              " 'layer4.1.conv3',\n",
              " 'layer4.1.bn3',\n",
              " 'layer4.1.relu',\n",
              " 'layer4.2',\n",
              " 'layer4.2.conv1',\n",
              " 'layer4.2.bn1',\n",
              " 'layer4.2.conv2',\n",
              " 'layer4.2.bn2',\n",
              " 'layer4.2.conv3',\n",
              " 'layer4.2.bn3',\n",
              " 'layer4.2.relu',\n",
              " 'avgpool',\n",
              " 'fc']"
            ]
          },
          "execution_count": 9,
          "metadata": {},
          "output_type": "execute_result"
        }
      ],
      "source": [
        "fx.get_all_layers()"
      ]
    },
    {
      "cell_type": "markdown",
      "id": "3c783dd4-fb9c-4288-a1e9-7fc368a7f7a5",
      "metadata": {
        "id": "3c783dd4-fb9c-4288-a1e9-7fc368a7f7a5"
      },
      "source": [
        "To initialize the extraction, you have to call the method `extract()`. Using this method, you can specify how you want the activations to be stored using the `save_format` argument. Options are (1)`pt` or (2)`npz`, in which cases the activations are stored separately for each image in a tensor or array format (respectively), or (3)`dataset`, in which case the activations are stored in the format of the `Dataset` class of the [RSA toolbox](https://rsatoolbox.readthedocs.io/en/stable/).\n",
        "\n",
        "You can also specify in which folder to store the activations using the `save_path` argument. By default the activations will be stored in a folder named `features` at the root of the project."
      ]
    },
    {
      "cell_type": "code",
      "execution_count": 10,
      "id": "948b2dc4-090d-47c0-8b83-9b3502e4e9f3",
      "metadata": {
        "colab": {
          "base_uri": "https://localhost:8080/"
        },
        "id": "948b2dc4-090d-47c0-8b83-9b3502e4e9f3",
        "outputId": "7b4dc38f-fd10-41d0-9933-081da34e618e"
      },
      "outputs": [
        {
          "name": "stderr",
          "output_type": "stream",
          "text": [
            "100%|██████████| 78/78 [00:24<00:00,  3.23it/s]\n"
          ]
        },
        {
          "name": "stdout",
          "output_type": "stream",
          "text": [
            "{'layer1': rsatoolbox.data.Dataset(\n",
            "measurements = \n",
            "[[0.00647232 0.00522995 0.00503027 ... 0.02912692 0.01408587 0.        ]\n",
            " [0.2340285  0.25697285 0.3446126  ... 1.254963   0.24962883 0.        ]\n",
            " [0.23590007 0.2889845  0.24829459 ... 0.8408534  1.0931451  0.        ]\n",
            " ...\n",
            " [0.32549843 0.2632195  0.25770447 ... 0.04537944 0.12915137 0.        ]\n",
            " [0.00444641 0.00473537 0.00366836 ... 0.         0.         0.3205166 ]\n",
            " [0.21026194 0.15159883 0.00472115 ... 0.2863451  0.         0.61309004]]\n",
            "descriptors = \n",
            "{'dnn': 'ResNet50', 'layer': 'layer1'}\n",
            "obs_descriptors = \n",
            "{'images': array(['image_01', 'image_02', 'image_03', 'image_04', 'image_05',\n",
            "       'image_06', 'image_07', 'image_08', 'image_09', 'image_10',\n",
            "       'image_11', 'image_12', 'image_13', 'image_14', 'image_15',\n",
            "       'image_16', 'image_17', 'image_18', 'image_19', 'image_20',\n",
            "       'image_21', 'image_22', 'image_23', 'image_24', 'image_25',\n",
            "       'image_26', 'image_27', 'image_28', 'image_29', 'image_30',\n",
            "       'image_31', 'image_32', 'image_33', 'image_34', 'image_35',\n",
            "       'image_36', 'image_37', 'image_38', 'image_39', 'image_40',\n",
            "       'image_41', 'image_42', 'image_43', 'image_44', 'image_45',\n",
            "       'image_46', 'image_47', 'image_48', 'image_49', 'image_50',\n",
            "       'image_51', 'image_52', 'image_53', 'image_54', 'image_55',\n",
            "       'image_56', 'image_57', 'image_58', 'image_59', 'image_60',\n",
            "       'image_61', 'image_62', 'image_63', 'image_64', 'image_65',\n",
            "       'image_66', 'image_67', 'image_68', 'image_69', 'image_70',\n",
            "       'image_71', 'image_72', 'image_73', 'image_74', 'image_75',\n",
            "       'image_76', 'image_77', 'image_78'], dtype='<U8')}\n",
            "channel_descriptors = \n",
            "{}\n",
            ", 'layer2': rsatoolbox.data.Dataset(\n",
            "measurements = \n",
            "[[0.         0.         0.         ... 0.47671434 0.20637186 0.4443684 ]\n",
            " [0.         0.         0.         ... 0.         0.         0.        ]\n",
            " [0.         0.11231887 0.01425407 ... 0.75749123 0.60111827 0.54010963]\n",
            " ...\n",
            " [0.00112092 0.02663295 0.         ... 0.02098077 0.3585212  0.32414365]\n",
            " [0.         0.0067918  0.         ... 0.05188208 0.         0.00835072]\n",
            " [0.         0.         0.01177479 ... 0.5601218  0.3712196  0.19739135]]\n",
            "descriptors = \n",
            "{'dnn': 'ResNet50', 'layer': 'layer2'}\n",
            "obs_descriptors = \n",
            "{'images': array(['image_01', 'image_02', 'image_03', 'image_04', 'image_05',\n",
            "       'image_06', 'image_07', 'image_08', 'image_09', 'image_10',\n",
            "       'image_11', 'image_12', 'image_13', 'image_14', 'image_15',\n",
            "       'image_16', 'image_17', 'image_18', 'image_19', 'image_20',\n",
            "       'image_21', 'image_22', 'image_23', 'image_24', 'image_25',\n",
            "       'image_26', 'image_27', 'image_28', 'image_29', 'image_30',\n",
            "       'image_31', 'image_32', 'image_33', 'image_34', 'image_35',\n",
            "       'image_36', 'image_37', 'image_38', 'image_39', 'image_40',\n",
            "       'image_41', 'image_42', 'image_43', 'image_44', 'image_45',\n",
            "       'image_46', 'image_47', 'image_48', 'image_49', 'image_50',\n",
            "       'image_51', 'image_52', 'image_53', 'image_54', 'image_55',\n",
            "       'image_56', 'image_57', 'image_58', 'image_59', 'image_60',\n",
            "       'image_61', 'image_62', 'image_63', 'image_64', 'image_65',\n",
            "       'image_66', 'image_67', 'image_68', 'image_69', 'image_70',\n",
            "       'image_71', 'image_72', 'image_73', 'image_74', 'image_75',\n",
            "       'image_76', 'image_77', 'image_78'], dtype='<U8')}\n",
            "channel_descriptors = \n",
            "{}\n",
            ", 'layer3': rsatoolbox.data.Dataset(\n",
            "measurements = \n",
            "[[0.43821913 0.25423038 0.13153271 ... 0.34699887 0.41233096 0.84512824]\n",
            " [0.48110998 0.2133678  0.12567446 ... 0.         0.0884962  0.04836498]\n",
            " [0.04946557 0.         0.03229116 ... 0.         0.04526413 0.6454666 ]\n",
            " ...\n",
            " [0.16642694 0.14473341 0.13565135 ... 0.5425625  0.6587559  0.5039972 ]\n",
            " [0.24622235 0.13832113 0.0906361  ... 0.         0.         0.        ]\n",
            " [0.3043059  0.         0.06865583 ... 0.46347433 0.50507724 0.        ]]\n",
            "descriptors = \n",
            "{'dnn': 'ResNet50', 'layer': 'layer3'}\n",
            "obs_descriptors = \n",
            "{'images': array(['image_01', 'image_02', 'image_03', 'image_04', 'image_05',\n",
            "       'image_06', 'image_07', 'image_08', 'image_09', 'image_10',\n",
            "       'image_11', 'image_12', 'image_13', 'image_14', 'image_15',\n",
            "       'image_16', 'image_17', 'image_18', 'image_19', 'image_20',\n",
            "       'image_21', 'image_22', 'image_23', 'image_24', 'image_25',\n",
            "       'image_26', 'image_27', 'image_28', 'image_29', 'image_30',\n",
            "       'image_31', 'image_32', 'image_33', 'image_34', 'image_35',\n",
            "       'image_36', 'image_37', 'image_38', 'image_39', 'image_40',\n",
            "       'image_41', 'image_42', 'image_43', 'image_44', 'image_45',\n",
            "       'image_46', 'image_47', 'image_48', 'image_49', 'image_50',\n",
            "       'image_51', 'image_52', 'image_53', 'image_54', 'image_55',\n",
            "       'image_56', 'image_57', 'image_58', 'image_59', 'image_60',\n",
            "       'image_61', 'image_62', 'image_63', 'image_64', 'image_65',\n",
            "       'image_66', 'image_67', 'image_68', 'image_69', 'image_70',\n",
            "       'image_71', 'image_72', 'image_73', 'image_74', 'image_75',\n",
            "       'image_76', 'image_77', 'image_78'], dtype='<U8')}\n",
            "channel_descriptors = \n",
            "{}\n",
            ", 'layer4': rsatoolbox.data.Dataset(\n",
            "measurements = \n",
            "[[0.4700154  0.63698566 0.         ... 0.50545573 0.         0.73870814]\n",
            " [0.31361848 0.97275805 0.0925342  ... 0.         0.1578201  0.13504712]\n",
            " [0.         0.         0.         ... 0.3558699  0.         0.        ]\n",
            " ...\n",
            " [0.         0.         0.26393813 ... 0.5758803  0.24693593 0.        ]\n",
            " [1.6382384  1.547847   0.9935794  ... 1.8041842  0.96958995 0.5873578 ]\n",
            " [0.         0.         0.         ... 1.315151   0.06650957 0.        ]]\n",
            "descriptors = \n",
            "{'dnn': 'ResNet50', 'layer': 'layer4'}\n",
            "obs_descriptors = \n",
            "{'images': array(['image_01', 'image_02', 'image_03', 'image_04', 'image_05',\n",
            "       'image_06', 'image_07', 'image_08', 'image_09', 'image_10',\n",
            "       'image_11', 'image_12', 'image_13', 'image_14', 'image_15',\n",
            "       'image_16', 'image_17', 'image_18', 'image_19', 'image_20',\n",
            "       'image_21', 'image_22', 'image_23', 'image_24', 'image_25',\n",
            "       'image_26', 'image_27', 'image_28', 'image_29', 'image_30',\n",
            "       'image_31', 'image_32', 'image_33', 'image_34', 'image_35',\n",
            "       'image_36', 'image_37', 'image_38', 'image_39', 'image_40',\n",
            "       'image_41', 'image_42', 'image_43', 'image_44', 'image_45',\n",
            "       'image_46', 'image_47', 'image_48', 'image_49', 'image_50',\n",
            "       'image_51', 'image_52', 'image_53', 'image_54', 'image_55',\n",
            "       'image_56', 'image_57', 'image_58', 'image_59', 'image_60',\n",
            "       'image_61', 'image_62', 'image_63', 'image_64', 'image_65',\n",
            "       'image_66', 'image_67', 'image_68', 'image_69', 'image_70',\n",
            "       'image_71', 'image_72', 'image_73', 'image_74', 'image_75',\n",
            "       'image_76', 'image_77', 'image_78'], dtype='<U8')}\n",
            "channel_descriptors = \n",
            "{}\n",
            "}\n"
          ]
        }
      ],
      "source": [
        "images_path = 'Net2Brain/input_data/stimuli_data/78images'\n",
        "\n",
        "fx = FeatureExtractor(model='ResNet50', netset='standard', device='cpu')\n",
        "fts_datasets = fx.extract(\n",
        "    dataset_path=images_path, save_format='dataset', save_path='features'\n",
        "  )\n",
        "print(fts_datasets)"
      ]
    },
    {
      "cell_type": "markdown",
      "id": "u8PoTSo8K2G9",
      "metadata": {
        "id": "u8PoTSo8K2G9"
      },
      "source": [
        "As you can see from the printout, if `dataset` is provided as the output format, the function returns a dictionary of a Dataset class with an entry for each of the layers specified. These dataset classes are stored separetely in the output folder. You can load these classes back into your code using the `load_dataset` function from the rsatoolbox dataset like so: "
      ]
    },
    {
      "cell_type": "code",
      "execution_count": 11,
      "id": "8425b86a-61af-4134-be24-7135d0be8e88",
      "metadata": {
        "colab": {
          "base_uri": "https://localhost:8080/"
        },
        "id": "8425b86a-61af-4134-be24-7135d0be8e88",
        "outputId": "a9432acf-62c4-44ac-fcc7-afc21fced4cb"
      },
      "outputs": [
        {
          "data": {
            "text/plain": [
              "rsatoolbox.data.Dataset(\n",
              "measurements = \n",
              "[[0.00647232 0.00522995 0.00503027 ... 0.02912692 0.01408587 0.        ]\n",
              " [0.2340285  0.25697285 0.3446126  ... 1.254963   0.24962883 0.        ]\n",
              " [0.23590007 0.2889845  0.24829459 ... 0.8408534  1.0931451  0.        ]\n",
              " ...\n",
              " [0.32549843 0.2632195  0.25770447 ... 0.04537944 0.12915137 0.        ]\n",
              " [0.00444641 0.00473537 0.00366836 ... 0.         0.         0.3205166 ]\n",
              " [0.21026194 0.15159883 0.00472115 ... 0.2863451  0.         0.61309004]]\n",
              "descriptors = \n",
              "{'dnn': 'ResNet50', 'layer': 'layer1'}\n",
              "obs_descriptors = \n",
              "{'images': array(['image_01', 'image_02', 'image_03', 'image_04', 'image_05',\n",
              "       'image_06', 'image_07', 'image_08', 'image_09', 'image_10',\n",
              "       'image_11', 'image_12', 'image_13', 'image_14', 'image_15',\n",
              "       'image_16', 'image_17', 'image_18', 'image_19', 'image_20',\n",
              "       'image_21', 'image_22', 'image_23', 'image_24', 'image_25',\n",
              "       'image_26', 'image_27', 'image_28', 'image_29', 'image_30',\n",
              "       'image_31', 'image_32', 'image_33', 'image_34', 'image_35',\n",
              "       'image_36', 'image_37', 'image_38', 'image_39', 'image_40',\n",
              "       'image_41', 'image_42', 'image_43', 'image_44', 'image_45',\n",
              "       'image_46', 'image_47', 'image_48', 'image_49', 'image_50',\n",
              "       'image_51', 'image_52', 'image_53', 'image_54', 'image_55',\n",
              "       'image_56', 'image_57', 'image_58', 'image_59', 'image_60',\n",
              "       'image_61', 'image_62', 'image_63', 'image_64', 'image_65',\n",
              "       'image_66', 'image_67', 'image_68', 'image_69', 'image_70',\n",
              "       'image_71', 'image_72', 'image_73', 'image_74', 'image_75',\n",
              "       'image_76', 'image_77', 'image_78'], dtype='<U8')}\n",
              "channel_descriptors = \n",
              "{}"
            ]
          },
          "execution_count": 11,
          "metadata": {},
          "output_type": "execute_result"
        }
      ],
      "source": [
        "from pathlib import Path\n",
        "from rsatoolbox.data.dataset import load_dataset\n",
        "\n",
        "filename = Path('features/ResNet50_layer1.hdf5')\n",
        "layer1_dataset = load_dataset(filename, file_type='hdf5')\n",
        "layer1_dataset"
      ]
    },
    {
      "cell_type": "markdown",
      "id": "LX-73e5XGdnZ",
      "metadata": {
        "id": "LX-73e5XGdnZ"
      },
      "source": [
        "## Using `FeatureExtractor` with your own DNN"
      ]
    },
    {
      "cell_type": "markdown",
      "id": "Agdb4-aySNw0",
      "metadata": {
        "id": "Agdb4-aySNw0"
      },
      "source": [
        "You can also use __Net2Brain__ with your own model. For this, you will need to provide to the `FeatureExtractor` the model, the transforms of the images, and the layers to extract.\n",
        "\n",
        "Let us see an example using a custom Alex Net:"
      ]
    },
    {
      "cell_type": "code",
      "execution_count": 12,
      "id": "bfcb9939-b1b0-4109-9f1f-d09cc3c5fa11",
      "metadata": {
        "colab": {
          "base_uri": "https://localhost:8080/",
          "height": 1000,
          "referenced_widgets": [
            "6e5efe2a9677426aa394c95d59889ada",
            "0bafe288788d46b58546f92a1c7f22bb",
            "a6b67d5dd3694f0ca1052590934c4658",
            "e58e3267d74341a8a096abb1f303266b",
            "d286815aa05d4551a5f43dcf3f10e590",
            "1b9f80c1125f44faab57cdbe47a13b98",
            "cf1bc2f7ae0f4bc281f2883b32e80a6c",
            "112f5f8813a94ed1be9a827d81fc277a",
            "fa2f89661fa34987869d15f910447e14",
            "c786c40315004074908af0247cbec3a4",
            "2ed025f53eeb4b04a66eab4a45cf419f"
          ]
        },
        "id": "bfcb9939-b1b0-4109-9f1f-d09cc3c5fa11",
        "outputId": "9d488345-e7a2-430f-9dcf-83853823bcee"
      },
      "outputs": [
        {
          "name": "stderr",
          "output_type": "stream",
          "text": [
            "Downloading: \"https://download.pytorch.org/models/alexnet-owt-7be5be79.pth\" to /root/.cache/torch/hub/checkpoints/alexnet-owt-7be5be79.pth\n"
          ]
        },
        {
          "data": {
            "application/vnd.jupyter.widget-view+json": {
              "model_id": "6e5efe2a9677426aa394c95d59889ada",
              "version_major": 2,
              "version_minor": 0
            },
            "text/plain": [
              "  0%|          | 0.00/233M [00:00<?, ?B/s]"
            ]
          },
          "metadata": {},
          "output_type": "display_data"
        },
        {
          "name": "stderr",
          "output_type": "stream",
          "text": [
            "100%|██████████| 78/78 [00:05<00:00, 13.22it/s]\n"
          ]
        },
        {
          "data": {
            "text/plain": [
              "{'features.0': rsatoolbox.data.Dataset(\n",
              " measurements = \n",
              " [[0.         0.         0.         ... 0.         0.7385337  3.8613157 ]\n",
              "  [0.         0.         0.69632846 ... 0.         0.         0.        ]\n",
              "  [0.         0.20817357 0.         ... 0.         0.9732373  0.        ]\n",
              "  ...\n",
              "  [0.         0.         0.         ... 0.         0.         0.        ]\n",
              "  [0.9411107  0.         0.81784993 ... 0.         0.         0.44289654]\n",
              "  [0.         0.1311943  0.         ... 0.         0.01381728 0.23431492]]\n",
              " descriptors = \n",
              " {'dnn': 'Custom model', 'layer': 'features.0'}\n",
              " obs_descriptors = \n",
              " {'images': array(['image_01', 'image_02', 'image_03', 'image_04', 'image_05',\n",
              "        'image_06', 'image_07', 'image_08', 'image_09', 'image_10',\n",
              "        'image_11', 'image_12', 'image_13', 'image_14', 'image_15',\n",
              "        'image_16', 'image_17', 'image_18', 'image_19', 'image_20',\n",
              "        'image_21', 'image_22', 'image_23', 'image_24', 'image_25',\n",
              "        'image_26', 'image_27', 'image_28', 'image_29', 'image_30',\n",
              "        'image_31', 'image_32', 'image_33', 'image_34', 'image_35',\n",
              "        'image_36', 'image_37', 'image_38', 'image_39', 'image_40',\n",
              "        'image_41', 'image_42', 'image_43', 'image_44', 'image_45',\n",
              "        'image_46', 'image_47', 'image_48', 'image_49', 'image_50',\n",
              "        'image_51', 'image_52', 'image_53', 'image_54', 'image_55',\n",
              "        'image_56', 'image_57', 'image_58', 'image_59', 'image_60',\n",
              "        'image_61', 'image_62', 'image_63', 'image_64', 'image_65',\n",
              "        'image_66', 'image_67', 'image_68', 'image_69', 'image_70',\n",
              "        'image_71', 'image_72', 'image_73', 'image_74', 'image_75',\n",
              "        'image_76', 'image_77', 'image_78'], dtype='<U8')}\n",
              " channel_descriptors = \n",
              " {}, 'features.1': rsatoolbox.data.Dataset(\n",
              " measurements = \n",
              " [[0.         0.         0.         ... 0.         0.7385337  3.8613157 ]\n",
              "  [0.         0.         0.69632846 ... 0.         0.         0.        ]\n",
              "  [0.         0.20817357 0.         ... 0.         0.9732373  0.        ]\n",
              "  ...\n",
              "  [0.         0.         0.         ... 0.         0.         0.        ]\n",
              "  [0.9411107  0.         0.81784993 ... 0.         0.         0.44289654]\n",
              "  [0.         0.1311943  0.         ... 0.         0.01381728 0.23431492]]\n",
              " descriptors = \n",
              " {'dnn': 'Custom model', 'layer': 'features.1'}\n",
              " obs_descriptors = \n",
              " {'images': array(['image_01', 'image_02', 'image_03', 'image_04', 'image_05',\n",
              "        'image_06', 'image_07', 'image_08', 'image_09', 'image_10',\n",
              "        'image_11', 'image_12', 'image_13', 'image_14', 'image_15',\n",
              "        'image_16', 'image_17', 'image_18', 'image_19', 'image_20',\n",
              "        'image_21', 'image_22', 'image_23', 'image_24', 'image_25',\n",
              "        'image_26', 'image_27', 'image_28', 'image_29', 'image_30',\n",
              "        'image_31', 'image_32', 'image_33', 'image_34', 'image_35',\n",
              "        'image_36', 'image_37', 'image_38', 'image_39', 'image_40',\n",
              "        'image_41', 'image_42', 'image_43', 'image_44', 'image_45',\n",
              "        'image_46', 'image_47', 'image_48', 'image_49', 'image_50',\n",
              "        'image_51', 'image_52', 'image_53', 'image_54', 'image_55',\n",
              "        'image_56', 'image_57', 'image_58', 'image_59', 'image_60',\n",
              "        'image_61', 'image_62', 'image_63', 'image_64', 'image_65',\n",
              "        'image_66', 'image_67', 'image_68', 'image_69', 'image_70',\n",
              "        'image_71', 'image_72', 'image_73', 'image_74', 'image_75',\n",
              "        'image_76', 'image_77', 'image_78'], dtype='<U8')}\n",
              " channel_descriptors = \n",
              " {}}"
            ]
          },
          "execution_count": 12,
          "metadata": {},
          "output_type": "execute_result"
        }
      ],
      "source": [
        "from torchvision import models\n",
        "from torchvision import transforms as T\n",
        "\n",
        "# Define model and transforms\n",
        "model = models.alexnet(pretrained=True)\n",
        "#model = models.alexnet(weights=models.AlexNet_Weights.DEFAULT)\n",
        "transforms = T.Compose([\n",
        "    T.Resize((224, 224)),  # transform images if needed\n",
        "    T.ToTensor(),\n",
        "    T.Normalize([0.485, 0.456, 0.406], [0.229, 0.224, 0.225])\n",
        "  ])\n",
        "\n",
        "# Define extractor\n",
        "layers = ['features.0', 'features.1']\n",
        "fx = FeatureExtractor(\n",
        "    model=model, transforms=transforms, layers_to_extract=layers, device='cpu'\n",
        ")\n",
        "\n",
        "# Run extractor\n",
        "feats = fx.extract(\n",
        "    dataset_path=images_path, save_format='dataset', save_path='features2'\n",
        "  )"
      ]
    },
    {
      "cell_type": "markdown",
      "id": "Bz3Hr0h0GogM",
      "metadata": {
        "id": "Bz3Hr0h0GogM"
      },
      "source": [
        "## Coming Soon!"
      ]
    },
    {
      "cell_type": "markdown",
      "id": "GivYIuaRbAsa",
      "metadata": {
        "id": "GivYIuaRbAsa"
      },
      "source": [
        "- [ ] Create researcher-friendly taxonomy of DNNs\n",
        "- [ ] Optional pretrained models argument\n",
        "- [ ] Optimization of extraction speed\n",
        "- [ ] API documentation"
      ]
    },
    {
      "cell_type": "markdown",
      "id": "aad30aad",
      "metadata": {},
      "source": [
        "### Your ideas?\n",
        "- [ ]"
      ]
    }
  ],
  "metadata": {
    "colab": {
      "provenance": []
    },
    "kernelspec": {
      "display_name": "Python 3.9.13 ('net2brain')",
      "language": "python",
      "name": "python3"
    },
    "language_info": {
      "codemirror_mode": {
        "name": "ipython",
        "version": 3
      },
      "file_extension": ".py",
      "mimetype": "text/x-python",
      "name": "python",
      "nbconvert_exporter": "python",
      "pygments_lexer": "ipython3",
      "version": "3.9.13"
    },
    "vscode": {
      "interpreter": {
        "hash": "702e2e2ba7aa3b690e261e1d232d7be17ab49acb02a22e685e4d30c11d166226"
      }
    },
    "widgets": {
      "application/vnd.jupyter.widget-state+json": {
        "0bafe288788d46b58546f92a1c7f22bb": {
          "model_module": "@jupyter-widgets/controls",
          "model_module_version": "1.5.0",
          "model_name": "HTMLModel",
          "state": {
            "_dom_classes": [],
            "_model_module": "@jupyter-widgets/controls",
            "_model_module_version": "1.5.0",
            "_model_name": "HTMLModel",
            "_view_count": null,
            "_view_module": "@jupyter-widgets/controls",
            "_view_module_version": "1.5.0",
            "_view_name": "HTMLView",
            "description": "",
            "description_tooltip": null,
            "layout": "IPY_MODEL_1b9f80c1125f44faab57cdbe47a13b98",
            "placeholder": "​",
            "style": "IPY_MODEL_cf1bc2f7ae0f4bc281f2883b32e80a6c",
            "value": "100%"
          }
        },
        "112f5f8813a94ed1be9a827d81fc277a": {
          "model_module": "@jupyter-widgets/base",
          "model_module_version": "1.2.0",
          "model_name": "LayoutModel",
          "state": {
            "_model_module": "@jupyter-widgets/base",
            "_model_module_version": "1.2.0",
            "_model_name": "LayoutModel",
            "_view_count": null,
            "_view_module": "@jupyter-widgets/base",
            "_view_module_version": "1.2.0",
            "_view_name": "LayoutView",
            "align_content": null,
            "align_items": null,
            "align_self": null,
            "border": null,
            "bottom": null,
            "display": null,
            "flex": null,
            "flex_flow": null,
            "grid_area": null,
            "grid_auto_columns": null,
            "grid_auto_flow": null,
            "grid_auto_rows": null,
            "grid_column": null,
            "grid_gap": null,
            "grid_row": null,
            "grid_template_areas": null,
            "grid_template_columns": null,
            "grid_template_rows": null,
            "height": null,
            "justify_content": null,
            "justify_items": null,
            "left": null,
            "margin": null,
            "max_height": null,
            "max_width": null,
            "min_height": null,
            "min_width": null,
            "object_fit": null,
            "object_position": null,
            "order": null,
            "overflow": null,
            "overflow_x": null,
            "overflow_y": null,
            "padding": null,
            "right": null,
            "top": null,
            "visibility": null,
            "width": null
          }
        },
        "1b9f80c1125f44faab57cdbe47a13b98": {
          "model_module": "@jupyter-widgets/base",
          "model_module_version": "1.2.0",
          "model_name": "LayoutModel",
          "state": {
            "_model_module": "@jupyter-widgets/base",
            "_model_module_version": "1.2.0",
            "_model_name": "LayoutModel",
            "_view_count": null,
            "_view_module": "@jupyter-widgets/base",
            "_view_module_version": "1.2.0",
            "_view_name": "LayoutView",
            "align_content": null,
            "align_items": null,
            "align_self": null,
            "border": null,
            "bottom": null,
            "display": null,
            "flex": null,
            "flex_flow": null,
            "grid_area": null,
            "grid_auto_columns": null,
            "grid_auto_flow": null,
            "grid_auto_rows": null,
            "grid_column": null,
            "grid_gap": null,
            "grid_row": null,
            "grid_template_areas": null,
            "grid_template_columns": null,
            "grid_template_rows": null,
            "height": null,
            "justify_content": null,
            "justify_items": null,
            "left": null,
            "margin": null,
            "max_height": null,
            "max_width": null,
            "min_height": null,
            "min_width": null,
            "object_fit": null,
            "object_position": null,
            "order": null,
            "overflow": null,
            "overflow_x": null,
            "overflow_y": null,
            "padding": null,
            "right": null,
            "top": null,
            "visibility": null,
            "width": null
          }
        },
        "21959f75a3a4472085d63d036fca70b2": {
          "model_module": "@jupyter-widgets/base",
          "model_module_version": "1.2.0",
          "model_name": "LayoutModel",
          "state": {
            "_model_module": "@jupyter-widgets/base",
            "_model_module_version": "1.2.0",
            "_model_name": "LayoutModel",
            "_view_count": null,
            "_view_module": "@jupyter-widgets/base",
            "_view_module_version": "1.2.0",
            "_view_name": "LayoutView",
            "align_content": null,
            "align_items": null,
            "align_self": null,
            "border": null,
            "bottom": null,
            "display": null,
            "flex": null,
            "flex_flow": null,
            "grid_area": null,
            "grid_auto_columns": null,
            "grid_auto_flow": null,
            "grid_auto_rows": null,
            "grid_column": null,
            "grid_gap": null,
            "grid_row": null,
            "grid_template_areas": null,
            "grid_template_columns": null,
            "grid_template_rows": null,
            "height": null,
            "justify_content": null,
            "justify_items": null,
            "left": null,
            "margin": null,
            "max_height": null,
            "max_width": null,
            "min_height": null,
            "min_width": null,
            "object_fit": null,
            "object_position": null,
            "order": null,
            "overflow": null,
            "overflow_x": null,
            "overflow_y": null,
            "padding": null,
            "right": null,
            "top": null,
            "visibility": null,
            "width": null
          }
        },
        "2a88a7872a0941c498a3cf260b559177": {
          "model_module": "@jupyter-widgets/base",
          "model_module_version": "1.2.0",
          "model_name": "LayoutModel",
          "state": {
            "_model_module": "@jupyter-widgets/base",
            "_model_module_version": "1.2.0",
            "_model_name": "LayoutModel",
            "_view_count": null,
            "_view_module": "@jupyter-widgets/base",
            "_view_module_version": "1.2.0",
            "_view_name": "LayoutView",
            "align_content": null,
            "align_items": null,
            "align_self": null,
            "border": null,
            "bottom": null,
            "display": null,
            "flex": null,
            "flex_flow": null,
            "grid_area": null,
            "grid_auto_columns": null,
            "grid_auto_flow": null,
            "grid_auto_rows": null,
            "grid_column": null,
            "grid_gap": null,
            "grid_row": null,
            "grid_template_areas": null,
            "grid_template_columns": null,
            "grid_template_rows": null,
            "height": null,
            "justify_content": null,
            "justify_items": null,
            "left": null,
            "margin": null,
            "max_height": null,
            "max_width": null,
            "min_height": null,
            "min_width": null,
            "object_fit": null,
            "object_position": null,
            "order": null,
            "overflow": null,
            "overflow_x": null,
            "overflow_y": null,
            "padding": null,
            "right": null,
            "top": null,
            "visibility": null,
            "width": null
          }
        },
        "2ed025f53eeb4b04a66eab4a45cf419f": {
          "model_module": "@jupyter-widgets/controls",
          "model_module_version": "1.5.0",
          "model_name": "DescriptionStyleModel",
          "state": {
            "_model_module": "@jupyter-widgets/controls",
            "_model_module_version": "1.5.0",
            "_model_name": "DescriptionStyleModel",
            "_view_count": null,
            "_view_module": "@jupyter-widgets/base",
            "_view_module_version": "1.2.0",
            "_view_name": "StyleView",
            "description_width": ""
          }
        },
        "3587f70a049a47e1b344ce45039d527a": {
          "model_module": "@jupyter-widgets/controls",
          "model_module_version": "1.5.0",
          "model_name": "HTMLModel",
          "state": {
            "_dom_classes": [],
            "_model_module": "@jupyter-widgets/controls",
            "_model_module_version": "1.5.0",
            "_model_name": "HTMLModel",
            "_view_count": null,
            "_view_module": "@jupyter-widgets/controls",
            "_view_module_version": "1.5.0",
            "_view_name": "HTMLView",
            "description": "",
            "description_tooltip": null,
            "layout": "IPY_MODEL_21959f75a3a4472085d63d036fca70b2",
            "placeholder": "​",
            "style": "IPY_MODEL_b30be957a0994291b112cd066b758cb5",
            "value": "100%"
          }
        },
        "4c7a1d542761427791a841f9872d693f": {
          "model_module": "@jupyter-widgets/controls",
          "model_module_version": "1.5.0",
          "model_name": "HBoxModel",
          "state": {
            "_dom_classes": [],
            "_model_module": "@jupyter-widgets/controls",
            "_model_module_version": "1.5.0",
            "_model_name": "HBoxModel",
            "_view_count": null,
            "_view_module": "@jupyter-widgets/controls",
            "_view_module_version": "1.5.0",
            "_view_name": "HBoxView",
            "box_style": "",
            "children": [
              "IPY_MODEL_3587f70a049a47e1b344ce45039d527a",
              "IPY_MODEL_e72c50f12dda4c56b9dfc0fea87bc6a9",
              "IPY_MODEL_f1a4c2c8b3d94d0f821f0574b6434c85"
            ],
            "layout": "IPY_MODEL_d28eed3c3fab499686cb90629e65078f"
          }
        },
        "6e5efe2a9677426aa394c95d59889ada": {
          "model_module": "@jupyter-widgets/controls",
          "model_module_version": "1.5.0",
          "model_name": "HBoxModel",
          "state": {
            "_dom_classes": [],
            "_model_module": "@jupyter-widgets/controls",
            "_model_module_version": "1.5.0",
            "_model_name": "HBoxModel",
            "_view_count": null,
            "_view_module": "@jupyter-widgets/controls",
            "_view_module_version": "1.5.0",
            "_view_name": "HBoxView",
            "box_style": "",
            "children": [
              "IPY_MODEL_0bafe288788d46b58546f92a1c7f22bb",
              "IPY_MODEL_a6b67d5dd3694f0ca1052590934c4658",
              "IPY_MODEL_e58e3267d74341a8a096abb1f303266b"
            ],
            "layout": "IPY_MODEL_d286815aa05d4551a5f43dcf3f10e590"
          }
        },
        "9247d2b379c64cd3926e669ed3be60c5": {
          "model_module": "@jupyter-widgets/controls",
          "model_module_version": "1.5.0",
          "model_name": "DescriptionStyleModel",
          "state": {
            "_model_module": "@jupyter-widgets/controls",
            "_model_module_version": "1.5.0",
            "_model_name": "DescriptionStyleModel",
            "_view_count": null,
            "_view_module": "@jupyter-widgets/base",
            "_view_module_version": "1.2.0",
            "_view_name": "StyleView",
            "description_width": ""
          }
        },
        "940505c8262a4465aaaf109e8e2d5df8": {
          "model_module": "@jupyter-widgets/controls",
          "model_module_version": "1.5.0",
          "model_name": "ProgressStyleModel",
          "state": {
            "_model_module": "@jupyter-widgets/controls",
            "_model_module_version": "1.5.0",
            "_model_name": "ProgressStyleModel",
            "_view_count": null,
            "_view_module": "@jupyter-widgets/base",
            "_view_module_version": "1.2.0",
            "_view_name": "StyleView",
            "bar_color": null,
            "description_width": ""
          }
        },
        "a6b67d5dd3694f0ca1052590934c4658": {
          "model_module": "@jupyter-widgets/controls",
          "model_module_version": "1.5.0",
          "model_name": "FloatProgressModel",
          "state": {
            "_dom_classes": [],
            "_model_module": "@jupyter-widgets/controls",
            "_model_module_version": "1.5.0",
            "_model_name": "FloatProgressModel",
            "_view_count": null,
            "_view_module": "@jupyter-widgets/controls",
            "_view_module_version": "1.5.0",
            "_view_name": "ProgressView",
            "bar_style": "success",
            "description": "",
            "description_tooltip": null,
            "layout": "IPY_MODEL_112f5f8813a94ed1be9a827d81fc277a",
            "max": 244408911,
            "min": 0,
            "orientation": "horizontal",
            "style": "IPY_MODEL_fa2f89661fa34987869d15f910447e14",
            "value": 244408911
          }
        },
        "b30be957a0994291b112cd066b758cb5": {
          "model_module": "@jupyter-widgets/controls",
          "model_module_version": "1.5.0",
          "model_name": "DescriptionStyleModel",
          "state": {
            "_model_module": "@jupyter-widgets/controls",
            "_model_module_version": "1.5.0",
            "_model_name": "DescriptionStyleModel",
            "_view_count": null,
            "_view_module": "@jupyter-widgets/base",
            "_view_module_version": "1.2.0",
            "_view_name": "StyleView",
            "description_width": ""
          }
        },
        "c786c40315004074908af0247cbec3a4": {
          "model_module": "@jupyter-widgets/base",
          "model_module_version": "1.2.0",
          "model_name": "LayoutModel",
          "state": {
            "_model_module": "@jupyter-widgets/base",
            "_model_module_version": "1.2.0",
            "_model_name": "LayoutModel",
            "_view_count": null,
            "_view_module": "@jupyter-widgets/base",
            "_view_module_version": "1.2.0",
            "_view_name": "LayoutView",
            "align_content": null,
            "align_items": null,
            "align_self": null,
            "border": null,
            "bottom": null,
            "display": null,
            "flex": null,
            "flex_flow": null,
            "grid_area": null,
            "grid_auto_columns": null,
            "grid_auto_flow": null,
            "grid_auto_rows": null,
            "grid_column": null,
            "grid_gap": null,
            "grid_row": null,
            "grid_template_areas": null,
            "grid_template_columns": null,
            "grid_template_rows": null,
            "height": null,
            "justify_content": null,
            "justify_items": null,
            "left": null,
            "margin": null,
            "max_height": null,
            "max_width": null,
            "min_height": null,
            "min_width": null,
            "object_fit": null,
            "object_position": null,
            "order": null,
            "overflow": null,
            "overflow_x": null,
            "overflow_y": null,
            "padding": null,
            "right": null,
            "top": null,
            "visibility": null,
            "width": null
          }
        },
        "cf1bc2f7ae0f4bc281f2883b32e80a6c": {
          "model_module": "@jupyter-widgets/controls",
          "model_module_version": "1.5.0",
          "model_name": "DescriptionStyleModel",
          "state": {
            "_model_module": "@jupyter-widgets/controls",
            "_model_module_version": "1.5.0",
            "_model_name": "DescriptionStyleModel",
            "_view_count": null,
            "_view_module": "@jupyter-widgets/base",
            "_view_module_version": "1.2.0",
            "_view_name": "StyleView",
            "description_width": ""
          }
        },
        "d286815aa05d4551a5f43dcf3f10e590": {
          "model_module": "@jupyter-widgets/base",
          "model_module_version": "1.2.0",
          "model_name": "LayoutModel",
          "state": {
            "_model_module": "@jupyter-widgets/base",
            "_model_module_version": "1.2.0",
            "_model_name": "LayoutModel",
            "_view_count": null,
            "_view_module": "@jupyter-widgets/base",
            "_view_module_version": "1.2.0",
            "_view_name": "LayoutView",
            "align_content": null,
            "align_items": null,
            "align_self": null,
            "border": null,
            "bottom": null,
            "display": null,
            "flex": null,
            "flex_flow": null,
            "grid_area": null,
            "grid_auto_columns": null,
            "grid_auto_flow": null,
            "grid_auto_rows": null,
            "grid_column": null,
            "grid_gap": null,
            "grid_row": null,
            "grid_template_areas": null,
            "grid_template_columns": null,
            "grid_template_rows": null,
            "height": null,
            "justify_content": null,
            "justify_items": null,
            "left": null,
            "margin": null,
            "max_height": null,
            "max_width": null,
            "min_height": null,
            "min_width": null,
            "object_fit": null,
            "object_position": null,
            "order": null,
            "overflow": null,
            "overflow_x": null,
            "overflow_y": null,
            "padding": null,
            "right": null,
            "top": null,
            "visibility": null,
            "width": null
          }
        },
        "d28eed3c3fab499686cb90629e65078f": {
          "model_module": "@jupyter-widgets/base",
          "model_module_version": "1.2.0",
          "model_name": "LayoutModel",
          "state": {
            "_model_module": "@jupyter-widgets/base",
            "_model_module_version": "1.2.0",
            "_model_name": "LayoutModel",
            "_view_count": null,
            "_view_module": "@jupyter-widgets/base",
            "_view_module_version": "1.2.0",
            "_view_name": "LayoutView",
            "align_content": null,
            "align_items": null,
            "align_self": null,
            "border": null,
            "bottom": null,
            "display": null,
            "flex": null,
            "flex_flow": null,
            "grid_area": null,
            "grid_auto_columns": null,
            "grid_auto_flow": null,
            "grid_auto_rows": null,
            "grid_column": null,
            "grid_gap": null,
            "grid_row": null,
            "grid_template_areas": null,
            "grid_template_columns": null,
            "grid_template_rows": null,
            "height": null,
            "justify_content": null,
            "justify_items": null,
            "left": null,
            "margin": null,
            "max_height": null,
            "max_width": null,
            "min_height": null,
            "min_width": null,
            "object_fit": null,
            "object_position": null,
            "order": null,
            "overflow": null,
            "overflow_x": null,
            "overflow_y": null,
            "padding": null,
            "right": null,
            "top": null,
            "visibility": null,
            "width": null
          }
        },
        "e58e3267d74341a8a096abb1f303266b": {
          "model_module": "@jupyter-widgets/controls",
          "model_module_version": "1.5.0",
          "model_name": "HTMLModel",
          "state": {
            "_dom_classes": [],
            "_model_module": "@jupyter-widgets/controls",
            "_model_module_version": "1.5.0",
            "_model_name": "HTMLModel",
            "_view_count": null,
            "_view_module": "@jupyter-widgets/controls",
            "_view_module_version": "1.5.0",
            "_view_name": "HTMLView",
            "description": "",
            "description_tooltip": null,
            "layout": "IPY_MODEL_c786c40315004074908af0247cbec3a4",
            "placeholder": "​",
            "style": "IPY_MODEL_2ed025f53eeb4b04a66eab4a45cf419f",
            "value": " 233M/233M [00:02&lt;00:00, 78.5MB/s]"
          }
        },
        "e72c50f12dda4c56b9dfc0fea87bc6a9": {
          "model_module": "@jupyter-widgets/controls",
          "model_module_version": "1.5.0",
          "model_name": "FloatProgressModel",
          "state": {
            "_dom_classes": [],
            "_model_module": "@jupyter-widgets/controls",
            "_model_module_version": "1.5.0",
            "_model_name": "FloatProgressModel",
            "_view_count": null,
            "_view_module": "@jupyter-widgets/controls",
            "_view_module_version": "1.5.0",
            "_view_name": "ProgressView",
            "bar_style": "success",
            "description": "",
            "description_tooltip": null,
            "layout": "IPY_MODEL_2a88a7872a0941c498a3cf260b559177",
            "max": 102530333,
            "min": 0,
            "orientation": "horizontal",
            "style": "IPY_MODEL_940505c8262a4465aaaf109e8e2d5df8",
            "value": 102530333
          }
        },
        "f1a4c2c8b3d94d0f821f0574b6434c85": {
          "model_module": "@jupyter-widgets/controls",
          "model_module_version": "1.5.0",
          "model_name": "HTMLModel",
          "state": {
            "_dom_classes": [],
            "_model_module": "@jupyter-widgets/controls",
            "_model_module_version": "1.5.0",
            "_model_name": "HTMLModel",
            "_view_count": null,
            "_view_module": "@jupyter-widgets/controls",
            "_view_module_version": "1.5.0",
            "_view_name": "HTMLView",
            "description": "",
            "description_tooltip": null,
            "layout": "IPY_MODEL_f432fb8b5cc54077911006ffe0b5bf12",
            "placeholder": "​",
            "style": "IPY_MODEL_9247d2b379c64cd3926e669ed3be60c5",
            "value": " 97.8M/97.8M [00:00&lt;00:00, 140MB/s]"
          }
        },
        "f432fb8b5cc54077911006ffe0b5bf12": {
          "model_module": "@jupyter-widgets/base",
          "model_module_version": "1.2.0",
          "model_name": "LayoutModel",
          "state": {
            "_model_module": "@jupyter-widgets/base",
            "_model_module_version": "1.2.0",
            "_model_name": "LayoutModel",
            "_view_count": null,
            "_view_module": "@jupyter-widgets/base",
            "_view_module_version": "1.2.0",
            "_view_name": "LayoutView",
            "align_content": null,
            "align_items": null,
            "align_self": null,
            "border": null,
            "bottom": null,
            "display": null,
            "flex": null,
            "flex_flow": null,
            "grid_area": null,
            "grid_auto_columns": null,
            "grid_auto_flow": null,
            "grid_auto_rows": null,
            "grid_column": null,
            "grid_gap": null,
            "grid_row": null,
            "grid_template_areas": null,
            "grid_template_columns": null,
            "grid_template_rows": null,
            "height": null,
            "justify_content": null,
            "justify_items": null,
            "left": null,
            "margin": null,
            "max_height": null,
            "max_width": null,
            "min_height": null,
            "min_width": null,
            "object_fit": null,
            "object_position": null,
            "order": null,
            "overflow": null,
            "overflow_x": null,
            "overflow_y": null,
            "padding": null,
            "right": null,
            "top": null,
            "visibility": null,
            "width": null
          }
        },
        "fa2f89661fa34987869d15f910447e14": {
          "model_module": "@jupyter-widgets/controls",
          "model_module_version": "1.5.0",
          "model_name": "ProgressStyleModel",
          "state": {
            "_model_module": "@jupyter-widgets/controls",
            "_model_module_version": "1.5.0",
            "_model_name": "ProgressStyleModel",
            "_view_count": null,
            "_view_module": "@jupyter-widgets/base",
            "_view_module_version": "1.2.0",
            "_view_name": "StyleView",
            "bar_color": null,
            "description_width": ""
          }
        }
      }
    }
  },
  "nbformat": 4,
  "nbformat_minor": 5
}
