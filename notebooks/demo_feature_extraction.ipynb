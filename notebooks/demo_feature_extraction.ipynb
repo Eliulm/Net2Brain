{
  "cells": [
    {
      "cell_type": "markdown",
      "id": "4ebb6aca-121a-4436-bb92-ef3e67e01aed",
      "metadata": {
        "id": "4ebb6aca-121a-4436-bb92-ef3e67e01aed"
      },
      "source": [
        "# Feature Extraction"
      ]
    },
    {
      "cell_type": "code",
      "execution_count": null,
      "id": "4ODrk2C7yMjr",
      "metadata": {
        "id": "4ODrk2C7yMjr"
      },
      "outputs": [],
      "source": [
        "!git clone -b Stable https://github.com/cvai-roig-lab/Net2Brain.git"
      ]
    },
    {
      "cell_type": "code",
      "execution_count": null,
      "id": "skd4li7z0Zn4",
      "metadata": {
        "id": "skd4li7z0Zn4"
      },
      "outputs": [],
      "source": [
        "!pip install Net2Brain/."
      ]
    },
    {
      "cell_type": "markdown",
      "id": "dc923836-dbd6-448a-81a0-1b67ce9afa80",
      "metadata": {
        "id": "dc923836-dbd6-448a-81a0-1b67ce9afa80"
      },
      "source": [
        "__Net2Brain__ allows you to use one of over 600 Deep Neural Networks (DNNs) for your experiments comparing human brain activity with the activations of artificial neural networks. The DNNs in __Net2Brain__ are obtained from what we call different _netsets_, which are libraries that provide different pretrained models. \n",
        "\n",
        "__Net2Brain__ provides access to the following _netsets_:\n",
        "- [Standard torchvision](https://pytorch.org/vision/stable/models.html) (`standard`).\n",
        "This netset is a collection of the torchvision models including models for image classification, pixelwise semantic segmentation, object detection, instance segmentation, person keypoint detection, video classification, and optical flow.\n",
        "- [Timm](https://github.com/rwightman/pytorch-image-models#models) (`timm`). \n",
        "A deep-learning library created by Ross Wightman that contains a collection of state-of-the-art computer vision models.\n",
        "- [PyTorch Hub](https://pytorch.org/docs/stable/hub.html) (`pytorch`). \n",
        "These models are accessible through the torch.hub API and are trained for different visual tasks. They are not included in the torchvision module.\n",
        "- [Unet](https://pytorch.org/hub/mateuszbuda_brain-segmentation-pytorch_unet/) (`unet`). \n",
        "Unet also is available through the torch.hub.API and is trained for abnormality segmentation in brain MRI.\n",
        "- [Taskonomy](https://github.com/StanfordVL/taskonomy) (`taskonomy`). A set of networks trained for different visual tasks, like Keypoint-Detection, Depth-Estimation, Reshading, etc. The initial idea for these networks was to find relationships between different visual tasks.\n",
        "- [Slowfast](https://github.com/facebookresearch/pytorchvideo) (`pyvideo`). \n",
        "These models are state-of-the-art video classification models trained on the Kinetics 400 dataset, acessible through the torch.hub API.\n",
        "- [CLIP](https://github.com/openai/CLIP) (`clip`). \n",
        "CLIP (Contrastive Language-Image Pre-Training) is a vision+language multimodal neural network trained on a variety of (image, text) pairs.\n",
        "- [CorNet](https://github.com/dicarlolab/CORnet) (`cornet`). \n",
        "A set of neural networks whose structure is supposed to resemble the one of the ventral visual pathway and therefore implements more recurrent connections that are commonplace in the VVS.\n",
        "- [Detectron2](https://github.com/facebookresearch/Detectron) (`detectron2`). \n",
        "Facebook AI Research's software system that implements state-of-the-art object detection algorithms, including Mask R-CNN. It covers models trained for object classification and detection such as instance, panoptic and keypoint detection.\n",
        "- [VISSL](https://github.com/facebookresearch/vissl) (`vissl`). \n",
        "VISSL provides reference implementation of a large number of self-supervision approaches.\n",
        "\n",
        "You can print the available models from every netset using the function `print_all_models()`. "
      ]
    },
    {
      "cell_type": "code",
      "execution_count": null,
      "id": "86abc3ce-162f-4533-b2eb-dd1813a103d3",
      "metadata": {
        "colab": {
          "base_uri": "https://localhost:8080/"
        },
        "id": "86abc3ce-162f-4533-b2eb-dd1813a103d3",
        "outputId": "7f169a94-a23e-4fbc-c57f-78eb52eefde2",
        "tags": []
      },
      "outputs": [],
      "source": [
        "from net2brain.feature_extraction import print_all_models\n",
        "\n",
        "print_all_models()"
      ]
    },
    {
      "cell_type": "markdown",
      "id": "0680577d-1758-41ba-859f-eb75209cc5af",
      "metadata": {
        "id": "0680577d-1758-41ba-859f-eb75209cc5af"
      },
      "source": [
        "You can also inspect the models available from a particular _netset_ using the function `print_netset_models()`:"
      ]
    },
    {
      "cell_type": "code",
      "execution_count": null,
      "id": "7cd9fda2-7dfa-4bcc-8a9a-fd95198538cf",
      "metadata": {
        "colab": {
          "base_uri": "https://localhost:8080/"
        },
        "id": "7cd9fda2-7dfa-4bcc-8a9a-fd95198538cf",
        "outputId": "f53f678d-07fc-4588-e1d6-fb0771c40186"
      },
      "outputs": [],
      "source": [
        "from net2brain.feature_extraction import print_netset_models\n",
        "\n",
        "print_netset_models('pyvideo')"
      ]
    },
    {
      "cell_type": "markdown",
      "id": "7f6cc7f9-cd99-4f6a-81d5-ec73c4710f8e",
      "metadata": {
        "id": "7f6cc7f9-cd99-4f6a-81d5-ec73c4710f8e"
      },
      "source": [
        "Or you can find a model by its name using the function `find_model_like()`:"
      ]
    },
    {
      "cell_type": "code",
      "execution_count": null,
      "id": "d5c363b0-5ccf-429b-8fcc-a82f6aaea030",
      "metadata": {
        "colab": {
          "base_uri": "https://localhost:8080/"
        },
        "id": "d5c363b0-5ccf-429b-8fcc-a82f6aaea030",
        "outputId": "d486c941-8768-4cfa-e106-fb266c27b7b1"
      },
      "outputs": [],
      "source": [
        "from net2brain.feature_extraction import find_model_like\n",
        "\n",
        "find_model_like('resnet50')"
      ]
    },
    {
      "cell_type": "markdown",
      "id": "089bd358-1fd3-49da-8549-a309929dd434",
      "metadata": {
        "id": "089bd358-1fd3-49da-8549-a309929dd434"
      },
      "source": [
        "## Using `FeatureExtractor` with a pretrained DNN"
      ]
    },
    {
      "cell_type": "markdown",
      "id": "3114e293-a369-4634-a64b-057184cb4520",
      "metadata": {
        "id": "3114e293-a369-4634-a64b-057184cb4520"
      },
      "source": [
        "To extract the activations of a pretrained model from one of the netsets, you will first need to initialize the `FeatureExtractor` class, and provide the name of the model as well as the name of the _netset_. You can also determine which device to use to compute the extraction, in case you want to run it on GPUs."
      ]
    },
    {
      "cell_type": "code",
      "execution_count": null,
      "id": "83e48930-2eed-4551-8177-88dfe7a452d3",
      "metadata": {
        "colab": {
          "base_uri": "https://localhost:8080/",
          "height": 87,
          "referenced_widgets": [
            "4c7a1d542761427791a841f9872d693f",
            "3587f70a049a47e1b344ce45039d527a",
            "e72c50f12dda4c56b9dfc0fea87bc6a9",
            "f1a4c2c8b3d94d0f821f0574b6434c85",
            "d28eed3c3fab499686cb90629e65078f",
            "21959f75a3a4472085d63d036fca70b2",
            "b30be957a0994291b112cd066b758cb5",
            "2a88a7872a0941c498a3cf260b559177",
            "940505c8262a4465aaaf109e8e2d5df8",
            "f432fb8b5cc54077911006ffe0b5bf12",
            "9247d2b379c64cd3926e669ed3be60c5"
          ]
        },
        "id": "83e48930-2eed-4551-8177-88dfe7a452d3",
        "outputId": "34a91416-caca-4b3d-9fa5-859d40ce99eb"
      },
      "outputs": [],
      "source": [
        "from net2brain.feature_extraction import FeatureExtractor\n",
        "\n",
        "fx = FeatureExtractor(model='ResNet50', netset='standard', device='cpu')"
      ]
    },
    {
      "cell_type": "markdown",
      "id": "ZSbD3CBM94B-",
      "metadata": {
        "id": "ZSbD3CBM94B-"
      },
      "source": [
        "__Net2Brain__ chooses by default from which layers of the model to extract the features from. You can inspect which layers are selected by default by calling the `layers_to_extract` attribute:"
      ]
    },
    {
      "cell_type": "code",
      "execution_count": null,
      "id": "426df22a-b261-4a7f-b94b-fd8cbdaeb030",
      "metadata": {
        "colab": {
          "base_uri": "https://localhost:8080/"
        },
        "id": "426df22a-b261-4a7f-b94b-fd8cbdaeb030",
        "outputId": "62aa778b-455f-46c4-da52-8c344296a3bd"
      },
      "outputs": [],
      "source": [
        "fx.layers_to_extract"
      ]
    },
    {
      "cell_type": "markdown",
      "id": "lefBKgE8_EDJ",
      "metadata": {
        "id": "lefBKgE8_EDJ"
      },
      "source": [
        "However, you can also select which layers to extract. If you would only want the activations from specific layer, for example layer 4, you can define this is the `FeatureExtractor` arguments:"
      ]
    },
    {
      "cell_type": "code",
      "execution_count": null,
      "id": "ZmT2eRuf_C7U",
      "metadata": {
        "id": "ZmT2eRuf_C7U"
      },
      "outputs": [],
      "source": [
        "fx = FeatureExtractor(\n",
        "    model='ResNet50', netset='standard', \n",
        "    layers_to_extract=['layer4'], \n",
        "    device='cpu'\n",
        "  )"
      ]
    },
    {
      "cell_type": "markdown",
      "id": "d3t269UZGFn1",
      "metadata": {
        "id": "d3t269UZGFn1"
      },
      "source": [
        "If you are not sure about the names of the layers that you could extract from a given model beyond the __Net2Brain__ default ones, you can always use the `get_all_layers()` method to get a print out of the possibilities:"
      ]
    },
    {
      "cell_type": "code",
      "execution_count": null,
      "id": "YPkACzdNF4_E",
      "metadata": {
        "colab": {
          "base_uri": "https://localhost:8080/"
        },
        "id": "YPkACzdNF4_E",
        "outputId": "30463e6e-1386-4a17-966d-a9ae950d33fc"
      },
      "outputs": [],
      "source": [
        "fx.get_all_layers()"
      ]
    },
    {
      "cell_type": "markdown",
      "id": "3c783dd4-fb9c-4288-a1e9-7fc368a7f7a5",
      "metadata": {
        "id": "3c783dd4-fb9c-4288-a1e9-7fc368a7f7a5"
      },
      "source": [
        "To initialize the extraction, you have to call the method `extract()`. Using this method, you can specify how you want the activations to be stored using the `save_format` argument. Options are (1)`pt` or (2)`npz`, in which cases the activations are stored separately for each image in a tensor or array format (respectively), or (3)`dataset`, in which case the activations are stored in the format of the `Dataset` class of the [RSA toolbox](https://rsatoolbox.readthedocs.io/en/stable/).\n",
        "\n",
        "You can also specify in which folder to store the activations using the `save_path` argument. By default the activations will be stored in a folder named `features` at the root of the project."
      ]
    },
    {
      "cell_type": "code",
      "execution_count": null,
      "id": "948b2dc4-090d-47c0-8b83-9b3502e4e9f3",
      "metadata": {
        "colab": {
          "base_uri": "https://localhost:8080/"
        },
        "id": "948b2dc4-090d-47c0-8b83-9b3502e4e9f3",
        "outputId": "7b4dc38f-fd10-41d0-9933-081da34e618e"
      },
      "outputs": [],
      "source": [
        "images_path = 'Net2Brain/input_data/stimuli_data/78images'\n",
        "\n",
        "fx = FeatureExtractor(model='ResNet50', netset='standard', device='cpu')\n",
        "fts_datasets = fx.extract(\n",
        "    dataset_path=images_path, save_format='dataset', save_path='features'\n",
        "  )"
      ]
    },
    {
      "cell_type": "markdown",
      "id": "e7be2062",
      "metadata": {},
      "source": [
        "If `dataset` is provided as the output format, the function returns a dictionary of a Dataset class with an entry for each of the layers specified:"
      ]
    },
    {
      "cell_type": "code",
      "execution_count": null,
      "id": "9d21356e",
      "metadata": {},
      "outputs": [],
      "source": [
        "fts_datasets.keys()"
      ]
    },
    {
      "cell_type": "markdown",
      "id": "4cfa921f",
      "metadata": {},
      "source": [
        "Each entry is a `dataset` class:"
      ]
    },
    {
      "cell_type": "code",
      "execution_count": null,
      "id": "0a6fa11c",
      "metadata": {},
      "outputs": [],
      "source": [
        "fts_datasets['layer1']"
      ]
    },
    {
      "cell_type": "markdown",
      "id": "u8PoTSo8K2G9",
      "metadata": {
        "id": "u8PoTSo8K2G9"
      },
      "source": [
        " These dataset classes are stored separetely in the output folder. You can load these classes back into your code using the `load_dataset` function from the rsatoolbox dataset like so: "
      ]
    },
    {
      "cell_type": "code",
      "execution_count": null,
      "id": "8425b86a-61af-4134-be24-7135d0be8e88",
      "metadata": {
        "colab": {
          "base_uri": "https://localhost:8080/"
        },
        "id": "8425b86a-61af-4134-be24-7135d0be8e88",
        "outputId": "a9432acf-62c4-44ac-fcc7-afc21fced4cb"
      },
      "outputs": [],
      "source": [
        "from pathlib import Path\n",
        "from rsatoolbox.data.dataset import load_dataset\n",
        "\n",
        "filename = Path('features/ResNet50_layer1.hdf5')\n",
        "layer1_dataset = load_dataset(filename, file_type='hdf5')\n",
        "layer1_dataset"
      ]
    },
    {
      "cell_type": "markdown",
      "id": "LX-73e5XGdnZ",
      "metadata": {
        "id": "LX-73e5XGdnZ"
      },
      "source": [
        "## Using `FeatureExtractor` with your own DNN"
      ]
    },
    {
      "cell_type": "markdown",
      "id": "Agdb4-aySNw0",
      "metadata": {
        "id": "Agdb4-aySNw0"
      },
      "source": [
        "You can also use __Net2Brain__ with your own model. For this, you will need to provide to the `FeatureExtractor` the model, the transforms of the images, and the layers to extract.\n",
        "\n",
        "Let us see an example using a custom Alex Net:"
      ]
    },
    {
      "cell_type": "code",
      "execution_count": null,
      "id": "bfcb9939-b1b0-4109-9f1f-d09cc3c5fa11",
      "metadata": {
        "colab": {
          "base_uri": "https://localhost:8080/",
          "height": 1000,
          "referenced_widgets": [
            "6e5efe2a9677426aa394c95d59889ada",
            "0bafe288788d46b58546f92a1c7f22bb",
            "a6b67d5dd3694f0ca1052590934c4658",
            "e58e3267d74341a8a096abb1f303266b",
            "d286815aa05d4551a5f43dcf3f10e590",
            "1b9f80c1125f44faab57cdbe47a13b98",
            "cf1bc2f7ae0f4bc281f2883b32e80a6c",
            "112f5f8813a94ed1be9a827d81fc277a",
            "fa2f89661fa34987869d15f910447e14",
            "c786c40315004074908af0247cbec3a4",
            "2ed025f53eeb4b04a66eab4a45cf419f"
          ]
        },
        "id": "bfcb9939-b1b0-4109-9f1f-d09cc3c5fa11",
        "outputId": "9d488345-e7a2-430f-9dcf-83853823bcee"
      },
      "outputs": [],
      "source": [
        "from torchvision import models\n",
        "from torchvision import transforms as T\n",
        "\n",
        "# Define model and transforms\n",
        "model = models.alexnet(pretrained=True)\n",
        "#model = models.alexnet(weights=models.AlexNet_Weights.DEFAULT)\n",
        "transforms = T.Compose([\n",
        "    T.Resize((224, 224)),  # transform images if needed\n",
        "    T.ToTensor(),\n",
        "    T.Normalize([0.485, 0.456, 0.406], [0.229, 0.224, 0.225])\n",
        "  ])\n",
        "\n",
        "# Define extractor\n",
        "layers = ['features.0', 'features.1']\n",
        "fx = FeatureExtractor(\n",
        "    model=model, transforms=transforms, layers_to_extract=layers, device='cpu'\n",
        ")\n",
        "\n",
        "# Run extractor\n",
        "feats = fx.extract(\n",
        "    dataset_path=images_path, save_format='dataset', save_path='features2'\n",
        "  )"
      ]
    },
    {
      "cell_type": "markdown",
      "id": "Bz3Hr0h0GogM",
      "metadata": {
        "id": "Bz3Hr0h0GogM"
      },
      "source": [
        "## Coming Soon!"
      ]
    },
    {
      "cell_type": "markdown",
      "id": "GivYIuaRbAsa",
      "metadata": {
        "id": "GivYIuaRbAsa"
      },
      "source": [
        "- [ ] Create researcher-friendly taxonomy of DNNs\n",
        "- [ ] Optional pretrained models argument\n",
        "- [ ] Optimization of extraction speed\n",
        "- [ ] Costumization of output states\n",
        "- [ ] API documentation"
      ]
    },
    {
      "cell_type": "markdown",
      "id": "aad30aad",
      "metadata": {},
      "source": [
        "### Your ideas?\n",
        "- [ ] ?"
      ]
    },
    {
      "cell_type": "markdown",
      "id": "e56acd6a",
      "metadata": {},
      "source": []
    }
  ],
  "metadata": {
    "colab": {
      "provenance": []
    },
    "kernelspec": {
      "display_name": "N2B",
      "language": "python",
      "name": "python3"
    },
    "language_info": {
      "codemirror_mode": {
        "name": "ipython",
        "version": 3
      },
      "file_extension": ".py",
      "mimetype": "text/x-python",
      "name": "python",
      "nbconvert_exporter": "python",
      "pygments_lexer": "ipython3",
      "version": "3.8.16"
    },
    "vscode": {
      "interpreter": {
        "hash": "2143370df03d7e8d8afb3cb32a8181ea228f5a6f13a304f592978240ae0036e6"
      }
    },
    "widgets": {
      "application/vnd.jupyter.widget-state+json": {
        "0bafe288788d46b58546f92a1c7f22bb": {
          "model_module": "@jupyter-widgets/controls",
          "model_module_version": "1.5.0",
          "model_name": "HTMLModel",
          "state": {
            "_dom_classes": [],
            "_model_module": "@jupyter-widgets/controls",
            "_model_module_version": "1.5.0",
            "_model_name": "HTMLModel",
            "_view_count": null,
            "_view_module": "@jupyter-widgets/controls",
            "_view_module_version": "1.5.0",
            "_view_name": "HTMLView",
            "description": "",
            "description_tooltip": null,
            "layout": "IPY_MODEL_1b9f80c1125f44faab57cdbe47a13b98",
            "placeholder": "​",
            "style": "IPY_MODEL_cf1bc2f7ae0f4bc281f2883b32e80a6c",
            "value": "100%"
          }
        },
        "112f5f8813a94ed1be9a827d81fc277a": {
          "model_module": "@jupyter-widgets/base",
          "model_module_version": "1.2.0",
          "model_name": "LayoutModel",
          "state": {
            "_model_module": "@jupyter-widgets/base",
            "_model_module_version": "1.2.0",
            "_model_name": "LayoutModel",
            "_view_count": null,
            "_view_module": "@jupyter-widgets/base",
            "_view_module_version": "1.2.0",
            "_view_name": "LayoutView",
            "align_content": null,
            "align_items": null,
            "align_self": null,
            "border": null,
            "bottom": null,
            "display": null,
            "flex": null,
            "flex_flow": null,
            "grid_area": null,
            "grid_auto_columns": null,
            "grid_auto_flow": null,
            "grid_auto_rows": null,
            "grid_column": null,
            "grid_gap": null,
            "grid_row": null,
            "grid_template_areas": null,
            "grid_template_columns": null,
            "grid_template_rows": null,
            "height": null,
            "justify_content": null,
            "justify_items": null,
            "left": null,
            "margin": null,
            "max_height": null,
            "max_width": null,
            "min_height": null,
            "min_width": null,
            "object_fit": null,
            "object_position": null,
            "order": null,
            "overflow": null,
            "overflow_x": null,
            "overflow_y": null,
            "padding": null,
            "right": null,
            "top": null,
            "visibility": null,
            "width": null
          }
        },
        "1b9f80c1125f44faab57cdbe47a13b98": {
          "model_module": "@jupyter-widgets/base",
          "model_module_version": "1.2.0",
          "model_name": "LayoutModel",
          "state": {
            "_model_module": "@jupyter-widgets/base",
            "_model_module_version": "1.2.0",
            "_model_name": "LayoutModel",
            "_view_count": null,
            "_view_module": "@jupyter-widgets/base",
            "_view_module_version": "1.2.0",
            "_view_name": "LayoutView",
            "align_content": null,
            "align_items": null,
            "align_self": null,
            "border": null,
            "bottom": null,
            "display": null,
            "flex": null,
            "flex_flow": null,
            "grid_area": null,
            "grid_auto_columns": null,
            "grid_auto_flow": null,
            "grid_auto_rows": null,
            "grid_column": null,
            "grid_gap": null,
            "grid_row": null,
            "grid_template_areas": null,
            "grid_template_columns": null,
            "grid_template_rows": null,
            "height": null,
            "justify_content": null,
            "justify_items": null,
            "left": null,
            "margin": null,
            "max_height": null,
            "max_width": null,
            "min_height": null,
            "min_width": null,
            "object_fit": null,
            "object_position": null,
            "order": null,
            "overflow": null,
            "overflow_x": null,
            "overflow_y": null,
            "padding": null,
            "right": null,
            "top": null,
            "visibility": null,
            "width": null
          }
        },
        "21959f75a3a4472085d63d036fca70b2": {
          "model_module": "@jupyter-widgets/base",
          "model_module_version": "1.2.0",
          "model_name": "LayoutModel",
          "state": {
            "_model_module": "@jupyter-widgets/base",
            "_model_module_version": "1.2.0",
            "_model_name": "LayoutModel",
            "_view_count": null,
            "_view_module": "@jupyter-widgets/base",
            "_view_module_version": "1.2.0",
            "_view_name": "LayoutView",
            "align_content": null,
            "align_items": null,
            "align_self": null,
            "border": null,
            "bottom": null,
            "display": null,
            "flex": null,
            "flex_flow": null,
            "grid_area": null,
            "grid_auto_columns": null,
            "grid_auto_flow": null,
            "grid_auto_rows": null,
            "grid_column": null,
            "grid_gap": null,
            "grid_row": null,
            "grid_template_areas": null,
            "grid_template_columns": null,
            "grid_template_rows": null,
            "height": null,
            "justify_content": null,
            "justify_items": null,
            "left": null,
            "margin": null,
            "max_height": null,
            "max_width": null,
            "min_height": null,
            "min_width": null,
            "object_fit": null,
            "object_position": null,
            "order": null,
            "overflow": null,
            "overflow_x": null,
            "overflow_y": null,
            "padding": null,
            "right": null,
            "top": null,
            "visibility": null,
            "width": null
          }
        },
        "2a88a7872a0941c498a3cf260b559177": {
          "model_module": "@jupyter-widgets/base",
          "model_module_version": "1.2.0",
          "model_name": "LayoutModel",
          "state": {
            "_model_module": "@jupyter-widgets/base",
            "_model_module_version": "1.2.0",
            "_model_name": "LayoutModel",
            "_view_count": null,
            "_view_module": "@jupyter-widgets/base",
            "_view_module_version": "1.2.0",
            "_view_name": "LayoutView",
            "align_content": null,
            "align_items": null,
            "align_self": null,
            "border": null,
            "bottom": null,
            "display": null,
            "flex": null,
            "flex_flow": null,
            "grid_area": null,
            "grid_auto_columns": null,
            "grid_auto_flow": null,
            "grid_auto_rows": null,
            "grid_column": null,
            "grid_gap": null,
            "grid_row": null,
            "grid_template_areas": null,
            "grid_template_columns": null,
            "grid_template_rows": null,
            "height": null,
            "justify_content": null,
            "justify_items": null,
            "left": null,
            "margin": null,
            "max_height": null,
            "max_width": null,
            "min_height": null,
            "min_width": null,
            "object_fit": null,
            "object_position": null,
            "order": null,
            "overflow": null,
            "overflow_x": null,
            "overflow_y": null,
            "padding": null,
            "right": null,
            "top": null,
            "visibility": null,
            "width": null
          }
        },
        "2ed025f53eeb4b04a66eab4a45cf419f": {
          "model_module": "@jupyter-widgets/controls",
          "model_module_version": "1.5.0",
          "model_name": "DescriptionStyleModel",
          "state": {
            "_model_module": "@jupyter-widgets/controls",
            "_model_module_version": "1.5.0",
            "_model_name": "DescriptionStyleModel",
            "_view_count": null,
            "_view_module": "@jupyter-widgets/base",
            "_view_module_version": "1.2.0",
            "_view_name": "StyleView",
            "description_width": ""
          }
        },
        "3587f70a049a47e1b344ce45039d527a": {
          "model_module": "@jupyter-widgets/controls",
          "model_module_version": "1.5.0",
          "model_name": "HTMLModel",
          "state": {
            "_dom_classes": [],
            "_model_module": "@jupyter-widgets/controls",
            "_model_module_version": "1.5.0",
            "_model_name": "HTMLModel",
            "_view_count": null,
            "_view_module": "@jupyter-widgets/controls",
            "_view_module_version": "1.5.0",
            "_view_name": "HTMLView",
            "description": "",
            "description_tooltip": null,
            "layout": "IPY_MODEL_21959f75a3a4472085d63d036fca70b2",
            "placeholder": "​",
            "style": "IPY_MODEL_b30be957a0994291b112cd066b758cb5",
            "value": "100%"
          }
        },
        "4c7a1d542761427791a841f9872d693f": {
          "model_module": "@jupyter-widgets/controls",
          "model_module_version": "1.5.0",
          "model_name": "HBoxModel",
          "state": {
            "_dom_classes": [],
            "_model_module": "@jupyter-widgets/controls",
            "_model_module_version": "1.5.0",
            "_model_name": "HBoxModel",
            "_view_count": null,
            "_view_module": "@jupyter-widgets/controls",
            "_view_module_version": "1.5.0",
            "_view_name": "HBoxView",
            "box_style": "",
            "children": [
              "IPY_MODEL_3587f70a049a47e1b344ce45039d527a",
              "IPY_MODEL_e72c50f12dda4c56b9dfc0fea87bc6a9",
              "IPY_MODEL_f1a4c2c8b3d94d0f821f0574b6434c85"
            ],
            "layout": "IPY_MODEL_d28eed3c3fab499686cb90629e65078f"
          }
        },
        "6e5efe2a9677426aa394c95d59889ada": {
          "model_module": "@jupyter-widgets/controls",
          "model_module_version": "1.5.0",
          "model_name": "HBoxModel",
          "state": {
            "_dom_classes": [],
            "_model_module": "@jupyter-widgets/controls",
            "_model_module_version": "1.5.0",
            "_model_name": "HBoxModel",
            "_view_count": null,
            "_view_module": "@jupyter-widgets/controls",
            "_view_module_version": "1.5.0",
            "_view_name": "HBoxView",
            "box_style": "",
            "children": [
              "IPY_MODEL_0bafe288788d46b58546f92a1c7f22bb",
              "IPY_MODEL_a6b67d5dd3694f0ca1052590934c4658",
              "IPY_MODEL_e58e3267d74341a8a096abb1f303266b"
            ],
            "layout": "IPY_MODEL_d286815aa05d4551a5f43dcf3f10e590"
          }
        },
        "9247d2b379c64cd3926e669ed3be60c5": {
          "model_module": "@jupyter-widgets/controls",
          "model_module_version": "1.5.0",
          "model_name": "DescriptionStyleModel",
          "state": {
            "_model_module": "@jupyter-widgets/controls",
            "_model_module_version": "1.5.0",
            "_model_name": "DescriptionStyleModel",
            "_view_count": null,
            "_view_module": "@jupyter-widgets/base",
            "_view_module_version": "1.2.0",
            "_view_name": "StyleView",
            "description_width": ""
          }
        },
        "940505c8262a4465aaaf109e8e2d5df8": {
          "model_module": "@jupyter-widgets/controls",
          "model_module_version": "1.5.0",
          "model_name": "ProgressStyleModel",
          "state": {
            "_model_module": "@jupyter-widgets/controls",
            "_model_module_version": "1.5.0",
            "_model_name": "ProgressStyleModel",
            "_view_count": null,
            "_view_module": "@jupyter-widgets/base",
            "_view_module_version": "1.2.0",
            "_view_name": "StyleView",
            "bar_color": null,
            "description_width": ""
          }
        },
        "a6b67d5dd3694f0ca1052590934c4658": {
          "model_module": "@jupyter-widgets/controls",
          "model_module_version": "1.5.0",
          "model_name": "FloatProgressModel",
          "state": {
            "_dom_classes": [],
            "_model_module": "@jupyter-widgets/controls",
            "_model_module_version": "1.5.0",
            "_model_name": "FloatProgressModel",
            "_view_count": null,
            "_view_module": "@jupyter-widgets/controls",
            "_view_module_version": "1.5.0",
            "_view_name": "ProgressView",
            "bar_style": "success",
            "description": "",
            "description_tooltip": null,
            "layout": "IPY_MODEL_112f5f8813a94ed1be9a827d81fc277a",
            "max": 244408911,
            "min": 0,
            "orientation": "horizontal",
            "style": "IPY_MODEL_fa2f89661fa34987869d15f910447e14",
            "value": 244408911
          }
        },
        "b30be957a0994291b112cd066b758cb5": {
          "model_module": "@jupyter-widgets/controls",
          "model_module_version": "1.5.0",
          "model_name": "DescriptionStyleModel",
          "state": {
            "_model_module": "@jupyter-widgets/controls",
            "_model_module_version": "1.5.0",
            "_model_name": "DescriptionStyleModel",
            "_view_count": null,
            "_view_module": "@jupyter-widgets/base",
            "_view_module_version": "1.2.0",
            "_view_name": "StyleView",
            "description_width": ""
          }
        },
        "c786c40315004074908af0247cbec3a4": {
          "model_module": "@jupyter-widgets/base",
          "model_module_version": "1.2.0",
          "model_name": "LayoutModel",
          "state": {
            "_model_module": "@jupyter-widgets/base",
            "_model_module_version": "1.2.0",
            "_model_name": "LayoutModel",
            "_view_count": null,
            "_view_module": "@jupyter-widgets/base",
            "_view_module_version": "1.2.0",
            "_view_name": "LayoutView",
            "align_content": null,
            "align_items": null,
            "align_self": null,
            "border": null,
            "bottom": null,
            "display": null,
            "flex": null,
            "flex_flow": null,
            "grid_area": null,
            "grid_auto_columns": null,
            "grid_auto_flow": null,
            "grid_auto_rows": null,
            "grid_column": null,
            "grid_gap": null,
            "grid_row": null,
            "grid_template_areas": null,
            "grid_template_columns": null,
            "grid_template_rows": null,
            "height": null,
            "justify_content": null,
            "justify_items": null,
            "left": null,
            "margin": null,
            "max_height": null,
            "max_width": null,
            "min_height": null,
            "min_width": null,
            "object_fit": null,
            "object_position": null,
            "order": null,
            "overflow": null,
            "overflow_x": null,
            "overflow_y": null,
            "padding": null,
            "right": null,
            "top": null,
            "visibility": null,
            "width": null
          }
        },
        "cf1bc2f7ae0f4bc281f2883b32e80a6c": {
          "model_module": "@jupyter-widgets/controls",
          "model_module_version": "1.5.0",
          "model_name": "DescriptionStyleModel",
          "state": {
            "_model_module": "@jupyter-widgets/controls",
            "_model_module_version": "1.5.0",
            "_model_name": "DescriptionStyleModel",
            "_view_count": null,
            "_view_module": "@jupyter-widgets/base",
            "_view_module_version": "1.2.0",
            "_view_name": "StyleView",
            "description_width": ""
          }
        },
        "d286815aa05d4551a5f43dcf3f10e590": {
          "model_module": "@jupyter-widgets/base",
          "model_module_version": "1.2.0",
          "model_name": "LayoutModel",
          "state": {
            "_model_module": "@jupyter-widgets/base",
            "_model_module_version": "1.2.0",
            "_model_name": "LayoutModel",
            "_view_count": null,
            "_view_module": "@jupyter-widgets/base",
            "_view_module_version": "1.2.0",
            "_view_name": "LayoutView",
            "align_content": null,
            "align_items": null,
            "align_self": null,
            "border": null,
            "bottom": null,
            "display": null,
            "flex": null,
            "flex_flow": null,
            "grid_area": null,
            "grid_auto_columns": null,
            "grid_auto_flow": null,
            "grid_auto_rows": null,
            "grid_column": null,
            "grid_gap": null,
            "grid_row": null,
            "grid_template_areas": null,
            "grid_template_columns": null,
            "grid_template_rows": null,
            "height": null,
            "justify_content": null,
            "justify_items": null,
            "left": null,
            "margin": null,
            "max_height": null,
            "max_width": null,
            "min_height": null,
            "min_width": null,
            "object_fit": null,
            "object_position": null,
            "order": null,
            "overflow": null,
            "overflow_x": null,
            "overflow_y": null,
            "padding": null,
            "right": null,
            "top": null,
            "visibility": null,
            "width": null
          }
        },
        "d28eed3c3fab499686cb90629e65078f": {
          "model_module": "@jupyter-widgets/base",
          "model_module_version": "1.2.0",
          "model_name": "LayoutModel",
          "state": {
            "_model_module": "@jupyter-widgets/base",
            "_model_module_version": "1.2.0",
            "_model_name": "LayoutModel",
            "_view_count": null,
            "_view_module": "@jupyter-widgets/base",
            "_view_module_version": "1.2.0",
            "_view_name": "LayoutView",
            "align_content": null,
            "align_items": null,
            "align_self": null,
            "border": null,
            "bottom": null,
            "display": null,
            "flex": null,
            "flex_flow": null,
            "grid_area": null,
            "grid_auto_columns": null,
            "grid_auto_flow": null,
            "grid_auto_rows": null,
            "grid_column": null,
            "grid_gap": null,
            "grid_row": null,
            "grid_template_areas": null,
            "grid_template_columns": null,
            "grid_template_rows": null,
            "height": null,
            "justify_content": null,
            "justify_items": null,
            "left": null,
            "margin": null,
            "max_height": null,
            "max_width": null,
            "min_height": null,
            "min_width": null,
            "object_fit": null,
            "object_position": null,
            "order": null,
            "overflow": null,
            "overflow_x": null,
            "overflow_y": null,
            "padding": null,
            "right": null,
            "top": null,
            "visibility": null,
            "width": null
          }
        },
        "e58e3267d74341a8a096abb1f303266b": {
          "model_module": "@jupyter-widgets/controls",
          "model_module_version": "1.5.0",
          "model_name": "HTMLModel",
          "state": {
            "_dom_classes": [],
            "_model_module": "@jupyter-widgets/controls",
            "_model_module_version": "1.5.0",
            "_model_name": "HTMLModel",
            "_view_count": null,
            "_view_module": "@jupyter-widgets/controls",
            "_view_module_version": "1.5.0",
            "_view_name": "HTMLView",
            "description": "",
            "description_tooltip": null,
            "layout": "IPY_MODEL_c786c40315004074908af0247cbec3a4",
            "placeholder": "​",
            "style": "IPY_MODEL_2ed025f53eeb4b04a66eab4a45cf419f",
            "value": " 233M/233M [00:02&lt;00:00, 78.5MB/s]"
          }
        },
        "e72c50f12dda4c56b9dfc0fea87bc6a9": {
          "model_module": "@jupyter-widgets/controls",
          "model_module_version": "1.5.0",
          "model_name": "FloatProgressModel",
          "state": {
            "_dom_classes": [],
            "_model_module": "@jupyter-widgets/controls",
            "_model_module_version": "1.5.0",
            "_model_name": "FloatProgressModel",
            "_view_count": null,
            "_view_module": "@jupyter-widgets/controls",
            "_view_module_version": "1.5.0",
            "_view_name": "ProgressView",
            "bar_style": "success",
            "description": "",
            "description_tooltip": null,
            "layout": "IPY_MODEL_2a88a7872a0941c498a3cf260b559177",
            "max": 102530333,
            "min": 0,
            "orientation": "horizontal",
            "style": "IPY_MODEL_940505c8262a4465aaaf109e8e2d5df8",
            "value": 102530333
          }
        },
        "f1a4c2c8b3d94d0f821f0574b6434c85": {
          "model_module": "@jupyter-widgets/controls",
          "model_module_version": "1.5.0",
          "model_name": "HTMLModel",
          "state": {
            "_dom_classes": [],
            "_model_module": "@jupyter-widgets/controls",
            "_model_module_version": "1.5.0",
            "_model_name": "HTMLModel",
            "_view_count": null,
            "_view_module": "@jupyter-widgets/controls",
            "_view_module_version": "1.5.0",
            "_view_name": "HTMLView",
            "description": "",
            "description_tooltip": null,
            "layout": "IPY_MODEL_f432fb8b5cc54077911006ffe0b5bf12",
            "placeholder": "​",
            "style": "IPY_MODEL_9247d2b379c64cd3926e669ed3be60c5",
            "value": " 97.8M/97.8M [00:00&lt;00:00, 140MB/s]"
          }
        },
        "f432fb8b5cc54077911006ffe0b5bf12": {
          "model_module": "@jupyter-widgets/base",
          "model_module_version": "1.2.0",
          "model_name": "LayoutModel",
          "state": {
            "_model_module": "@jupyter-widgets/base",
            "_model_module_version": "1.2.0",
            "_model_name": "LayoutModel",
            "_view_count": null,
            "_view_module": "@jupyter-widgets/base",
            "_view_module_version": "1.2.0",
            "_view_name": "LayoutView",
            "align_content": null,
            "align_items": null,
            "align_self": null,
            "border": null,
            "bottom": null,
            "display": null,
            "flex": null,
            "flex_flow": null,
            "grid_area": null,
            "grid_auto_columns": null,
            "grid_auto_flow": null,
            "grid_auto_rows": null,
            "grid_column": null,
            "grid_gap": null,
            "grid_row": null,
            "grid_template_areas": null,
            "grid_template_columns": null,
            "grid_template_rows": null,
            "height": null,
            "justify_content": null,
            "justify_items": null,
            "left": null,
            "margin": null,
            "max_height": null,
            "max_width": null,
            "min_height": null,
            "min_width": null,
            "object_fit": null,
            "object_position": null,
            "order": null,
            "overflow": null,
            "overflow_x": null,
            "overflow_y": null,
            "padding": null,
            "right": null,
            "top": null,
            "visibility": null,
            "width": null
          }
        },
        "fa2f89661fa34987869d15f910447e14": {
          "model_module": "@jupyter-widgets/controls",
          "model_module_version": "1.5.0",
          "model_name": "ProgressStyleModel",
          "state": {
            "_model_module": "@jupyter-widgets/controls",
            "_model_module_version": "1.5.0",
            "_model_name": "ProgressStyleModel",
            "_view_count": null,
            "_view_module": "@jupyter-widgets/base",
            "_view_module_version": "1.2.0",
            "_view_name": "StyleView",
            "bar_color": null,
            "description_width": ""
          }
        }
      }
    }
  },
  "nbformat": 4,
  "nbformat_minor": 5
}
