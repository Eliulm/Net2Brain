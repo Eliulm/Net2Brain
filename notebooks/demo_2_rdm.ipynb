{
 "cells": [
  {
   "attachments": {},
   "cell_type": "markdown",
   "metadata": {},
   "source": [
    "# Step 2: Creating RDMs"
   ]
  },
  {
   "cell_type": "code",
   "execution_count": null,
   "metadata": {},
   "outputs": [],
   "source": [
    "# Import class\n",
    "from net2brain.rdm_creation import RDMCreator"
   ]
  },
  {
   "attachments": {},
   "cell_type": "markdown",
   "metadata": {},
   "source": [
    "### Loading generated features into the RDM Creator\n",
    "In Step 1 of the process, the Feature Extractor extracts features that are used here in Step2 to calculate Representational Dissimilarity Matrices (RDMs) through the built-in functionality of the RDM creator. To do this, the RDM creator function requires the path to the location of the .npz files containing all the layer features for each image in a [Batch x Channel x Height x Width] format. The function then produces an RDM in the shape of (#Images,#Images) for each layer."
   ]
  },
  {
   "cell_type": "code",
   "execution_count": null,
   "metadata": {},
   "outputs": [],
   "source": [
    "feat_path = r\"ResNet50_Feat\"\n",
    "\n",
    "\n",
    "# Call the Class with the path to the feautures\n",
    "creator = RDMCreator(feat_path, save_path=\"ResNet50_RDMs\")  # distance defaults to perason-correlation\n",
    "creator.create_rdms()  # This will create the RDMs with "
   ]
  },
  {
   "attachments": {},
   "cell_type": "markdown",
   "metadata": {},
   "source": [
    "### Edit save path and distance\n",
    "\n",
    "In addition, you have the option to specify the save path and the distance metric. Currently, only the Pearson distance metric is available, but we are actively working to expand the functionality by adding more distance metrics."
   ]
  },
  {
   "cell_type": "code",
   "execution_count": null,
   "metadata": {},
   "outputs": [],
   "source": [
    "feat_path = r\"notebooks\\ResNet50_Feat\"\n",
    "save_path = r\"./\"\n",
    "distance = \"pearson\"\n",
    "\n",
    "# Call the Class with the path to the feautures\n",
    "creator = RDMCreator(feat_path, save_path, distance=distance)  # distance defaults to perason-correlation\n",
    "creator.create_rdms()  # This will create the RDMs with "
   ]
  }
 ],
 "metadata": {
  "kernelspec": {
   "display_name": "N2B",
   "language": "python",
   "name": "python3"
  },
  "language_info": {
   "codemirror_mode": {
    "name": "ipython",
    "version": 3
   },
   "file_extension": ".py",
   "mimetype": "text/x-python",
   "name": "python",
   "nbconvert_exporter": "python",
   "pygments_lexer": "ipython3",
   "version": "3.8.16"
  },
  "orig_nbformat": 4,
  "vscode": {
   "interpreter": {
    "hash": "2143370df03d7e8d8afb3cb32a8181ea228f5a6f13a304f592978240ae0036e6"
   }
  }
 },
 "nbformat": 4,
 "nbformat_minor": 2
}
