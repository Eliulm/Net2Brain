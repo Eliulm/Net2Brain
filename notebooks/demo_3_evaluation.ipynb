{
 "cells": [
  {
   "attachments": {},
   "cell_type": "markdown",
   "metadata": {},
   "source": [
    "# Step 3: Evaluation\n",
    "This tutorial notebook demonstrates how to utilize the evaluation features of Net2Brain and plot the resulting data. You have the option to select from three different metrics for evaluation: \"RSA\", \"Weighted RSA\", and \"Searchlight\". Each module returns a pandas dataframe that can be easily integrated into the toolbox's integrated plotting functionality."
   ]
  },
  {
   "attachments": {},
   "cell_type": "markdown",
   "metadata": {},
   "source": [
    "### RSA Evaluation"
   ]
  },
  {
   "cell_type": "code",
   "execution_count": null,
   "metadata": {},
   "outputs": [],
   "source": [
    "from net2brain.evaluations.rsa import RSA"
   ]
  },
  {
   "cell_type": "code",
   "execution_count": null,
   "metadata": {},
   "outputs": [],
   "source": [
    "model_rdms = r\"ResNet50_RDMs\" \n",
    "brain_rdms = r'input_data/brain_data/78images'\n",
    "\n",
    "# Start RSA\n",
    "evaluation = RSA(model_rdms, brain_rdms, save_path=\"./\", model_name=\"ResNet50\")\n",
    "\n",
    "# Evaluation - Returns a pandas dataframe\n",
    "dataframe1 = evaluation.evaluate() \n"
   ]
  },
  {
   "attachments": {},
   "cell_type": "markdown",
   "metadata": {},
   "source": [
    "## Visualizing RSA Evaluation Results\n",
    "\n",
    "If you would like to visualize the evaluation results, you can do so using the integrated plotting functionality of the toolbox. To do this, initialize the class with a list of dataframes that were returned through the evaluation. It is important to ensure that each dataframe contains the same ROIs, indicating that each test was conducted on the same brain RDMs. Additionally, each dataframe should contain a different model name, which can be set manually or through the \"model_name\" parameter during evaluation (as described above).\n",
    "\n",
    "The following example illustrates how to plot the data using a single dataframe.\n",
    "\n",
    ">Note: Multiple ways of plotting are planned for implementation in the future. For now, only the \"best_layer\" variant is available, which plots the best performing layer."
   ]
  },
  {
   "cell_type": "code",
   "execution_count": null,
   "metadata": {},
   "outputs": [],
   "source": [
    "from net2brain.evaluations.plotting import Plotting"
   ]
  },
  {
   "cell_type": "code",
   "execution_count": null,
   "metadata": {},
   "outputs": [],
   "source": [
    "plotting_results = Plotting([dataframe1])\n",
    "results_dataframe = plotting_results.plot(variant=\"best_layer\")"
   ]
  },
  {
   "attachments": {},
   "cell_type": "markdown",
   "metadata": {},
   "source": [
    "Plotting using multiple dataframes:"
   ]
  },
  {
   "cell_type": "code",
   "execution_count": null,
   "metadata": {},
   "outputs": [],
   "source": [
    "model_rdms = r\"ResNet50_RDMs\" \n",
    "brain_rdms = r'input_data/brain_data/78images'\n",
    "\n",
    "# Start RSA for ResNet50\n",
    "evaluation = RSA(\"ResNet50_RDMs\", brain_rdms, save_path=\"./\", model_name=\"ResNet50\")\n",
    "dataframe1 = evaluation.evaluate() \n",
    "\n",
    "# Start RSA for AlexNet\n",
    "evaluation = RSA(\"AlexNet_RDMs\", brain_rdms, save_path=\"./\", model_name=\"AlexNet\")\n",
    "dataframe2 = evaluation.evaluate() \n",
    "\n",
    "\n",
    "plotting_results = Plotting([dataframe1,dataframe2])\n",
    "results_dataframe = plotting_results.plot(variant=\"best_layer\")"
   ]
  },
  {
   "attachments": {},
   "cell_type": "markdown",
   "metadata": {},
   "source": [
    "### WRSA Evaluation\n",
    "This example shows how to use Weighted RSA."
   ]
  },
  {
   "cell_type": "code",
   "execution_count": null,
   "metadata": {},
   "outputs": [],
   "source": [
    "from net2brain.evaluations.weighted_rsa import WRSA\n",
    "\n",
    "\n",
    "model_rdms = r\"ResNet50_RDMs\" \n",
    "brain_rdms = r'input_data/brain_data/78images'\n",
    "\n",
    "# Start RSA\n",
    "evaluation = WRSA(model_rdms, brain_rdms, save_path=\"./\", model_name=\"ResNet50\")\n",
    "\n",
    "# Evaluation - Returns a pandas dataframe\n",
    "dataframe1 = evaluation.evaluate() "
   ]
  },
  {
   "cell_type": "code",
   "execution_count": null,
   "metadata": {},
   "outputs": [],
   "source": [
    "plotting_results = Plotting([dataframe1])\n",
    "results_dataframe = plotting_results.plot(variant=\"best_layer\")"
   ]
  },
  {
   "attachments": {},
   "cell_type": "markdown",
   "metadata": {},
   "source": [
    "### Searchlight\n",
    "The toolbox provides the functionality to conduct searchlight analysis using Searchlight RDMs in the shape of [ROI, subject, stimuli, stimuli]. Unfortunately, this toolbox does not come with RDMs for testing purposes. However, if you happen to have RDMs available, feel free to utilize this function to perform searchlight analysis."
   ]
  },
  {
   "cell_type": "code",
   "execution_count": null,
   "metadata": {},
   "outputs": [],
   "source": [
    "from net2brain.evaluations.searchlight import Searchlight\n",
    "model_rdms = \"-\"\n",
    "searchlight_rdm = \"-\"\n",
    "\n",
    "evaluation = Searchlight(model_rdms, searchlight_rdm, save_path=\"./\")\n",
    "evaluation.evaluate()"
   ]
  }
 ],
 "metadata": {
  "kernelspec": {
   "display_name": "N2B",
   "language": "python",
   "name": "python3"
  },
  "language_info": {
   "codemirror_mode": {
    "name": "ipython",
    "version": 3
   },
   "file_extension": ".py",
   "mimetype": "text/x-python",
   "name": "python",
   "nbconvert_exporter": "python",
   "pygments_lexer": "ipython3",
   "version": "3.8.16"
  },
  "orig_nbformat": 4,
  "vscode": {
   "interpreter": {
    "hash": "2143370df03d7e8d8afb3cb32a8181ea228f5a6f13a304f592978240ae0036e6"
   }
  }
 },
 "nbformat": 4,
 "nbformat_minor": 2
}
