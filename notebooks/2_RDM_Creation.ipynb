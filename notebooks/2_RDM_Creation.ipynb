{
 "cells": [
  {
   "attachments": {},
   "cell_type": "markdown",
   "metadata": {},
   "source": [
    "# Installing Net2Brain"
   ]
  },
  {
   "cell_type": "code",
   "execution_count": null,
   "metadata": {},
   "outputs": [],
   "source": [
    "!pip install -U git+https://github.com/cvai-roig-lab/Net2Brain"
   ]
  },
  {
   "attachments": {},
   "cell_type": "markdown",
   "metadata": {},
   "source": [
    "# Step 2: Creating Representational Dissimilarity Matrices (RDMs) using `RDM Creator`"
   ]
  },
  {
   "attachments": {},
   "cell_type": "markdown",
   "metadata": {},
   "source": [
    "After completing Step 1, where the Feature Extractor extracts features from the specified layers, we can now proceed to Step 2, which involves calculating Representational Dissimilarity Matrices (RDMs) using the RDM Creator's built-in functionality.\n",
    "\n",
    "To generate RDMs, the RDM Creator function requires:\n",
    "\n",
    "- **Input**: The path to the .npz files containing the layer features for each image. These files should have a [Batch x Channel x Height x Width] format.\n",
    "- **Save Path** (optional): The location where the generated RDMs will be saved.\n",
    "\n",
    "The function will then:\n",
    "\n",
    "- **Output**: Create an RDM with the shape (#Images, #Images) for every specified layer.\n",
    "\n",
    "In this example, we'll be using the AlexNet features generated earlier in the tutorial. The function can be called as follows:"
   ]
  },
  {
   "cell_type": "code",
   "execution_count": null,
   "metadata": {},
   "outputs": [],
   "source": [
    "from net2brain.rdm_creation import RDMCreator\n",
    "\n",
    "feat_path = \"AlexNet_Feat\"\n",
    "save_path = \"AlexNet_RDM\"\n",
    "\n",
    "\n",
    "# Call the Class with the path to the feautures\n",
    "creator = RDMCreator(feat_path, save_path) \n",
    "creator.create_rdms()  # This will create and save the RDMs at the specified save path"
   ]
  },
  {
   "cell_type": "code",
   "execution_count": 2,
   "metadata": {},
   "outputs": [
    {
     "name": "stderr",
     "output_type": "stream",
     "text": [
      "100%|██████████| 50/50 [00:02<00:00, 24.15it/s]\n",
      "100%|██████████| 50/50 [00:00<00:00, 307.92it/s]\n",
      "100%|██████████| 50/50 [00:00<00:00, 376.90it/s]\n",
      "100%|██████████| 50/50 [00:00<00:00, 531.36it/s]\n"
     ]
    }
   ],
   "source": [
    "from net2brain.rdm_creation import RDMCreator\n",
    "\n",
    "feat_path = \"ResNet50_Feat\"\n",
    "save_path = \"ResNet50_RDM\"\n",
    "\n",
    "\n",
    "# Call the Class with the path to the feautures\n",
    "creator = RDMCreator(feat_path, save_path) \n",
    "creator.create_rdms()  # This will create and save the RDMs at the specified save path"
   ]
  }
 ],
 "metadata": {
  "kernelspec": {
   "display_name": "N2B",
   "language": "python",
   "name": "python3"
  },
  "language_info": {
   "codemirror_mode": {
    "name": "ipython",
    "version": 3
   },
   "file_extension": ".py",
   "mimetype": "text/x-python",
   "name": "python",
   "nbconvert_exporter": "python",
   "pygments_lexer": "ipython3",
   "version": "3.10.13"
  },
  "orig_nbformat": 4,
  "vscode": {
   "interpreter": {
    "hash": "2143370df03d7e8d8afb3cb32a8181ea228f5a6f13a304f592978240ae0036e6"
   }
  }
 },
 "nbformat": 4,
 "nbformat_minor": 2
}
