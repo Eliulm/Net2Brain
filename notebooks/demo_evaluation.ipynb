{
 "cells": [
  {
   "attachments": {},
   "cell_type": "markdown",
   "metadata": {},
   "source": [
    "# Evaluation\n",
    "This notebook shows how tu use the evaluation features of Net2Brain and how to plot the results. You can choose between \"RSA\", \"Weighted RSA\" and \"Serachlight\" as metrics for evaluation. Each module returns a pandas dataframe which can be plugged in into the integreated plotting functionality of the toolbox."
   ]
  },
  {
   "attachments": {},
   "cell_type": "markdown",
   "metadata": {},
   "source": [
    "### RSA Evaluation"
   ]
  },
  {
   "cell_type": "code",
   "execution_count": null,
   "metadata": {},
   "outputs": [],
   "source": [
    "from net2brain.evaluations.rsa import RSA"
   ]
  },
  {
   "cell_type": "code",
   "execution_count": null,
   "metadata": {},
   "outputs": [],
   "source": [
    "model_rdms = r\"ResNet50_RDMs\" \n",
    "brain_rdms = r'input_data/brain_data/78images'\n",
    "\n",
    "# Start RSA\n",
    "evaluation = RSA(model_rdms, brain_rdms, save_path=\"./\", model_name=\"ResNet50\")\n",
    "\n",
    "# Evaluation - Returns a pandas dataframe\n",
    "dataframe1 = evaluation.evaluate() \n"
   ]
  },
  {
   "attachments": {},
   "cell_type": "markdown",
   "metadata": {},
   "source": [
    "### Plotting the Results of the RSA Evaluation\n",
    "If you would like to have a preview of the data, you can plot them using the integrated plotting functionality of the toolbox. For that initate the class with a list of dataframes used for evaluation. Make sure that each dataframe contains the same ROIs. That means, that each test has been conducted on the same brain RDMs. Also make sure that each dataframe contains a different model-name. This can be set manually or while doing the evaluation with the parameter \"model_name\" (see above).\n",
    "\n",
    "The following example shows how to plot the data using one dataframe.\n",
    "\n",
    "**Variants**:\n",
    "We plan to implement multiples ways of plotting. For now only \"best_layer\" is available which plots the best performing layer."
   ]
  },
  {
   "cell_type": "code",
   "execution_count": null,
   "metadata": {},
   "outputs": [],
   "source": [
    "from net2brain.evaluations.plotting import Plotting"
   ]
  },
  {
   "cell_type": "code",
   "execution_count": null,
   "metadata": {},
   "outputs": [],
   "source": [
    "plotting_results = Plotting([dataframe1])\n",
    "results_dataframe = plotting_results.plot(variant=\"best_layer\")"
   ]
  },
  {
   "attachments": {},
   "cell_type": "markdown",
   "metadata": {},
   "source": [
    "Plotting using multiple dataframes:"
   ]
  },
  {
   "cell_type": "code",
   "execution_count": null,
   "metadata": {},
   "outputs": [],
   "source": [
    "model_rdms = r\"ResNet50_RDMs\" \n",
    "brain_rdms = r'input_data/brain_data/78images'\n",
    "\n",
    "# Start RSA for ResNet50\n",
    "evaluation = RSA(\"ResNet50_RDMs\", brain_rdms, save_path=\"./\", model_name=\"ResNet50\")\n",
    "dataframe1 = evaluation.evaluate() \n",
    "\n",
    "# Start RSA for AlexNet\n",
    "evaluation = RSA(\"AlexNet_RDMs\", brain_rdms, save_path=\"./\", model_name=\"AlexNet\")\n",
    "dataframe2 = evaluation.evaluate() \n",
    "\n",
    "\n",
    "plotting_results = Plotting([dataframe1,dataframe2])\n",
    "results_dataframe = plotting_results.plot(variant=\"best_layer\")"
   ]
  },
  {
   "attachments": {},
   "cell_type": "markdown",
   "metadata": {},
   "source": [
    "### WRSA Evaluation"
   ]
  },
  {
   "cell_type": "code",
   "execution_count": null,
   "metadata": {},
   "outputs": [],
   "source": [
    "from net2brain.evaluations.weighted_rsa import WRSA\n",
    "\n",
    "\n",
    "model_rdms = r\"ResNet50_RDMs\" \n",
    "brain_rdms = r'input_data/brain_data/78images'\n",
    "\n",
    "# Start RSA\n",
    "evaluation = WRSA(model_rdms, brain_rdms, save_path=\"./\", model_name=\"ResNet50\")\n",
    "\n",
    "# Evaluation - Returns a pandas dataframe\n",
    "dataframe1 = evaluation.evaluate() "
   ]
  },
  {
   "cell_type": "code",
   "execution_count": null,
   "metadata": {},
   "outputs": [],
   "source": [
    "plotting_results = Plotting([dataframe1])\n",
    "results_dataframe = plotting_results.plot(variant=\"best_layer\")"
   ]
  },
  {
   "attachments": {},
   "cell_type": "markdown",
   "metadata": {},
   "source": [
    "### Searchlight\n",
    "This module takes only one Searchlight RDM as input\n",
    "\n",
    "HAS NOT BEEN TESTED YET"
   ]
  },
  {
   "cell_type": "code",
   "execution_count": null,
   "metadata": {},
   "outputs": [],
   "source": [
    "from net2brain.evaluations.searchlight import Searchlight\n",
    "model_rdms = \"-\"\n",
    "searchlight_rdm = \"-\"\n",
    "\n",
    "evaluation = Searchlight(model_rdms, searchlight_rdm, save_path=\"./\")\n",
    "evaluation.evaluate()"
   ]
  }
 ],
 "metadata": {
  "kernelspec": {
   "display_name": "N2B",
   "language": "python",
   "name": "python3"
  },
  "language_info": {
   "codemirror_mode": {
    "name": "ipython",
    "version": 3
   },
   "file_extension": ".py",
   "mimetype": "text/x-python",
   "name": "python",
   "nbconvert_exporter": "python",
   "pygments_lexer": "ipython3",
   "version": "3.8.16"
  },
  "orig_nbformat": 4,
  "vscode": {
   "interpreter": {
    "hash": "2143370df03d7e8d8afb3cb32a8181ea228f5a6f13a304f592978240ae0036e6"
   }
  }
 },
 "nbformat": 4,
 "nbformat_minor": 2
}
