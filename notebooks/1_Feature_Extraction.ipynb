{
  "cells": [
    {
      "attachments": {},
      "cell_type": "markdown",
      "id": "4ebb6aca-121a-4436-bb92-ef3e67e01aed",
      "metadata": {
        "id": "4ebb6aca-121a-4436-bb92-ef3e67e01aed"
      },
      "source": [
        "# Installing Net2Brain"
      ]
    },
    {
      "cell_type": "code",
      "execution_count": null,
      "id": "4ODrk2C7yMjr",
      "metadata": {
        "id": "4ODrk2C7yMjr"
      },
      "outputs": [],
      "source": [
        "!pip install -U git+https://github.com/cvai-roig-lab/Net2Brain"
      ]
    },
    {
      "attachments": {},
      "cell_type": "markdown",
      "id": "12ecd847",
      "metadata": {},
      "source": [
        "# Step 1: Feature Extraction"
      ]
    },
    {
      "attachments": {},
      "cell_type": "markdown",
      "id": "089bd358-1fd3-49da-8549-a309929dd434",
      "metadata": {
        "id": "089bd358-1fd3-49da-8549-a309929dd434"
      },
      "source": [
        "## Using `FeatureExtractor` with a model from Net2Brain"
      ]
    },
    {
      "attachments": {},
      "cell_type": "markdown",
      "id": "3114e293-a369-4634-a64b-057184cb4520",
      "metadata": {
        "id": "3114e293-a369-4634-a64b-057184cb4520"
      },
      "source": [
        "The FeatureExtractor class provides an interface for extracting features from a given model. When initializing this class, you can customize its behavior by setting various parameters:\n",
        "\n",
        "- `model` (required): The model from which you want to extract features. Either string in combination with a netset (next parameter), or a variable with a model-type.\n",
        "- `netset` (optional): The netset (collection of networks) that the model belongs to.\n",
        "- `layers_to_extract` (optional): A list of layer names or indices from which you want to extract features. Default is None, indicating that all layers preset in the toolbox will be used.\n",
        "- `device` (optional): The device on which to perform the computations, e.g., 'cuda' for GPU or 'cpu' for CPU. Default is None, which will use the device specified in the global PyTorch settings.\n",
        "- `transforms` (optional): A list of data preprocessing transforms to apply to the input data before passing it through the model. Default is None, which uses the preset transformations\n",
        "- `pretrained` (optional): A boolean flag indicating whether to use a pretrained model (if available) or to initialize the model with random weights. Default is True, which means that a pretrained model will be used if possible."
      ]
    },
    {
      "attachments": {},
      "cell_type": "markdown",
      "id": "5ed1e591",
      "metadata": {},
      "source": [
        "- - -\n"
      ]
    },
    {
      "attachments": {},
      "cell_type": "markdown",
      "id": "43a75bb8",
      "metadata": {},
      "source": [
        "First we need to a dataset to play around with. For that we will use the dataset by [Micheal F. Bonner (2017)](https://www.pnas.org/doi/full/10.1073/pnas.1618228114), which we can download using the `load_dataset` function"
      ]
    },
    {
      "cell_type": "code",
      "execution_count": 4,
      "id": "73903734",
      "metadata": {},
      "outputs": [],
      "source": [
        "from net2brain.utils.download_datasets import load_dataset\n",
        "stimuli_path, roi_path = load_dataset(\"bonner_pnas2017\")"
      ]
    },
    {
      "attachments": {},
      "cell_type": "markdown",
      "id": "6c06970d",
      "metadata": {},
      "source": [
        "### Initating FeatureExtractor"
      ]
    },
    {
      "attachments": {},
      "cell_type": "markdown",
      "id": "2573aba3",
      "metadata": {},
      "source": [
        "\n",
        "To extract the activations of a pretrained model from a netset, you can use the FeatureExtractor class. First, you need to initialize the class by providing the name of the model and the name of the netset. You can find a suitable model and netset by exploring the taxonomy options available in the Net2Brain toolbox, as shown in the previous notebook \"0_Exploring_Net2Brain\". For instance, in the following example, we will use AlexNet from the standard netset."
      ]
    },
    {
      "cell_type": "code",
      "execution_count": null,
      "id": "83e48930-2eed-4551-8177-88dfe7a452d3",
      "metadata": {
        "colab": {
          "base_uri": "https://localhost:8080/",
          "height": 87,
          "referenced_widgets": [
            "4c7a1d542761427791a841f9872d693f",
            "3587f70a049a47e1b344ce45039d527a",
            "e72c50f12dda4c56b9dfc0fea87bc6a9",
            "f1a4c2c8b3d94d0f821f0574b6434c85",
            "d28eed3c3fab499686cb90629e65078f",
            "21959f75a3a4472085d63d036fca70b2",
            "b30be957a0994291b112cd066b758cb5",
            "2a88a7872a0941c498a3cf260b559177",
            "940505c8262a4465aaaf109e8e2d5df8",
            "f432fb8b5cc54077911006ffe0b5bf12",
            "9247d2b379c64cd3926e669ed3be60c5"
          ]
        },
        "id": "83e48930-2eed-4551-8177-88dfe7a452d3",
        "outputId": "34a91416-caca-4b3d-9fa5-859d40ce99eb"
      },
      "outputs": [],
      "source": [
        "from net2brain.feature_extraction import FeatureExtractor\n",
        "fx = FeatureExtractor(model='AlexNet', netset='standard', device='cpu')"
      ]
    },
    {
      "attachments": {},
      "cell_type": "markdown",
      "id": "35ea8247",
      "metadata": {},
      "source": [
        "The `extract` method computes feature extraction from an image dataset. It takes in the following parameters:\n",
        "\n",
        "- `dataset_path` (required): The path to the images from which to extract the features. The images must be in JPEG or PNG format.\n",
        "- `save_format` (optional): The format to save the extracted features in. It can be 'npz', 'pt', or 'dataset'. The default is 'npz', which saves the features in NumPy's .npz format. If 'dataset', the features are saved in the format used by the RSA toolbox's Dataset class.\n",
        "- `save_path` (optional): The path to save the extracted features to. If None, the folder where the features are saved is named after the current date in the format \"{year}{month}{day}{hour}{minute}\".\n",
        "- `layers_to_extract` (optional): A list of layer names or indices from which to extract features. If None, the specified layers will be used."
      ]
    },
    {
      "cell_type": "code",
      "execution_count": null,
      "id": "39faa0f0",
      "metadata": {},
      "outputs": [],
      "source": [
        "from net2brain.feature_extraction import FeatureExtractor\n",
        "\n",
        "fx = FeatureExtractor(model='AlexNet', netset='standard', device='cpu')\n",
        "fx.extract(dataset_path=stimuli_path, save_format='npz', save_path='AlexNet_Feat')"
      ]
    },
    {
      "attachments": {},
      "cell_type": "markdown",
      "id": "ZSbD3CBM94B-",
      "metadata": {
        "id": "ZSbD3CBM94B-"
      },
      "source": [
        "__Net2Brain__ chooses by default from which layers of the model to extract the features from. You can inspect which layers are selected by default by calling the `layers_to_extract` attribute:"
      ]
    },
    {
      "cell_type": "code",
      "execution_count": null,
      "id": "426df22a-b261-4a7f-b94b-fd8cbdaeb030",
      "metadata": {
        "colab": {
          "base_uri": "https://localhost:8080/"
        },
        "id": "426df22a-b261-4a7f-b94b-fd8cbdaeb030",
        "outputId": "62aa778b-455f-46c4-da52-8c344296a3bd"
      },
      "outputs": [],
      "source": [
        "fx.layers_to_extract"
      ]
    },
    {
      "attachments": {},
      "cell_type": "markdown",
      "id": "d86fce77",
      "metadata": {},
      "source": [
        "These are not all the layers that **can** be extracted. If you want to see all the layers that can possibly be extracted you you call `get_all_layers()`."
      ]
    },
    {
      "cell_type": "code",
      "execution_count": null,
      "id": "6619e401",
      "metadata": {},
      "outputs": [],
      "source": [
        "fx.get_all_layers()"
      ]
    },
    {
      "attachments": {},
      "cell_type": "markdown",
      "id": "2064729b",
      "metadata": {},
      "source": [
        "If you wish to change the layers to be extracted you can add it to the `extract` function like with the parameter \n",
        "```\n",
        "fx.extract(..., layers_to_extract=[your_layers])\n",
        "```"
      ]
    },
    {
      "attachments": {},
      "cell_type": "markdown",
      "id": "5d49a7cf",
      "metadata": {},
      "source": [
        "### Using different datatypes"
      ]
    },
    {
      "attachments": {},
      "cell_type": "markdown",
      "id": "3c783dd4-fb9c-4288-a1e9-7fc368a7f7a5",
      "metadata": {
        "id": "3c783dd4-fb9c-4288-a1e9-7fc368a7f7a5"
      },
      "source": [
        "The `extract()` method allows you to customize the storage of activations with the save_format argument. You have three options for specifying the format:\n",
        "\n",
        "1. **pt**: Activations are saved as separate tensors for each image.\n",
        "2. **npz**: Activations are saved as separate arrays for each image.\n",
        "3. **dataset**: Activations are saved using the Dataset class format from the [RSA toolbox](https://rsatoolbox.readthedocs.io/en/stable/)."
      ]
    },
    {
      "cell_type": "code",
      "execution_count": null,
      "id": "948b2dc4-090d-47c0-8b83-9b3502e4e9f3",
      "metadata": {
        "colab": {
          "base_uri": "https://localhost:8080/"
        },
        "id": "948b2dc4-090d-47c0-8b83-9b3502e4e9f3",
        "outputId": "7b4dc38f-fd10-41d0-9933-081da34e618e"
      },
      "outputs": [],
      "source": [
        "from net2brain.feature_extraction import FeatureExtractor\n",
        "\n",
        "fx = FeatureExtractor(model='ResNet50', netset='standard', device='cpu')\n",
        "fts_datasets = fx.extract(dataset_path=stimuli_path, save_format='dataset', save_path='ResNet50_dataset_Feat')\n"
      ]
    },
    {
      "attachments": {},
      "cell_type": "markdown",
      "id": "e7be2062",
      "metadata": {},
      "source": [
        "If `dataset` is provided as the output format, the function returns a dictionary of a Dataset class with an entry for each of the layers specified:"
      ]
    },
    {
      "cell_type": "code",
      "execution_count": null,
      "id": "9d21356e",
      "metadata": {},
      "outputs": [],
      "source": [
        "fts_datasets.keys()"
      ]
    },
    {
      "attachments": {},
      "cell_type": "markdown",
      "id": "4cfa921f",
      "metadata": {},
      "source": [
        "Each entry is a `dataset` class:"
      ]
    },
    {
      "cell_type": "code",
      "execution_count": null,
      "id": "0a6fa11c",
      "metadata": {},
      "outputs": [],
      "source": [
        "fts_datasets['layer1']"
      ]
    },
    {
      "attachments": {},
      "cell_type": "markdown",
      "id": "u8PoTSo8K2G9",
      "metadata": {
        "id": "u8PoTSo8K2G9"
      },
      "source": [
        " These dataset classes are stored separetely in the output folder. You can load these classes back into your code using the `load_dataset` function from the rsatoolbox dataset like so: "
      ]
    },
    {
      "cell_type": "code",
      "execution_count": null,
      "id": "8425b86a-61af-4134-be24-7135d0be8e88",
      "metadata": {
        "colab": {
          "base_uri": "https://localhost:8080/"
        },
        "id": "8425b86a-61af-4134-be24-7135d0be8e88",
        "outputId": "a9432acf-62c4-44ac-fcc7-afc21fced4cb"
      },
      "outputs": [],
      "source": [
        "from pathlib import Path\n",
        "from rsatoolbox.data.dataset import load_dataset\n",
        "\n",
        "filename = Path('ResNet50_dataset_Feat\\ResNet50_layer1.hdf5')\n",
        "layer1_dataset = load_dataset(filename, file_type='hdf5')\n",
        "display(layer1_dataset)"
      ]
    },
    {
      "attachments": {},
      "cell_type": "markdown",
      "id": "6df000f0",
      "metadata": {},
      "source": [
        "- - - \n",
        "\n",
        "- - -"
      ]
    },
    {
      "attachments": {},
      "cell_type": "markdown",
      "id": "LX-73e5XGdnZ",
      "metadata": {
        "id": "LX-73e5XGdnZ"
      },
      "source": [
        "## Using `FeatureExtractor` with your own DNN"
      ]
    },
    {
      "attachments": {},
      "cell_type": "markdown",
      "id": "Agdb4-aySNw0",
      "metadata": {
        "id": "Agdb4-aySNw0"
      },
      "source": [
        "You can also incorporate your own custom model with __Net2Brain__. To do this, supply the `FeatureExtractor` with the following components:\n",
        "\n",
        "1. Your model\n",
        "2. Optionally, your custom transform function (if not provided, standard ImageNet transformations will be used)\n",
        "3. The specific layers you want to extract features from"
      ]
    },
    {
      "cell_type": "code",
      "execution_count": 5,
      "id": "bfcb9939-b1b0-4109-9f1f-d09cc3c5fa11",
      "metadata": {
        "colab": {
          "base_uri": "https://localhost:8080/",
          "height": 1000,
          "referenced_widgets": [
            "6e5efe2a9677426aa394c95d59889ada",
            "0bafe288788d46b58546f92a1c7f22bb",
            "a6b67d5dd3694f0ca1052590934c4658",
            "e58e3267d74341a8a096abb1f303266b",
            "d286815aa05d4551a5f43dcf3f10e590",
            "1b9f80c1125f44faab57cdbe47a13b98",
            "cf1bc2f7ae0f4bc281f2883b32e80a6c",
            "112f5f8813a94ed1be9a827d81fc277a",
            "fa2f89661fa34987869d15f910447e14",
            "c786c40315004074908af0247cbec3a4",
            "2ed025f53eeb4b04a66eab4a45cf419f"
          ]
        },
        "id": "bfcb9939-b1b0-4109-9f1f-d09cc3c5fa11",
        "outputId": "9d488345-e7a2-430f-9dcf-83853823bcee"
      },
      "outputs": [
        {
          "name": "stderr",
          "output_type": "stream",
          "text": [
            "100%|██████████| 50/50 [00:07<00:00,  6.95it/s]\n"
          ]
        }
      ],
      "source": [
        "from torchvision import models\n",
        "from torchvision import transforms as T\n",
        "\n",
        "# Define a model\n",
        "model = models.resnet50(weights=models.ResNet50_Weights.IMAGENET1K_V1)  # This one exists in the toolbox as well, it is just supposed to be an example!\n",
        "\n",
        "# Optional: Define Preprocessing transformations\n",
        "transforms = T.Compose([\n",
        "    T.Resize((224, 224)), \n",
        "    T.ToTensor(),\n",
        "    T.Normalize([0.485, 0.456, 0.406], [0.229, 0.224, 0.225])])\n",
        "\n",
        "# Define extractor (Note: NO NETSET NEEDED HERE)\n",
        "fx = FeatureExtractor(model=model, transforms=transforms, device='cpu')\n",
        "\n",
        "# Run extractor\n",
        "fx.extract(dataset_path=stimuli_path, save_format='npz', save_path='ResNet50_Feat', layers_to_extract=['layer1', 'layer2', 'layer3', 'layer4'])"
      ]
    }
  ],
  "metadata": {
    "colab": {
      "provenance": []
    },
    "kernelspec": {
      "display_name": "N2B",
      "language": "python",
      "name": "python3"
    },
    "language_info": {
      "codemirror_mode": {
        "name": "ipython",
        "version": 3
      },
      "file_extension": ".py",
      "mimetype": "text/x-python",
      "name": "python",
      "nbconvert_exporter": "python",
      "pygments_lexer": "ipython3",
      "version": "3.9.16"
    },
    "vscode": {
      "interpreter": {
        "hash": "2143370df03d7e8d8afb3cb32a8181ea228f5a6f13a304f592978240ae0036e6"
      }
    },
    "widgets": {
      "application/vnd.jupyter.widget-state+json": {
        "0bafe288788d46b58546f92a1c7f22bb": {
          "model_module": "@jupyter-widgets/controls",
          "model_module_version": "1.5.0",
          "model_name": "HTMLModel",
          "state": {
            "_dom_classes": [],
            "_model_module": "@jupyter-widgets/controls",
            "_model_module_version": "1.5.0",
            "_model_name": "HTMLModel",
            "_view_count": null,
            "_view_module": "@jupyter-widgets/controls",
            "_view_module_version": "1.5.0",
            "_view_name": "HTMLView",
            "description": "",
            "description_tooltip": null,
            "layout": "IPY_MODEL_1b9f80c1125f44faab57cdbe47a13b98",
            "placeholder": "​",
            "style": "IPY_MODEL_cf1bc2f7ae0f4bc281f2883b32e80a6c",
            "value": "100%"
          }
        },
        "112f5f8813a94ed1be9a827d81fc277a": {
          "model_module": "@jupyter-widgets/base",
          "model_module_version": "1.2.0",
          "model_name": "LayoutModel",
          "state": {
            "_model_module": "@jupyter-widgets/base",
            "_model_module_version": "1.2.0",
            "_model_name": "LayoutModel",
            "_view_count": null,
            "_view_module": "@jupyter-widgets/base",
            "_view_module_version": "1.2.0",
            "_view_name": "LayoutView",
            "align_content": null,
            "align_items": null,
            "align_self": null,
            "border": null,
            "bottom": null,
            "display": null,
            "flex": null,
            "flex_flow": null,
            "grid_area": null,
            "grid_auto_columns": null,
            "grid_auto_flow": null,
            "grid_auto_rows": null,
            "grid_column": null,
            "grid_gap": null,
            "grid_row": null,
            "grid_template_areas": null,
            "grid_template_columns": null,
            "grid_template_rows": null,
            "height": null,
            "justify_content": null,
            "justify_items": null,
            "left": null,
            "margin": null,
            "max_height": null,
            "max_width": null,
            "min_height": null,
            "min_width": null,
            "object_fit": null,
            "object_position": null,
            "order": null,
            "overflow": null,
            "overflow_x": null,
            "overflow_y": null,
            "padding": null,
            "right": null,
            "top": null,
            "visibility": null,
            "width": null
          }
        },
        "1b9f80c1125f44faab57cdbe47a13b98": {
          "model_module": "@jupyter-widgets/base",
          "model_module_version": "1.2.0",
          "model_name": "LayoutModel",
          "state": {
            "_model_module": "@jupyter-widgets/base",
            "_model_module_version": "1.2.0",
            "_model_name": "LayoutModel",
            "_view_count": null,
            "_view_module": "@jupyter-widgets/base",
            "_view_module_version": "1.2.0",
            "_view_name": "LayoutView",
            "align_content": null,
            "align_items": null,
            "align_self": null,
            "border": null,
            "bottom": null,
            "display": null,
            "flex": null,
            "flex_flow": null,
            "grid_area": null,
            "grid_auto_columns": null,
            "grid_auto_flow": null,
            "grid_auto_rows": null,
            "grid_column": null,
            "grid_gap": null,
            "grid_row": null,
            "grid_template_areas": null,
            "grid_template_columns": null,
            "grid_template_rows": null,
            "height": null,
            "justify_content": null,
            "justify_items": null,
            "left": null,
            "margin": null,
            "max_height": null,
            "max_width": null,
            "min_height": null,
            "min_width": null,
            "object_fit": null,
            "object_position": null,
            "order": null,
            "overflow": null,
            "overflow_x": null,
            "overflow_y": null,
            "padding": null,
            "right": null,
            "top": null,
            "visibility": null,
            "width": null
          }
        },
        "21959f75a3a4472085d63d036fca70b2": {
          "model_module": "@jupyter-widgets/base",
          "model_module_version": "1.2.0",
          "model_name": "LayoutModel",
          "state": {
            "_model_module": "@jupyter-widgets/base",
            "_model_module_version": "1.2.0",
            "_model_name": "LayoutModel",
            "_view_count": null,
            "_view_module": "@jupyter-widgets/base",
            "_view_module_version": "1.2.0",
            "_view_name": "LayoutView",
            "align_content": null,
            "align_items": null,
            "align_self": null,
            "border": null,
            "bottom": null,
            "display": null,
            "flex": null,
            "flex_flow": null,
            "grid_area": null,
            "grid_auto_columns": null,
            "grid_auto_flow": null,
            "grid_auto_rows": null,
            "grid_column": null,
            "grid_gap": null,
            "grid_row": null,
            "grid_template_areas": null,
            "grid_template_columns": null,
            "grid_template_rows": null,
            "height": null,
            "justify_content": null,
            "justify_items": null,
            "left": null,
            "margin": null,
            "max_height": null,
            "max_width": null,
            "min_height": null,
            "min_width": null,
            "object_fit": null,
            "object_position": null,
            "order": null,
            "overflow": null,
            "overflow_x": null,
            "overflow_y": null,
            "padding": null,
            "right": null,
            "top": null,
            "visibility": null,
            "width": null
          }
        },
        "2a88a7872a0941c498a3cf260b559177": {
          "model_module": "@jupyter-widgets/base",
          "model_module_version": "1.2.0",
          "model_name": "LayoutModel",
          "state": {
            "_model_module": "@jupyter-widgets/base",
            "_model_module_version": "1.2.0",
            "_model_name": "LayoutModel",
            "_view_count": null,
            "_view_module": "@jupyter-widgets/base",
            "_view_module_version": "1.2.0",
            "_view_name": "LayoutView",
            "align_content": null,
            "align_items": null,
            "align_self": null,
            "border": null,
            "bottom": null,
            "display": null,
            "flex": null,
            "flex_flow": null,
            "grid_area": null,
            "grid_auto_columns": null,
            "grid_auto_flow": null,
            "grid_auto_rows": null,
            "grid_column": null,
            "grid_gap": null,
            "grid_row": null,
            "grid_template_areas": null,
            "grid_template_columns": null,
            "grid_template_rows": null,
            "height": null,
            "justify_content": null,
            "justify_items": null,
            "left": null,
            "margin": null,
            "max_height": null,
            "max_width": null,
            "min_height": null,
            "min_width": null,
            "object_fit": null,
            "object_position": null,
            "order": null,
            "overflow": null,
            "overflow_x": null,
            "overflow_y": null,
            "padding": null,
            "right": null,
            "top": null,
            "visibility": null,
            "width": null
          }
        },
        "2ed025f53eeb4b04a66eab4a45cf419f": {
          "model_module": "@jupyter-widgets/controls",
          "model_module_version": "1.5.0",
          "model_name": "DescriptionStyleModel",
          "state": {
            "_model_module": "@jupyter-widgets/controls",
            "_model_module_version": "1.5.0",
            "_model_name": "DescriptionStyleModel",
            "_view_count": null,
            "_view_module": "@jupyter-widgets/base",
            "_view_module_version": "1.2.0",
            "_view_name": "StyleView",
            "description_width": ""
          }
        },
        "3587f70a049a47e1b344ce45039d527a": {
          "model_module": "@jupyter-widgets/controls",
          "model_module_version": "1.5.0",
          "model_name": "HTMLModel",
          "state": {
            "_dom_classes": [],
            "_model_module": "@jupyter-widgets/controls",
            "_model_module_version": "1.5.0",
            "_model_name": "HTMLModel",
            "_view_count": null,
            "_view_module": "@jupyter-widgets/controls",
            "_view_module_version": "1.5.0",
            "_view_name": "HTMLView",
            "description": "",
            "description_tooltip": null,
            "layout": "IPY_MODEL_21959f75a3a4472085d63d036fca70b2",
            "placeholder": "​",
            "style": "IPY_MODEL_b30be957a0994291b112cd066b758cb5",
            "value": "100%"
          }
        },
        "4c7a1d542761427791a841f9872d693f": {
          "model_module": "@jupyter-widgets/controls",
          "model_module_version": "1.5.0",
          "model_name": "HBoxModel",
          "state": {
            "_dom_classes": [],
            "_model_module": "@jupyter-widgets/controls",
            "_model_module_version": "1.5.0",
            "_model_name": "HBoxModel",
            "_view_count": null,
            "_view_module": "@jupyter-widgets/controls",
            "_view_module_version": "1.5.0",
            "_view_name": "HBoxView",
            "box_style": "",
            "children": [
              "IPY_MODEL_3587f70a049a47e1b344ce45039d527a",
              "IPY_MODEL_e72c50f12dda4c56b9dfc0fea87bc6a9",
              "IPY_MODEL_f1a4c2c8b3d94d0f821f0574b6434c85"
            ],
            "layout": "IPY_MODEL_d28eed3c3fab499686cb90629e65078f"
          }
        },
        "6e5efe2a9677426aa394c95d59889ada": {
          "model_module": "@jupyter-widgets/controls",
          "model_module_version": "1.5.0",
          "model_name": "HBoxModel",
          "state": {
            "_dom_classes": [],
            "_model_module": "@jupyter-widgets/controls",
            "_model_module_version": "1.5.0",
            "_model_name": "HBoxModel",
            "_view_count": null,
            "_view_module": "@jupyter-widgets/controls",
            "_view_module_version": "1.5.0",
            "_view_name": "HBoxView",
            "box_style": "",
            "children": [
              "IPY_MODEL_0bafe288788d46b58546f92a1c7f22bb",
              "IPY_MODEL_a6b67d5dd3694f0ca1052590934c4658",
              "IPY_MODEL_e58e3267d74341a8a096abb1f303266b"
            ],
            "layout": "IPY_MODEL_d286815aa05d4551a5f43dcf3f10e590"
          }
        },
        "9247d2b379c64cd3926e669ed3be60c5": {
          "model_module": "@jupyter-widgets/controls",
          "model_module_version": "1.5.0",
          "model_name": "DescriptionStyleModel",
          "state": {
            "_model_module": "@jupyter-widgets/controls",
            "_model_module_version": "1.5.0",
            "_model_name": "DescriptionStyleModel",
            "_view_count": null,
            "_view_module": "@jupyter-widgets/base",
            "_view_module_version": "1.2.0",
            "_view_name": "StyleView",
            "description_width": ""
          }
        },
        "940505c8262a4465aaaf109e8e2d5df8": {
          "model_module": "@jupyter-widgets/controls",
          "model_module_version": "1.5.0",
          "model_name": "ProgressStyleModel",
          "state": {
            "_model_module": "@jupyter-widgets/controls",
            "_model_module_version": "1.5.0",
            "_model_name": "ProgressStyleModel",
            "_view_count": null,
            "_view_module": "@jupyter-widgets/base",
            "_view_module_version": "1.2.0",
            "_view_name": "StyleView",
            "bar_color": null,
            "description_width": ""
          }
        },
        "a6b67d5dd3694f0ca1052590934c4658": {
          "model_module": "@jupyter-widgets/controls",
          "model_module_version": "1.5.0",
          "model_name": "FloatProgressModel",
          "state": {
            "_dom_classes": [],
            "_model_module": "@jupyter-widgets/controls",
            "_model_module_version": "1.5.0",
            "_model_name": "FloatProgressModel",
            "_view_count": null,
            "_view_module": "@jupyter-widgets/controls",
            "_view_module_version": "1.5.0",
            "_view_name": "ProgressView",
            "bar_style": "success",
            "description": "",
            "description_tooltip": null,
            "layout": "IPY_MODEL_112f5f8813a94ed1be9a827d81fc277a",
            "max": 244408911,
            "min": 0,
            "orientation": "horizontal",
            "style": "IPY_MODEL_fa2f89661fa34987869d15f910447e14",
            "value": 244408911
          }
        },
        "b30be957a0994291b112cd066b758cb5": {
          "model_module": "@jupyter-widgets/controls",
          "model_module_version": "1.5.0",
          "model_name": "DescriptionStyleModel",
          "state": {
            "_model_module": "@jupyter-widgets/controls",
            "_model_module_version": "1.5.0",
            "_model_name": "DescriptionStyleModel",
            "_view_count": null,
            "_view_module": "@jupyter-widgets/base",
            "_view_module_version": "1.2.0",
            "_view_name": "StyleView",
            "description_width": ""
          }
        },
        "c786c40315004074908af0247cbec3a4": {
          "model_module": "@jupyter-widgets/base",
          "model_module_version": "1.2.0",
          "model_name": "LayoutModel",
          "state": {
            "_model_module": "@jupyter-widgets/base",
            "_model_module_version": "1.2.0",
            "_model_name": "LayoutModel",
            "_view_count": null,
            "_view_module": "@jupyter-widgets/base",
            "_view_module_version": "1.2.0",
            "_view_name": "LayoutView",
            "align_content": null,
            "align_items": null,
            "align_self": null,
            "border": null,
            "bottom": null,
            "display": null,
            "flex": null,
            "flex_flow": null,
            "grid_area": null,
            "grid_auto_columns": null,
            "grid_auto_flow": null,
            "grid_auto_rows": null,
            "grid_column": null,
            "grid_gap": null,
            "grid_row": null,
            "grid_template_areas": null,
            "grid_template_columns": null,
            "grid_template_rows": null,
            "height": null,
            "justify_content": null,
            "justify_items": null,
            "left": null,
            "margin": null,
            "max_height": null,
            "max_width": null,
            "min_height": null,
            "min_width": null,
            "object_fit": null,
            "object_position": null,
            "order": null,
            "overflow": null,
            "overflow_x": null,
            "overflow_y": null,
            "padding": null,
            "right": null,
            "top": null,
            "visibility": null,
            "width": null
          }
        },
        "cf1bc2f7ae0f4bc281f2883b32e80a6c": {
          "model_module": "@jupyter-widgets/controls",
          "model_module_version": "1.5.0",
          "model_name": "DescriptionStyleModel",
          "state": {
            "_model_module": "@jupyter-widgets/controls",
            "_model_module_version": "1.5.0",
            "_model_name": "DescriptionStyleModel",
            "_view_count": null,
            "_view_module": "@jupyter-widgets/base",
            "_view_module_version": "1.2.0",
            "_view_name": "StyleView",
            "description_width": ""
          }
        },
        "d286815aa05d4551a5f43dcf3f10e590": {
          "model_module": "@jupyter-widgets/base",
          "model_module_version": "1.2.0",
          "model_name": "LayoutModel",
          "state": {
            "_model_module": "@jupyter-widgets/base",
            "_model_module_version": "1.2.0",
            "_model_name": "LayoutModel",
            "_view_count": null,
            "_view_module": "@jupyter-widgets/base",
            "_view_module_version": "1.2.0",
            "_view_name": "LayoutView",
            "align_content": null,
            "align_items": null,
            "align_self": null,
            "border": null,
            "bottom": null,
            "display": null,
            "flex": null,
            "flex_flow": null,
            "grid_area": null,
            "grid_auto_columns": null,
            "grid_auto_flow": null,
            "grid_auto_rows": null,
            "grid_column": null,
            "grid_gap": null,
            "grid_row": null,
            "grid_template_areas": null,
            "grid_template_columns": null,
            "grid_template_rows": null,
            "height": null,
            "justify_content": null,
            "justify_items": null,
            "left": null,
            "margin": null,
            "max_height": null,
            "max_width": null,
            "min_height": null,
            "min_width": null,
            "object_fit": null,
            "object_position": null,
            "order": null,
            "overflow": null,
            "overflow_x": null,
            "overflow_y": null,
            "padding": null,
            "right": null,
            "top": null,
            "visibility": null,
            "width": null
          }
        },
        "d28eed3c3fab499686cb90629e65078f": {
          "model_module": "@jupyter-widgets/base",
          "model_module_version": "1.2.0",
          "model_name": "LayoutModel",
          "state": {
            "_model_module": "@jupyter-widgets/base",
            "_model_module_version": "1.2.0",
            "_model_name": "LayoutModel",
            "_view_count": null,
            "_view_module": "@jupyter-widgets/base",
            "_view_module_version": "1.2.0",
            "_view_name": "LayoutView",
            "align_content": null,
            "align_items": null,
            "align_self": null,
            "border": null,
            "bottom": null,
            "display": null,
            "flex": null,
            "flex_flow": null,
            "grid_area": null,
            "grid_auto_columns": null,
            "grid_auto_flow": null,
            "grid_auto_rows": null,
            "grid_column": null,
            "grid_gap": null,
            "grid_row": null,
            "grid_template_areas": null,
            "grid_template_columns": null,
            "grid_template_rows": null,
            "height": null,
            "justify_content": null,
            "justify_items": null,
            "left": null,
            "margin": null,
            "max_height": null,
            "max_width": null,
            "min_height": null,
            "min_width": null,
            "object_fit": null,
            "object_position": null,
            "order": null,
            "overflow": null,
            "overflow_x": null,
            "overflow_y": null,
            "padding": null,
            "right": null,
            "top": null,
            "visibility": null,
            "width": null
          }
        },
        "e58e3267d74341a8a096abb1f303266b": {
          "model_module": "@jupyter-widgets/controls",
          "model_module_version": "1.5.0",
          "model_name": "HTMLModel",
          "state": {
            "_dom_classes": [],
            "_model_module": "@jupyter-widgets/controls",
            "_model_module_version": "1.5.0",
            "_model_name": "HTMLModel",
            "_view_count": null,
            "_view_module": "@jupyter-widgets/controls",
            "_view_module_version": "1.5.0",
            "_view_name": "HTMLView",
            "description": "",
            "description_tooltip": null,
            "layout": "IPY_MODEL_c786c40315004074908af0247cbec3a4",
            "placeholder": "​",
            "style": "IPY_MODEL_2ed025f53eeb4b04a66eab4a45cf419f",
            "value": " 233M/233M [00:02&lt;00:00, 78.5MB/s]"
          }
        },
        "e72c50f12dda4c56b9dfc0fea87bc6a9": {
          "model_module": "@jupyter-widgets/controls",
          "model_module_version": "1.5.0",
          "model_name": "FloatProgressModel",
          "state": {
            "_dom_classes": [],
            "_model_module": "@jupyter-widgets/controls",
            "_model_module_version": "1.5.0",
            "_model_name": "FloatProgressModel",
            "_view_count": null,
            "_view_module": "@jupyter-widgets/controls",
            "_view_module_version": "1.5.0",
            "_view_name": "ProgressView",
            "bar_style": "success",
            "description": "",
            "description_tooltip": null,
            "layout": "IPY_MODEL_2a88a7872a0941c498a3cf260b559177",
            "max": 102530333,
            "min": 0,
            "orientation": "horizontal",
            "style": "IPY_MODEL_940505c8262a4465aaaf109e8e2d5df8",
            "value": 102530333
          }
        },
        "f1a4c2c8b3d94d0f821f0574b6434c85": {
          "model_module": "@jupyter-widgets/controls",
          "model_module_version": "1.5.0",
          "model_name": "HTMLModel",
          "state": {
            "_dom_classes": [],
            "_model_module": "@jupyter-widgets/controls",
            "_model_module_version": "1.5.0",
            "_model_name": "HTMLModel",
            "_view_count": null,
            "_view_module": "@jupyter-widgets/controls",
            "_view_module_version": "1.5.0",
            "_view_name": "HTMLView",
            "description": "",
            "description_tooltip": null,
            "layout": "IPY_MODEL_f432fb8b5cc54077911006ffe0b5bf12",
            "placeholder": "​",
            "style": "IPY_MODEL_9247d2b379c64cd3926e669ed3be60c5",
            "value": " 97.8M/97.8M [00:00&lt;00:00, 140MB/s]"
          }
        },
        "f432fb8b5cc54077911006ffe0b5bf12": {
          "model_module": "@jupyter-widgets/base",
          "model_module_version": "1.2.0",
          "model_name": "LayoutModel",
          "state": {
            "_model_module": "@jupyter-widgets/base",
            "_model_module_version": "1.2.0",
            "_model_name": "LayoutModel",
            "_view_count": null,
            "_view_module": "@jupyter-widgets/base",
            "_view_module_version": "1.2.0",
            "_view_name": "LayoutView",
            "align_content": null,
            "align_items": null,
            "align_self": null,
            "border": null,
            "bottom": null,
            "display": null,
            "flex": null,
            "flex_flow": null,
            "grid_area": null,
            "grid_auto_columns": null,
            "grid_auto_flow": null,
            "grid_auto_rows": null,
            "grid_column": null,
            "grid_gap": null,
            "grid_row": null,
            "grid_template_areas": null,
            "grid_template_columns": null,
            "grid_template_rows": null,
            "height": null,
            "justify_content": null,
            "justify_items": null,
            "left": null,
            "margin": null,
            "max_height": null,
            "max_width": null,
            "min_height": null,
            "min_width": null,
            "object_fit": null,
            "object_position": null,
            "order": null,
            "overflow": null,
            "overflow_x": null,
            "overflow_y": null,
            "padding": null,
            "right": null,
            "top": null,
            "visibility": null,
            "width": null
          }
        },
        "fa2f89661fa34987869d15f910447e14": {
          "model_module": "@jupyter-widgets/controls",
          "model_module_version": "1.5.0",
          "model_name": "ProgressStyleModel",
          "state": {
            "_model_module": "@jupyter-widgets/controls",
            "_model_module_version": "1.5.0",
            "_model_name": "ProgressStyleModel",
            "_view_count": null,
            "_view_module": "@jupyter-widgets/base",
            "_view_module_version": "1.2.0",
            "_view_name": "StyleView",
            "bar_color": null,
            "description_width": ""
          }
        }
      }
    }
  },
  "nbformat": 4,
  "nbformat_minor": 5
}
