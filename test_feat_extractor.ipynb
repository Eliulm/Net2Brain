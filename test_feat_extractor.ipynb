{
  "cells": [
    {
      "cell_type": "markdown",
      "metadata": {
        "id": "ZnAvYFql78gX"
      },
      "source": [
        "# Trying out torch feature extraction"
      ]
    },
    {
      "cell_type": "code",
      "execution_count": null,
      "metadata": {
        "id": "LV56IyaY79wh"
      },
      "outputs": [],
      "source": [
        "!pip install -U git+https://github.com/cvai-roig-lab/Net2Brain@feature_extractor_update"
      ]
    },
    {
      "cell_type": "code",
      "execution_count": null,
      "metadata": {},
      "outputs": [],
      "source": [
        "from net2brain.feature_extraction import FeatureExtractor\n",
        "\n",
        "image_path = \"C:/Users/Domenic/Documents/Repositories/Net2Brain/notebooks/Workshops/bonner_pnas2017/stimuli_data\"\n",
        "video_path = \"C:/Users/Domenic/Documents/Repositories/Net2Brain/video_data\""
      ]
    },
    {
      "cell_type": "code",
      "execution_count": null,
      "metadata": {
        "id": "EFokhX4z78gZ"
      },
      "outputs": [],
      "source": [
        "from net2brain.utils.download_datasets import load_dataset\n",
        "stimuli_path, roi_path = load_dataset(\"bonner_pnas2017\")\n",
        "\n",
        "from net2brain.feature_extraction import FeatureExtractor\n",
        "\n",
        "#image_path = \"C:/Users/Domenic/Documents/Repositories/Net2Brain/notebooks/Workshops/bonner_pnas2017/stimuli_data\"\n",
        "#video_path = \"C:/Users/Domenic/Documents/Repositories/Net2Brain/video_data\"\n",
        "\n",
        "image_path = stimuli_path\n",
        "video_path = \"/content/videos\""
      ]
    },
    {
      "cell_type": "markdown",
      "metadata": {
        "id": "0cLvaBas78ga"
      },
      "source": [
        "# Try with Standard Models"
      ]
    },
    {
      "cell_type": "code",
      "execution_count": null,
      "metadata": {
        "id": "e03sEyLn78ga"
      },
      "outputs": [],
      "source": [
        "# CPU, pretrained\n",
        "\n",
        "extractor = FeatureExtractor(\"AlexNet\", \"Standard\", device=\"cpu\")\n",
        "layers_to_extract = extractor.layers_to_extract(image_path)\n",
        "print(layers_to_extract)\n",
        "\n",
        "extractor.extract([\"features.0\"])\n",
        "extractor.consolidate_per_layer()\n",
        "\n",
        "\n",
        "# CPU, pretrained=False\n",
        "\n",
        "extractor2 = FeatureExtractor(\"AlexNet\", \"Standard\", device=\"cpu\", pretrained=False)\n",
        "layers_to_extract = extractor2.layers_to_extract(image_path)\n",
        "print(layers_to_extract)\n",
        "\n",
        "extractor2.extract([\"features.0\"])\n",
        "extractor2.consolidate_per_layer()\n",
        "\n",
        "# cpu, pretrained\n",
        "\n",
        "extractor3 = FeatureExtractor(\"AlexNet\", \"Standard\", device=\"cpu\")\n",
        "layers_to_extract = extractor3.layers_to_extract(image_path)\n",
        "print(layers_to_extract)\n",
        "\n",
        "extractor3.extract()\n",
        "#extractor.consolidate_per_layer()\n",
        "\n",
        "\n",
        "\n",
        "# CPU, Videos, pretrained\n",
        "\n",
        "extractor3 = FeatureExtractor(\"AlexNet\", \"Standard\", device=\"cuda\")\n",
        "layers_to_extract = extractor3.layers_to_extract(video_path)\n",
        "print(layers_to_extract)\n",
        "\n",
        "extractor3.extract()\n",
        "extractor3.consolidate_per_layer()\n"
      ]
    },
    {
      "cell_type": "markdown",
      "metadata": {
        "id": "95D5L_VW78gb"
      },
      "source": [
        "# Try with Timm Models"
      ]
    },
    {
      "cell_type": "code",
      "execution_count": null,
      "metadata": {
        "id": "6COXCVgR78gb"
      },
      "outputs": [],
      "source": [
        "# CPU, pretrained\n",
        "\n",
        "extractor = FeatureExtractor(\"resnet18\", \"Timm\", device=\"cpu\")\n",
        "layers_to_extract = extractor.layers_to_extract(image_path)\n",
        "print(layers_to_extract)\n",
        "\n",
        "extractor.extract([\"conv1\"])\n",
        "extractor.consolidate_per_layer()\n",
        "\n",
        "\n",
        "# CPU, pretrained=False\n",
        "\n",
        "extractor = FeatureExtractor(\"resnet18\", \"Timm\", device=\"cpu\", pretrained=False)\n",
        "layers_to_extract = extractor.layers_to_extract(image_path)\n",
        "print(layers_to_extract)\n",
        "\n",
        "extractor.extract([\"conv1\"])\n",
        "extractor.consolidate_per_layer()\n",
        "\n",
        "# CUDA, pretrained\n",
        "\n",
        "extractor = FeatureExtractor(\"resnet18\", \"Timm\", device=\"cuda\")\n",
        "layers_to_extract = extractor.layers_to_extract(image_path)\n",
        "print(layers_to_extract)\n",
        "\n",
        "extractor.extract()\n",
        "#extractor.consolidate_per_layer()\n",
        "# extractor.consolidate_per_image\n",
        "\n",
        "\n",
        "# CPU, Videos, pretrained\n",
        "\n",
        "extractor = FeatureExtractor(\"resnet18\", \"Timm\", device=\"cuda\")\n",
        "layers_to_extract = extractor.layers_to_extract(image_path)\n",
        "print(layers_to_extract)\n",
        "\n",
        "extractor.extract()\n",
        "# extractor.consolidate_per_layer()\n"
      ]
    },
    {
      "cell_type": "markdown",
      "metadata": {
        "id": "rSfwjGti78gb"
      },
      "source": [
        "# Try with Taskonomy Models"
      ]
    },
    {
      "cell_type": "code",
      "execution_count": null,
      "metadata": {
        "id": "Oy-ZdB1778gc"
      },
      "outputs": [],
      "source": [
        "from net2brain.utils.download_datasets import load_dataset\n",
        "stimuli_path, roi_path = load_dataset(\"bonner_pnas2017\")\n",
        "\n",
        "from net2brain.feature_extraction import FeatureExtractor\n",
        "\n",
        "#image_path = \"C:/Users/Domenic/Documents/Repositories/Net2Brain/notebooks/Workshops/bonner_pnas2017/stimuli_data\"\n",
        "#video_path = \"C:/Users/Domenic/Documents/Repositories/Net2Brain/video_data\"\n",
        "\n",
        "image_path = stimuli_path\n",
        "video_path = \"/content/videos\"\n",
        "\n",
        "# CPU, pretrained\n",
        "\n",
        "extractor = FeatureExtractor(\"autoencoding\", \"Taskonomy\", device=\"cpu\")\n",
        "layers_to_extract = extractor.layers_to_extract(image_path)\n",
        "print(layers_to_extract)\n",
        "\n",
        "extractor.extract([\"conv1\"])\n",
        "extractor.consolidate_per_layer()\n",
        "\n",
        "\n",
        "# CPU, pretrained=False\n",
        "\n",
        "extractor = FeatureExtractor(\"autoencoding\", \"Taskonomy\", device=\"cpu\", pretrained=False)\n",
        "layers_to_extract = extractor.layers_to_extract(image_path)\n",
        "print(layers_to_extract)\n",
        "\n",
        "extractor.extract([\"conv1\"])\n",
        "extractor.consolidate_per_layer()\n",
        "\n",
        "# CUDA, pretrained\n",
        "\n",
        "extractor = FeatureExtractor(\"autoencoding\", \"Taskonomy\", device=\"cuda\")\n",
        "layers_to_extract = extractor.layers_to_extract(image_path)\n",
        "print(layers_to_extract)\n",
        "\n",
        "extractor.extract()\n",
        "#extractor.consolidate_per_layer()\n",
        "#extractor.consolidate_per_image\n",
        "\n",
        "\n",
        "# CPU, Videos, pretrained\n",
        "\n",
        "extractor = FeatureExtractor(\"autoencoding\", \"Taskonomy\", device=\"cuda\")\n",
        "layers_to_extract = extractor.layers_to_extract(video_path)\n",
        "print(layers_to_extract)\n",
        "\n",
        "extractor.extract()\n",
        "extractor.consolidate_per_layer()\n",
        "\n"
      ]
    },
    {
      "cell_type": "code",
      "execution_count": null,
      "metadata": {
        "id": "7cgiCr2_78gc"
      },
      "outputs": [],
      "source": [
        "# CPU, pretrained\n",
        "\n",
        "extractor = FeatureExtractor(\"colorization\", \"Taskonomy\", device=\"cpu\")\n",
        "layers_to_extract = extractor.layers_to_extract(image_path)\n",
        "print(layers_to_extract)\n",
        "\n",
        "extractor.extract([\"conv1\"])\n",
        "extractor.consolidate_per_layer()\n",
        "\n",
        "\n",
        "# CPU, pretrained=False\n",
        "\n",
        "extractor = FeatureExtractor(\"colorization\", \"Taskonomy\", device=\"cpu\", pretrained=False)\n",
        "layers_to_extract = extractor.layers_to_extract(image_path)\n",
        "print(layers_to_extract)\n",
        "\n",
        "extractor.extract([\"conv1\"])\n",
        "extractor.consolidate_per_layer()\n",
        "\n",
        "# CUDA, pretrained\n",
        "\n",
        "extractor = FeatureExtractor(\"colorization\", \"Taskonomy\", device=\"cuda\")\n",
        "layers_to_extract = extractor.layers_to_extract(image_path)\n",
        "print(layers_to_extract)\n",
        "\n",
        "extractor.extract()\n",
        "#extractor.consolidate_per_layer()\n",
        "#extractor.consolidate_per_image\n",
        "\n",
        "\n",
        "# CPU, Videos, pretrained\n",
        "\n",
        "extractor = FeatureExtractor(\"colorization\", \"Taskonomy\", device=\"cuda\")\n",
        "layers_to_extract = extractor.layers_to_extract(image_path)\n",
        "print(layers_to_extract)\n",
        "\n",
        "extractor.extract()\n",
        "extractor.consolidate_per_layer()\n"
      ]
    },
    {
      "cell_type": "markdown",
      "metadata": {
        "id": "YyCpsHmW78ge"
      },
      "source": [
        "# Try with Toolbox Models"
      ]
    },
    {
      "cell_type": "code",
      "execution_count": null,
      "metadata": {
        "id": "A-funnVl78ge"
      },
      "outputs": [],
      "source": [
        "# CPU, pretrained\n",
        "\n",
        "extractor = FeatureExtractor(\"Places365\", \"Toolbox\", device=\"cpu\")\n",
        "layers_to_extract = extractor.layers_to_extract(image_path)\n",
        "print(layers_to_extract)\n",
        "\n",
        "extractor.extract([\"model.1\"])\n",
        "extractor.consolidate_per_layer()\n",
        "\n",
        "\n",
        "# CPU, pretrained=False\n",
        "\n",
        "extractor = FeatureExtractor(\"Places365\", \"Toolbox\", device=\"cpu\", pretrained=False)\n",
        "layers_to_extract = extractor.layers_to_extract(image_path)\n",
        "print(layers_to_extract)\n",
        "\n",
        "extractor.extract([\"model.1\"])\n",
        "extractor.consolidate_per_layer()\n",
        "\n",
        "# CUDA, pretrained\n",
        "\n",
        "extractor = FeatureExtractor(\"Places365\", \"Toolbox\", device=\"cpu\")\n",
        "layers_to_extract = extractor.layers_to_extract(image_path)\n",
        "print(layers_to_extract)\n",
        "\n",
        "extractor.extract([\"model.1\"])\n",
        "#extractor.consolidate_per_layer()\n",
        "extractor.consolidate_per_image\n",
        "\n",
        "\n",
        "# CPU, Videos, pretrained\n",
        "\n",
        "extractor = FeatureExtractor(\"Places365\", \"Toolbox\", device=\"cpu\")\n",
        "layers_to_extract = extractor.layers_to_extract(video_path)\n",
        "print(layers_to_extract)\n",
        "\n",
        "extractor.extract([\"model.1\"])\n",
        "extractor.consolidate_per_layer()\n"
      ]
    },
    {
      "cell_type": "markdown",
      "metadata": {
        "id": "G-TSbJiA78ge"
      },
      "source": [
        "# Try with Torchhub Models"
      ]
    },
    {
      "cell_type": "code",
      "execution_count": null,
      "metadata": {
        "id": "K8Roz6e478gf"
      },
      "outputs": [],
      "source": [
        "# CPU, pretrained\n",
        "\n",
        "extractor = FeatureExtractor(\"deeplabv3_resnet101\", \"Pytorch\", device=\"cpu\")\n",
        "layers_to_extract = extractor.layers_to_extract(image_path)\n",
        "print(layers_to_extract)\n",
        "\n",
        "extractor.extract([\"backbone.conv1\"])\n",
        "extractor.consolidate_per_layer()\n",
        "\n",
        "\n",
        "# CPU, pretrained=False\n",
        "\n",
        "extractor = FeatureExtractor(\"deeplabv3_resnet101\", \"Pytorch\", device=\"cpu\", pretrained=False)\n",
        "layers_to_extract = extractor.layers_to_extract(image_path)\n",
        "print(layers_to_extract)\n",
        "\n",
        "extractor.extract([\"backbone.conv1\"])\n",
        "extractor.consolidate_per_layer()\n",
        "\n",
        "# CUDA, pretrained\n",
        "\n",
        "extractor = FeatureExtractor(\"deeplabv3_resnet101\", \"Pytorch\", device=\"cpu\")\n",
        "layers_to_extract = extractor.layers_to_extract(image_path)\n",
        "print(layers_to_extract)\n",
        "\n",
        "extractor.extract(\"backbone.conv1\")\n",
        "#extractor.consolidate_per_layer()\n",
        "extractor.consolidate_per_image\n",
        "\n",
        "\n",
        "# CPU, Videos, pretrained\n",
        "\n",
        "extractor = FeatureExtractor(\"deeplabv3_resnet101\", \"Pytorch\", device=\"cpu\")\n",
        "layers_to_extract = extractor.layers_to_extract(video_path)\n",
        "print(layers_to_extract)\n",
        "\n",
        "extractor.extract(\"backbone.conv1\")\n",
        "extractor.consolidate_per_layer()\n"
      ]
    },
    {
      "cell_type": "markdown",
      "metadata": {
        "id": "Gx4ac9i378gf"
      },
      "source": [
        "# Try with Cornet"
      ]
    },
    {
      "cell_type": "code",
      "execution_count": null,
      "metadata": {
        "id": "fI9DJbzF78gh"
      },
      "outputs": [],
      "source": [
        "# CPU, pretrained\n",
        "\n",
        "extractor = FeatureExtractor(\"cornet_rt\", \"Cornet\", device=\"cpu\")\n",
        "layers_to_extract = extractor.layers_to_extract(image_path)\n",
        "print(layers_to_extract)\n",
        "\n",
        "extractor.extract(['V1'])\n",
        "extractor.consolidate_per_layer()\n",
        "\n",
        "\n",
        "# CPU, pretrained=False\n",
        "\n",
        "extractor = FeatureExtractor(\"cornet_rt\", \"Cornet\", device=\"cpu\", pretrained=False)\n",
        "layers_to_extract = extractor.layers_to_extract(image_path)\n",
        "print(layers_to_extract)\n",
        "\n",
        "extractor.extract(['V1'])\n",
        "extractor.consolidate_per_layer()\n",
        "\n",
        "# CUDA, pretrained\n",
        "extractor = FeatureExtractor(\"cornet_rt\", \"Cornet\", device=\"cpu\")\n",
        "layers_to_extract = extractor.layers_to_extract(image_path)\n",
        "print(layers_to_extract)\n",
        "\n",
        "extractor.extract()\n",
        "#extractor.consolidate_per_layer()\n",
        "extractor.consolidate_per_image\n",
        "\n",
        "\n",
        "# CPU, Videos, pretrained\n",
        "\n",
        "extractor = FeatureExtractor(\"cornet_rt\", \"Cornet\", device=\"cpu\")\n",
        "layers_to_extract = extractor.layers_to_extract(video_path)\n",
        "print(layers_to_extract)\n",
        "\n",
        "extractor.extract()\n",
        "extractor.consolidate_per_layer()"
      ]
    },
    {
      "cell_type": "code",
      "execution_count": null,
      "metadata": {
        "id": "Y3Dfp_6e78gh"
      },
      "outputs": [],
      "source": [
        "# CPU, pretrained\n",
        "\n",
        "extractor = FeatureExtractor(\"cornet_z\", \"Cornet\", device=\"cpu\")\n",
        "layers_to_extract = extractor.layers_to_extract(image_path)\n",
        "print(layers_to_extract)\n",
        "\n",
        "extractor.extract(['V1'])\n",
        "extractor.consolidate_per_layer()\n",
        "\n",
        "\n",
        "# CPU, pretrained=False\n",
        "\n",
        "extractor = FeatureExtractor(\"cornet_z\", \"Cornet\", device=\"cpu\", pretrained=False)\n",
        "layers_to_extract = extractor.layers_to_extract(image_path)\n",
        "print(layers_to_extract)\n",
        "\n",
        "extractor.extract(['V1'])\n",
        "extractor.consolidate_per_layer()\n",
        "\n",
        "# CUDA, pretrained=\n",
        "\n",
        "extractor = FeatureExtractor(\"cornet_z\", \"Cornet\", device=\"cpu\")\n",
        "layers_to_extract = extractor.layers_to_extract(image_path)\n",
        "print(layers_to_extract)\n",
        "\n",
        "extractor.extract(['V1'])\n",
        "#extractor.consolidate_per_layer()\n",
        "extractor.consolidate_per_image\n",
        "\n",
        "\n",
        "# CPU, Videos, pretrained\n",
        "\n",
        "extractor = FeatureExtractor(\"cornet_z\", \"Cornet\", device=\"cpu\")\n",
        "layers_to_extract = extractor.layers_to_extract(video_path)\n",
        "print(layers_to_extract)\n",
        "\n",
        "extractor.extract(['V1'])\n",
        "extractor.consolidate_per_layer()"
      ]
    },
    {
      "cell_type": "markdown",
      "metadata": {
        "id": "_Pk0aVSh78gh"
      },
      "source": [
        "# Try with UNET"
      ]
    },
    {
      "cell_type": "code",
      "execution_count": null,
      "metadata": {
        "id": "AMDwFGHL78gh"
      },
      "outputs": [],
      "source": [
        "# CPU, pretrained\n",
        "\n",
        "extractor = FeatureExtractor(\"unet\", \"Unet\", device=\"cpu\")\n",
        "layers_to_extract = extractor.layers_to_extract(image_path)\n",
        "print(layers_to_extract)\n",
        "\n",
        "extractor.extract([\"encoder1\"])\n",
        "extractor.consolidate_per_layer()\n",
        "\n",
        "\n",
        "# CPU, pretrained=False\n",
        "\n",
        "extractor = FeatureExtractor(\"unet\", \"Unet\", device=\"cpu\", pretrained=False)\n",
        "layers_to_extract = extractor.layers_to_extract(image_path)\n",
        "print(layers_to_extract)\n",
        "\n",
        "extractor.extract([\"encoder1\"])\n",
        "extractor.consolidate_per_layer()\n",
        "\n",
        "# CUDA, pretrained\n",
        "\n",
        "extractor = FeatureExtractor(\"unet\", \"Unet\", device=\"cpu\")\n",
        "layers_to_extract = extractor.layers_to_extract(image_path)\n",
        "print(layers_to_extract)\n",
        "\n",
        "extractor.extract()\n",
        "#extractor.consolidate_per_layer()\n",
        "extractor.consolidate_per_image\n",
        "\n",
        "\n",
        "# CPU, Videos, pretrained\n",
        "\n",
        "extractor = FeatureExtractor(\"unet\", \"Unet\", device=\"cpu\")\n",
        "layers_to_extract = extractor.layers_to_extract(video_path)\n",
        "print(layers_to_extract)\n",
        "\n",
        "extractor.extract()\n",
        "extractor.consolidate_per_layer()\n",
        "\n"
      ]
    },
    {
      "cell_type": "markdown",
      "metadata": {
        "id": "THFutCmz78gh"
      },
      "source": [
        "# Try with CLIP"
      ]
    },
    {
      "cell_type": "code",
      "execution_count": null,
      "metadata": {
        "id": "MbWTiWTY78gi"
      },
      "outputs": [],
      "source": [
        "# CPU, pretrained\n",
        "\n",
        "extractor = FeatureExtractor(\"RN101\", \"Clip\", device=\"cpu\")\n",
        "layers_to_extract = extractor.layers_to_extract(image_path)\n",
        "print(layers_to_extract)\n",
        "\n",
        "extractor.extract([\"visual\"])\n",
        "extractor.consolidate_per_layer()\n",
        "\n",
        "\n",
        "# CPU, pretrained=False\n",
        "\n",
        "extractor = FeatureExtractor(\"RN101\", \"Clip\", device=\"cpu\", pretrained=False)\n",
        "layers_to_extract = extractor.layers_to_extract(image_path)\n",
        "print(layers_to_extract)\n",
        "\n",
        "extractor.extract([\"visual\"])\n",
        "extractor.consolidate_per_layer()\n",
        "\n",
        "# CUDA, pretrained\n",
        "\n",
        "extractor = FeatureExtractor(\"RN101\", \"Clip\", device=\"cpu\")\n",
        "layers_to_extract = extractor.layers_to_extract(image_path)\n",
        "print(layers_to_extract)\n",
        "\n",
        "extractor.extract()\n",
        "#extractor.consolidate_per_layer()\n",
        "extractor.consolidate_per_image\n",
        "\n",
        "\n",
        "# CPU, Videos, pretrained\n",
        "\n",
        "extractor = FeatureExtractor(\"RN101\", \"Clip\", device=\"cpu\")\n",
        "layers_to_extract = extractor.layers_to_extract(video_path)\n",
        "print(layers_to_extract)\n",
        "\n",
        "extractor.extract()\n",
        "extractor.consolidate_per_layer()\n"
      ]
    },
    {
      "cell_type": "markdown",
      "metadata": {
        "id": "Y0rR2k3078gj"
      },
      "source": [
        "# Try with YOLO"
      ]
    },
    {
      "cell_type": "code",
      "execution_count": null,
      "metadata": {
        "id": "Etu24srh78gj"
      },
      "outputs": [],
      "source": [
        "# CPU, pretrained\n",
        "\n",
        "extractor = FeatureExtractor(\"yolov5l\", \"Yolo\", device=\"cpu\")\n",
        "layers_to_extract = extractor.layers_to_extract(image_path)\n",
        "print(layers_to_extract)\n",
        "\n",
        "extractor.extract([\"model.model\"])\n",
        "extractor.consolidate_per_layer()\n",
        "\n",
        "\n",
        "# CPU, pretrained=False\n",
        "\n",
        "extractor = FeatureExtractor(\"yolov5l\", \"Yolo\", device=\"cpu\", pretrained=False)\n",
        "layers_to_extract = extractor.layers_to_extract(image_path)\n",
        "print(layers_to_extract)\n",
        "\n",
        "extractor.extract([\"model.model\"])\n",
        "extractor.consolidate_per_layer()\n",
        "\n",
        "# CUDA, pretrained\n",
        "\n",
        "extractor = FeatureExtractor(\"yolov5l\", \"Yolo\", device=\"cpu\")\n",
        "layers_to_extract = extractor.layers_to_extract(image_path)\n",
        "print(layers_to_extract)\n",
        "\n",
        "extractor.extract()\n",
        "#extractor.consolidate_per_layer()\n",
        "extractor.consolidate_per_image\n",
        "\n",
        "\n",
        "# CPU, Videos, pretrained\n",
        "\n",
        "extractor = FeatureExtractor(\"yolov5l\", \"Yolo\", device=\"cpu\")\n",
        "layers_to_extract = extractor.layers_to_extract(video_path)\n",
        "print(layers_to_extract)\n",
        "\n",
        "extractor.extract()\n",
        "extractor.consolidate_per_layer()\n"
      ]
    },
    {
      "cell_type": "markdown",
      "metadata": {
        "id": "m6G-oKS878gj"
      },
      "source": [
        "# Try with Pyvideo"
      ]
    },
    {
      "cell_type": "code",
      "execution_count": null,
      "metadata": {
        "id": "qj3eMDN-78gk"
      },
      "outputs": [],
      "source": [
        "\n",
        "\n",
        "# CPU, Videos, pretrained=True\n",
        "\n",
        "extractor = FeatureExtractor(\"slow_r50\", \"Pyvideo\", device=\"cpu\")\n",
        "layers_to_extract = extractor.layers_to_extract(video_path)\n",
        "print(layers_to_extract)\n",
        "\n",
        "extractor.extract([\"blocks.0\"])\n",
        "extractor.consolidate_per_layer()\n",
        "\n",
        "# CPU, Videos, pretrained=False\n",
        "\n",
        "extractor = FeatureExtractor(\"slow_r50\", \"Pyvideo\", device=\"cpu\", pretrained=False)\n",
        "layers_to_extract = extractor.layers_to_extract(video_path)\n",
        "print(layers_to_extract)\n",
        "\n",
        "extractor.extract()\n",
        "extractor.consolidate_per_layer()\n",
        "\n",
        "\n"
      ]
    },
    {
      "cell_type": "markdown",
      "metadata": {
        "id": "T-u4eNyh78gk"
      },
      "source": [
        "# Test Taxonomy"
      ]
    },
    {
      "cell_type": "code",
      "execution_count": null,
      "metadata": {
        "id": "PiLGlV-W78gk"
      },
      "outputs": [],
      "source": [
        "from net2brain.taxonomy import show_all_architectures\n",
        "from net2brain.taxonomy import show_all_netsets\n",
        "from net2brain.taxonomy import show_taxonomy\n",
        "from net2brain.taxonomy import print_netset_models\n",
        "\n",
        "from net2brain.taxonomy import find_model_like_name\n",
        "from net2brain.taxonomy import find_model_by_dataset\n",
        "from net2brain.taxonomy import find_model_by_training_method\n",
        "from net2brain.taxonomy import find_model_by_visual_task\n",
        "from net2brain.taxonomy import find_model_by_custom\n",
        "\n",
        "show_all_architectures()\n",
        "show_all_netsets()\n",
        "show_taxonomy()"
      ]
    },
    {
      "cell_type": "markdown",
      "metadata": {
        "id": "bLVdS02K78gl"
      },
      "source": [
        "# Open numpy files"
      ]
    },
    {
      "cell_type": "code",
      "execution_count": null,
      "metadata": {
        "id": "QBcm9IGb78gl"
      },
      "outputs": [],
      "source": [
        "# import numpy as np\n",
        "\n",
        "# data = np.load(r\"results\\2023_11_1_10_17\\features.0.npz\")\n",
        "\n",
        "# for key, values in data.items():\n",
        "#     print(key)\n",
        "#     print(values)"
      ]
    }
  ],
  "metadata": {
    "accelerator": "GPU",
    "colab": {
      "gpuType": "V100",
      "machine_shape": "hm",
      "provenance": []
    },
    "kernelspec": {
      "display_name": "Python 3",
      "name": "python3"
    },
    "language_info": {
      "codemirror_mode": {
        "name": "ipython",
        "version": 3
      },
      "file_extension": ".py",
      "mimetype": "text/x-python",
      "name": "python",
      "nbconvert_exporter": "python",
      "pygments_lexer": "ipython3",
      "version": "3.10.13"
    }
  },
  "nbformat": 4,
  "nbformat_minor": 0
}
