{
 "cells": [
  {
   "cell_type": "code",
   "execution_count": 1,
   "metadata": {},
   "outputs": [],
   "source": [
    "# Import class\n",
    "from net2brain.rdm_creation import RDMCreator"
   ]
  },
  {
   "cell_type": "markdown",
   "metadata": {},
   "source": [
    "### Loading generated features into the RDM Creator"
   ]
  },
  {
   "cell_type": "code",
   "execution_count": 2,
   "metadata": {},
   "outputs": [
    {
     "name": "stderr",
     "output_type": "stream",
     "text": [
      "100%|██████████| 78/78 [00:00<00:00, 421.82it/s]\n",
      "100%|██████████| 78/78 [00:00<00:00, 372.33it/s]\n",
      "100%|██████████| 78/78 [00:00<00:00, 457.34it/s]\n",
      "100%|██████████| 78/78 [00:00<00:00, 570.00it/s]\n",
      "100%|██████████| 78/78 [00:00<00:00, 635.64it/s]\n"
     ]
    }
   ],
   "source": [
    "feat_path = r\"feats\\05.11.22 15-21-39\"\n",
    "\n",
    "# Call the Class with the path to the feautures\n",
    "creator = RDMCreator(feat_path)  # distance defaults to perason-correlation\n",
    "creator.create_rdms()  # This will create the RDMs with "
   ]
  },
  {
   "cell_type": "markdown",
   "metadata": {},
   "source": [
    "### Edit save path and distance\n",
    "\n",
    "Available distances for now:\n",
    "1. pearson"
   ]
  },
  {
   "cell_type": "code",
   "execution_count": 3,
   "metadata": {},
   "outputs": [
    {
     "name": "stderr",
     "output_type": "stream",
     "text": [
      "100%|██████████| 78/78 [00:00<00:00, 453.34it/s]\n",
      "100%|██████████| 78/78 [00:00<00:00, 484.53it/s]\n",
      "100%|██████████| 78/78 [00:00<00:00, 615.50it/s]\n",
      "100%|██████████| 78/78 [00:00<00:00, 811.17it/s]\n",
      "100%|██████████| 78/78 [00:00<00:00, 828.60it/s]\n"
     ]
    }
   ],
   "source": [
    "feat_path = r\"feats\\05.11.22 15-21-39\"\n",
    "save_path = r\"./\"\n",
    "distance = \"pearson\"\n",
    "\n",
    "# Call the Class with the path to the feautures\n",
    "creator = RDMCreator(feat_path, save_path, distance=distance)  # distance defaults to perason-correlation\n",
    "creator.create_rdms()  # This will create the RDMs with "
   ]
  }
 ],
 "metadata": {
  "kernelspec": {
   "display_name": "Python 3.9.12 ('venv': venv)",
   "language": "python",
   "name": "python3"
  },
  "language_info": {
   "codemirror_mode": {
    "name": "ipython",
    "version": 3
   },
   "file_extension": ".py",
   "mimetype": "text/x-python",
   "name": "python",
   "nbconvert_exporter": "python",
   "pygments_lexer": "ipython3",
   "version": "3.9.12"
  },
  "orig_nbformat": 4,
  "vscode": {
   "interpreter": {
    "hash": "294e234b1e93c20fcffa132a6b8ba55b4f6313c611cdda9d884e3fc997a20e6d"
   }
  }
 },
 "nbformat": 4,
 "nbformat_minor": 2
}
