{
 "cells": [
  {
   "attachments": {},
   "cell_type": "markdown",
   "metadata": {},
   "source": [
    "### RSA Evaluation"
   ]
  },
  {
   "cell_type": "code",
   "execution_count": 1,
   "metadata": {},
   "outputs": [],
   "source": [
    "from net2brain.evaluations.rsa import RSA"
   ]
  },
  {
   "cell_type": "code",
   "execution_count": null,
   "metadata": {},
   "outputs": [],
   "source": [
    "model_rdms = r\"C:\\Users\\domenic.bersch\\Documents\\Repositories\\Net2Brain\\notebooks\\rdms\\02.02.23 17-18-08\"\n",
    "brain_rdms = r\"C:\\Users\\domenic.bersch\\Documents\\Repositories\\Net2Brain\\input_data\\brain_data\\78images\"\n",
    "\n",
    "evaluation = RSA(model_rdms, brain_rdms, save_path=\"./\")\n",
    "evaluation.evaluate()"
   ]
  },
  {
   "attachments": {},
   "cell_type": "markdown",
   "metadata": {},
   "source": [
    "### WRSA Evaluation"
   ]
  },
  {
   "cell_type": "code",
   "execution_count": null,
   "metadata": {},
   "outputs": [],
   "source": [
    "from net2brain.evaluations.weighted_rsa import WRSA\n",
    "\n",
    "model_rdms = r\"C:\\Users\\domenic.bersch\\Documents\\Repositories\\Net2Brain\\notebooks\\rdms\\02.02.23 17-18-08\"\n",
    "brain_rdms = r\"C:\\Users\\domenic.bersch\\Documents\\Repositories\\Net2Brain\\input_data\\brain_data\\78images\"\n",
    "\n",
    "evaluation = WRSA(model_rdms, brain_rdms, save_path=\"./\")\n",
    "evaluation.evaluate()"
   ]
  },
  {
   "attachments": {},
   "cell_type": "markdown",
   "metadata": {},
   "source": [
    "### Searchlight\n",
    "This module takes only one Searchlight RDM as input\n",
    "\n",
    "HAS NOT BEEN TESTED YET"
   ]
  },
  {
   "cell_type": "code",
   "execution_count": null,
   "metadata": {},
   "outputs": [],
   "source": [
    "from net2brain.evaluations.searchlight import Searchlight\n",
    "model_rdms = r\"C:\\Users\\domenic.bersch\\Documents\\Repositories\\Net2Brain\\notebooks\\rdms\\02.02.23 17-18-08\"\n",
    "searchlight_rdm = r\".\"\n",
    "\n",
    "evaluation = Searchlight(model_rdms, searchlight_rdm, save_path=\"./\")\n",
    "evaluation.evaluate()"
   ]
  }
 ],
 "metadata": {
  "kernelspec": {
   "display_name": "N2B",
   "language": "python",
   "name": "python3"
  },
  "language_info": {
   "codemirror_mode": {
    "name": "ipython",
    "version": 3
   },
   "file_extension": ".py",
   "mimetype": "text/x-python",
   "name": "python",
   "nbconvert_exporter": "python",
   "pygments_lexer": "ipython3",
   "version": "3.8.16"
  },
  "orig_nbformat": 4,
  "vscode": {
   "interpreter": {
    "hash": "2143370df03d7e8d8afb3cb32a8181ea228f5a6f13a304f592978240ae0036e6"
   }
  }
 },
 "nbformat": 4,
 "nbformat_minor": 2
}
