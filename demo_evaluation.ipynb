{
 "cells": [
  {
   "cell_type": "code",
   "execution_count": 2,
   "metadata": {},
   "outputs": [
    {
     "name": "stderr",
     "output_type": "stream",
     "text": [
      "c:\\Users\\domenic.bersch\\Anaconda3\\envs\\N2B\\lib\\site-packages\\tqdm\\auto.py:22: TqdmWarning: IProgress not found. Please update jupyter and ipywidgets. See https://ipywidgets.readthedocs.io/en/stable/user_install.html\n",
      "  from .autonotebook import tqdm as notebook_tqdm\n"
     ]
    },
    {
     "name": "stdout",
     "output_type": "stream",
     "text": [
      "vissl models are not installed\n",
      "detectron2 is not installed.\n"
     ]
    },
    {
     "ename": "ImportError",
     "evalue": "cannot import name 'print_all_evaluations' from 'net2brain.feature_extraction' (c:\\Users\\domenic.bersch\\Anaconda3\\envs\\N2B\\lib\\site-packages\\net2brain\\feature_extraction.py)",
     "output_type": "error",
     "traceback": [
      "\u001b[1;31m---------------------------------------------------------------------------\u001b[0m",
      "\u001b[1;31mImportError\u001b[0m                               Traceback (most recent call last)",
      "Cell \u001b[1;32mIn[2], line 1\u001b[0m\n\u001b[1;32m----> 1\u001b[0m \u001b[39mfrom\u001b[39;00m \u001b[39mnet2brain\u001b[39;00m\u001b[39m.\u001b[39;00m\u001b[39mfeature_extraction\u001b[39;00m \u001b[39mimport\u001b[39;00m print_all_evaluations\n\u001b[0;32m      3\u001b[0m print_all_evaluations()\n",
      "\u001b[1;31mImportError\u001b[0m: cannot import name 'print_all_evaluations' from 'net2brain.feature_extraction' (c:\\Users\\domenic.bersch\\Anaconda3\\envs\\N2B\\lib\\site-packages\\net2brain\\feature_extraction.py)"
     ]
    }
   ],
   "source": [
    "from net2brain.feature_extraction import print_all_evaluations\n",
    "\n",
    "print_all_evaluations()"
   ]
  },
  {
   "attachments": {},
   "cell_type": "markdown",
   "metadata": {},
   "source": [
    "### RSA Evaluation"
   ]
  },
  {
   "cell_type": "code",
   "execution_count": 1,
   "metadata": {},
   "outputs": [],
   "source": [
    "from net2brain.evaluations.rsa import RSA"
   ]
  },
  {
   "cell_type": "code",
   "execution_count": null,
   "metadata": {},
   "outputs": [],
   "source": [
    "model_rdms = r\"C:\\Users\\domenic.bersch\\Documents\\Repositories\\Net2Brain\\notebooks\\rdms\\02.02.23 17-18-08\"\n",
    "brain_rdms = r\"C:\\Users\\domenic.bersch\\Documents\\Repositories\\Net2Brain\\input_data\\brain_data\\78images\"\n",
    "\n",
    "evaluation = RSA(model_rdms, brain_rdms, datatype=\"fmri\", save_path=\"./\")\n",
    "evaluation.evaluate()"
   ]
  },
  {
   "attachments": {},
   "cell_type": "markdown",
   "metadata": {},
   "source": [
    "### WRSA Evaluation"
   ]
  },
  {
   "cell_type": "code",
   "execution_count": null,
   "metadata": {},
   "outputs": [],
   "source": [
    "from net2brain.evaluations.weighted_rsa import WRSA\n",
    "\n",
    "model_rdms = r\"C:\\Users\\domenic.bersch\\Documents\\Repositories\\Net2Brain\\notebooks\\rdms\\02.02.23 17-18-08\"\n",
    "brain_rdms = r\"C:\\Users\\domenic.bersch\\Documents\\Repositories\\Net2Brain\\input_data\\brain_data\\78images\"\n",
    "\n",
    "evaluation = WRSA(model_rdms, brain_rdms, datatype=\"fmri\", save_path=\"./\")\n",
    "evaluation.evaluate()"
   ]
  },
  {
   "attachments": {},
   "cell_type": "markdown",
   "metadata": {},
   "source": [
    "### Searchlight\n",
    "This module takes only one Searchlight RDM as input\n",
    "\n",
    "HAS NOT BEEN TESTED YET"
   ]
  },
  {
   "cell_type": "code",
   "execution_count": null,
   "metadata": {},
   "outputs": [],
   "source": [
    "from net2brain.evaluations.searchlight import Searchlight\n",
    "model_rdms = r\"C:\\Users\\domenic.bersch\\Documents\\Repositories\\Net2Brain\\notebooks\\rdms\\02.02.23 17-18-08\"\n",
    "searchlight_rdm = r\".\"\n",
    "\n",
    "evaluation = Searchlight(model_rdms, searchlight_rdm, save_path=\"./\")\n",
    "evaluation.evaluate()"
   ]
  }
 ],
 "metadata": {
  "kernelspec": {
   "display_name": "N2B",
   "language": "python",
   "name": "python3"
  },
  "language_info": {
   "codemirror_mode": {
    "name": "ipython",
    "version": 3
   },
   "file_extension": ".py",
   "mimetype": "text/x-python",
   "name": "python",
   "nbconvert_exporter": "python",
   "pygments_lexer": "ipython3",
   "version": "3.8.16"
  },
  "orig_nbformat": 4,
  "vscode": {
   "interpreter": {
    "hash": "2143370df03d7e8d8afb3cb32a8181ea228f5a6f13a304f592978240ae0036e6"
   }
  }
 },
 "nbformat": 4,
 "nbformat_minor": 2
}
